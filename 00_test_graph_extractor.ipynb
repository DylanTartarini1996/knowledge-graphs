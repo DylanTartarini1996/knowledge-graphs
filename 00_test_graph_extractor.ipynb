{
 "cells": [
  {
   "cell_type": "code",
   "execution_count": 1,
   "metadata": {},
   "outputs": [],
   "source": [
    "from typing import List, Optional, Dict\n",
    "from langchain_core.load.serializable import Serializable\n",
    "from pydantic import BaseModel, Field\n",
    "# from langchain_neo4j.graphs.graph_document import Relationship, Node\n",
    "\n",
    "from src.config import LLMConf\n",
    "from src.schema import Ontology\n",
    "from src.agents.llm import fetch_llm\n",
    "from src.prompts.graph_extractor import get_graph_extractor_prompt"
   ]
  },
  {
   "cell_type": "code",
   "execution_count": 14,
   "metadata": {},
   "outputs": [],
   "source": [
    "llm_conf = LLMConf(\n",
    "    type=\"ollama\",\n",
    "    model=\"llama3.2:latest\", \n",
    "    temperature=0.0, \n",
    ")\n",
    "\n",
    "llm = fetch_llm(llm_conf)\n",
    "\n",
    "class Node(Serializable):\n",
    "    id: str\n",
    "    type: str\n",
    "    properties: Optional[Dict[str, str]] = None\n",
    "\n",
    "\n",
    "class Relationship(Serializable):\n",
    "    source: str\n",
    "    target: str\n",
    "    type: str\n",
    "    properties: Optional[Dict[str, str]] = None\n",
    "\n",
    "\n",
    "class Graph(Serializable):\n",
    "    \"\"\" \n",
    "    Represents a graph consisting of nodes and relationships.\n",
    "\n",
    "    Attributes:\n",
    "        nodes (List[Node]): A list of nodes in the graph.\n",
    "        relationships (List[Relationship]): A list of relationships in the graph.\n",
    "    \"\"\"\n",
    "    nodes: List[Node]\n",
    "    relationships: List[Relationship]\n",
    "\n",
    "prompt = get_graph_extractor_prompt()"
   ]
  },
  {
   "cell_type": "code",
   "execution_count": 15,
   "metadata": {},
   "outputs": [
    {
     "data": {
      "text/plain": [
       "ChatOllama(model='llama3.2:latest', temperature=0.0)"
      ]
     },
     "execution_count": 15,
     "metadata": {},
     "output_type": "execute_result"
    }
   ],
   "source": [
    "llm"
   ]
  },
  {
   "cell_type": "code",
   "execution_count": 16,
   "metadata": {},
   "outputs": [
    {
     "name": "stdout",
     "output_type": "stream",
     "text": [
      "\n",
      "        You are a top-tier algorithm designed for extracting information in structured formats to build a Knowledge Graph.\n",
      "\n",
      "        Your task is to extract informations in the form of Nodes and Relationships from an INPUT TEXT.\n",
      "\n",
      "        - NODES represent entities and concepts.\n",
      "        - RELATIONSHIPS represents the connections between nodes.\n",
      "        - The aim is to achieve simplicity and clarity in the knowledge graph, making it accessible for a vast audience.\n",
      "\n",
      "        ------\n",
      "        RULES\n",
      "        ------\n",
      "\n",
      "        1. FORMAT\n",
      "        You MUST return ONLY Graph extracted from the INPUT TEXT. Do not add anything else. \n",
      "        Remember that a Graph is defined as \n",
      "\n",
      "        ````\n",
      "        class Graph(BaseModel):\n",
      "            ''' \n",
      "            Represents a graph consisting of nodes and relationships.\n",
      "\n",
      "            Attributes:\n",
      "                nodes (List[Node]): A list of nodes in the graph.\n",
      "                relationships (List[Relationship]): A list of relationships in the graph.\n",
      "            '''\n",
      "            nodes: List[Node]\n",
      "            relationships: List[Relationship]\n",
      "        ````\n",
      "\n",
      "        where Nodes and Relationships are defined as\n",
      "\n",
      "        ````\n",
      "        class Node(BaseModel):\n",
      "            '''\n",
      "            Represents a node in a graph with associated properties.\n",
      "\n",
      "            Attributes:\n",
      "                id (str): A unique identifier for the node.\n",
      "                type (str): The type or label of the node.\n",
      "                properties (dict): Additional properties and metadata associated with the node.\n",
      "            '''\n",
      "            id: str\n",
      "            type: str\n",
      "            properties: Optional[dict] = None\n",
      "        ````\n",
      "\n",
      "        and \n",
      "\n",
      "        ````\n",
      "        class Relationship(BaseModel):\n",
      "            '''\n",
      "            Represents a directed relationship between two nodes in a Graph.\n",
      "\n",
      "            Attributes:\n",
      "                source (Node): The source node of the relationship.\n",
      "                target (Node): The target node of the relationship.\n",
      "                type (str): The type of the relationship.\n",
      "                properties (dict): Additional properties associated with the relationship.\n",
      "            '''\n",
      "            source: Node\n",
      "            target: Node\n",
      "            type: str\n",
      "            properties: Optional[dict] = None\n",
      "        ````\n",
      "\n",
      "        2. NUMERICAL DATA AND DATES\n",
      "        - Numerical data, like age or other related information, should be incorporated as attributes or properties of the respective nodes.\n",
      "        -  Do not create separate nodes for dates or numerical values. Always attach them as attributes or properties of nodes.\n",
      "        - Properties must be in a key-value format.\n",
      "        - Never use escaped single or double quotes within property values.\n",
      "        - Use camelCase for property keys, e.g., `birthDate`.\n",
      "\n",
      "\n",
      "       3. ENTITY CONSISTENCY\n",
      "        When extracting entities, it's vital to ensure consistency.\n",
      "        If an entity, such as \"John Doe\", is mentioned multiple times in the text but is referred to by different names or pronouns (e.g., \"Joe\", \"he\"),\n",
      "        always use the most complete identifier for that entity throughout the knowledge graph. In this example, use \"John Doe\" as the entity ID.\n",
      "        Remember, the knowledge graph should be coherent and easily understandable, so maintaining consistency in entity references is crucial.\n",
      "        ## 5. Strict Compliance\n",
      "        Adhere to the rules strictly. Non-compliance will result in termination.\n",
      "\n",
      "\n",
      "        4. ALLOWED LABELS AND RELATIONSHIPS\n",
      "        - If provided with allowed labels and relationship types then you MUST use only those as possible outcomes. \n",
      "        - If labels and relationships are not provided, you are free to use any label and relationship you see fit. \n",
      "\n",
      "        ------------\n",
      "        \n",
      "        ALLOWED NODE LABELS: {allowed_labels}\n",
      "        NODE LABELS DESCRIPTIONS: {labels_descriptions}\n",
      "        ALLOWED RELATIONSHIPS TYPES: {allowed_relationships}\n",
      "\n",
      "        ## Begin Extraction!\n",
      "        INPUT TEXT: {input_text}\n",
      "    \n"
     ]
    }
   ],
   "source": [
    "print(prompt.template)"
   ]
  },
  {
   "cell_type": "code",
   "execution_count": 17,
   "metadata": {},
   "outputs": [],
   "source": [
    "ontology = Ontology(allowed_labels=[\"Person\", \"City\", \"Country\", \"Region\"], allowed_relations=[\"LIVES_IN\", \"BORN_IN\"])\n",
    "\n",
    "prompt.partial_variables = {\n",
    "    'allowed_labels':ontology.allowed_labels if ontology.allowed_labels else \"\", \n",
    "    'labels_descriptions': ontology.labels_descriptions if ontology.labels_descriptions else \"\", \n",
    "    'allowed_relationships': ontology.allowed_relations if ontology.allowed_relations else \"\"\n",
    "}\n"
   ]
  },
  {
   "cell_type": "code",
   "execution_count": 18,
   "metadata": {},
   "outputs": [
    {
     "name": "stdout",
     "output_type": "stream",
     "text": [
      "\n",
      "        You are a top-tier algorithm designed for extracting information in structured formats to build a Knowledge Graph.\n",
      "\n",
      "        Your task is to extract informations in the form of Nodes and Relationships from an INPUT TEXT.\n",
      "\n",
      "        - NODES represent entities and concepts.\n",
      "        - RELATIONSHIPS represents the connections between nodes.\n",
      "        - The aim is to achieve simplicity and clarity in the knowledge graph, making it accessible for a vast audience.\n",
      "\n",
      "        ------\n",
      "        RULES\n",
      "        ------\n",
      "\n",
      "        1. FORMAT\n",
      "        You MUST return ONLY Graph extracted from the INPUT TEXT. Do not add anything else. \n",
      "        Remember that a Graph is defined as \n",
      "\n",
      "        ````\n",
      "        class Graph(BaseModel):\n",
      "            ''' \n",
      "            Represents a graph consisting of nodes and relationships.\n",
      "\n",
      "            Attributes:\n",
      "                nodes (List[Node]): A list of nodes in the graph.\n",
      "                relationships (List[Relationship]): A list of relationships in the graph.\n",
      "            '''\n",
      "            nodes: List[Node]\n",
      "            relationships: List[Relationship]\n",
      "        ````\n",
      "\n",
      "        where Nodes and Relationships are defined as\n",
      "\n",
      "        ````\n",
      "        class Node(BaseModel):\n",
      "            '''\n",
      "            Represents a node in a graph with associated properties.\n",
      "\n",
      "            Attributes:\n",
      "                id (str): A unique identifier for the node.\n",
      "                type (str): The type or label of the node.\n",
      "                properties (dict): Additional properties and metadata associated with the node.\n",
      "            '''\n",
      "            id: str\n",
      "            type: str\n",
      "            properties: Optional[dict] = None\n",
      "        ````\n",
      "\n",
      "        and \n",
      "\n",
      "        ````\n",
      "        class Relationship(BaseModel):\n",
      "            '''\n",
      "            Represents a directed relationship between two nodes in a Graph.\n",
      "\n",
      "            Attributes:\n",
      "                source (Node): The source node of the relationship.\n",
      "                target (Node): The target node of the relationship.\n",
      "                type (str): The type of the relationship.\n",
      "                properties (dict): Additional properties associated with the relationship.\n",
      "            '''\n",
      "            source: Node\n",
      "            target: Node\n",
      "            type: str\n",
      "            properties: Optional[dict] = None\n",
      "        ````\n",
      "\n",
      "        2. NUMERICAL DATA AND DATES\n",
      "        - Numerical data, like age or other related information, should be incorporated as attributes or properties of the respective nodes.\n",
      "        -  Do not create separate nodes for dates or numerical values. Always attach them as attributes or properties of nodes.\n",
      "        - Properties must be in a key-value format.\n",
      "        - Never use escaped single or double quotes within property values.\n",
      "        - Use camelCase for property keys, e.g., `birthDate`.\n",
      "\n",
      "\n",
      "       3. ENTITY CONSISTENCY\n",
      "        When extracting entities, it's vital to ensure consistency.\n",
      "        If an entity, such as \"John Doe\", is mentioned multiple times in the text but is referred to by different names or pronouns (e.g., \"Joe\", \"he\"),\n",
      "        always use the most complete identifier for that entity throughout the knowledge graph. In this example, use \"John Doe\" as the entity ID.\n",
      "        Remember, the knowledge graph should be coherent and easily understandable, so maintaining consistency in entity references is crucial.\n",
      "        ## 5. Strict Compliance\n",
      "        Adhere to the rules strictly. Non-compliance will result in termination.\n",
      "\n",
      "\n",
      "        4. ALLOWED LABELS AND RELATIONSHIPS\n",
      "        - If provided with allowed labels and relationship types then you MUST use only those as possible outcomes. \n",
      "        - If labels and relationships are not provided, you are free to use any label and relationship you see fit. \n",
      "\n",
      "        ------------\n",
      "        \n",
      "        ALLOWED NODE LABELS: ['Person', 'City', 'Country', 'Region']\n",
      "        NODE LABELS DESCRIPTIONS: \n",
      "        ALLOWED RELATIONSHIPS TYPES: ['LIVES_IN', 'BORN_IN']\n",
      "\n",
      "        ## Begin Extraction!\n",
      "        INPUT TEXT:  \n",
      "    Meet Marco Rossi, a proud native of Rome, Italy. With a passion for pasta and a love for football, \n",
      "    Marco embodies the vibrant spirit of his homeland. \n",
      "    Growing up amidst the ancient ruins and bustling piazzas of Rome, Marco developed \n",
      "    a deep appreciation for his city's rich history and cultural heritage. \n",
      "    From the iconic Colosseum to the majestic Vatican City, he has explored every corner of the Eternal City, \n",
      "    finding beauty in its timeless landmarks and hidden gems. \n",
      "    Italy, with its delectable cuisine and stunning landscapes, has always been Marco's playground. \n",
      "    From the rolling hills of Tuscany to the sparkling waters of the Amalfi Coast,\n",
      "    he has embraced the diversity and beauty of his country, taking pride in its traditions and way of life.\n",
      "\n",
      "    \n"
     ]
    }
   ],
   "source": [
    "text= \"\"\" \n",
    "    Meet Marco Rossi, a proud native of Rome, Italy. With a passion for pasta and a love for football, \n",
    "    Marco embodies the vibrant spirit of his homeland. \n",
    "    Growing up amidst the ancient ruins and bustling piazzas of Rome, Marco developed \n",
    "    a deep appreciation for his city's rich history and cultural heritage. \n",
    "    From the iconic Colosseum to the majestic Vatican City, he has explored every corner of the Eternal City, \n",
    "    finding beauty in its timeless landmarks and hidden gems. \n",
    "    Italy, with its delectable cuisine and stunning landscapes, has always been Marco's playground. \n",
    "    From the rolling hills of Tuscany to the sparkling waters of the Amalfi Coast,\n",
    "    he has embraced the diversity and beauty of his country, taking pride in its traditions and way of life.\n",
    "\"\"\"\n",
    "\n",
    "print(prompt.format(input_text=text))"
   ]
  },
  {
   "cell_type": "code",
   "execution_count": 19,
   "metadata": {},
   "outputs": [],
   "source": [
    "output = llm.with_structured_output(schema=Graph).invoke(input=prompt.format(input_text=text))"
   ]
  },
  {
   "cell_type": "code",
   "execution_count": 20,
   "metadata": {},
   "outputs": [
    {
     "data": {
      "text/plain": [
       "Graph(nodes=[Node(id='Marco_Rossi', type='Person', properties={'birthPlace': 'Rome', 'hometown': 'Italy'}), Node(id='Rome', type='City', properties={'country': 'Italy'}), Node(id='Italy', type='Country', properties={'region': 'Lazio'}), Node(id='Tuscany', type='Region', properties={'coastalArea': 'Amalfi Coast'})], relationships=[Relationship(source='Marco_Rossi', target='Rome', type='LIVES_IN'), Relationship(source='Rome', target='Italy', type='PART_OF'), Relationship(source='Italy', target='Tuscany', type='REGION_OF'), Relationship(source='Tuscany', target='Amalfi Coast', type='COASTAL_REGION')])"
      ]
     },
     "execution_count": 20,
     "metadata": {},
     "output_type": "execute_result"
    }
   ],
   "source": [
    "output"
   ]
  },
  {
   "cell_type": "code",
   "execution_count": 21,
   "metadata": {},
   "outputs": [
    {
     "data": {
      "text/plain": [
       "[Relationship(source='Marco_Rossi', target='Rome', type='LIVES_IN'),\n",
       " Relationship(source='Rome', target='Italy', type='PART_OF'),\n",
       " Relationship(source='Italy', target='Tuscany', type='REGION_OF'),\n",
       " Relationship(source='Tuscany', target='Amalfi Coast', type='COASTAL_REGION')]"
      ]
     },
     "execution_count": 21,
     "metadata": {},
     "output_type": "execute_result"
    }
   ],
   "source": [
    "output.relationships"
   ]
  },
  {
   "cell_type": "code",
   "execution_count": 22,
   "metadata": {},
   "outputs": [
    {
     "data": {
      "text/plain": [
       "[Node(id='Marco_Rossi', type='Person', properties={'birthPlace': 'Rome', 'hometown': 'Italy'}),\n",
       " Node(id='Rome', type='City', properties={'country': 'Italy'}),\n",
       " Node(id='Italy', type='Country', properties={'region': 'Lazio'}),\n",
       " Node(id='Tuscany', type='Region', properties={'coastalArea': 'Amalfi Coast'})]"
      ]
     },
     "execution_count": 22,
     "metadata": {},
     "output_type": "execute_result"
    }
   ],
   "source": [
    "output.nodes"
   ]
  }
 ],
 "metadata": {
  "kernelspec": {
   "display_name": ".venv",
   "language": "python",
   "name": "python3"
  },
  "language_info": {
   "codemirror_mode": {
    "name": "ipython",
    "version": 3
   },
   "file_extension": ".py",
   "mimetype": "text/x-python",
   "name": "python",
   "nbconvert_exporter": "python",
   "pygments_lexer": "ipython3",
   "version": "3.12.4"
  }
 },
 "nbformat": 4,
 "nbformat_minor": 2
}
