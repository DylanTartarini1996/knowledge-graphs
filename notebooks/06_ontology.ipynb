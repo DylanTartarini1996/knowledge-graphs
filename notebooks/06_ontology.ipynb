{
 "cells": [
  {
   "cell_type": "code",
   "execution_count": null,
   "metadata": {},
   "outputs": [],
   "source": [
    "import os\n",
    "from dotenv import load_dotenv\n",
    "\n",
    "from src.agents.graph_qa import GraphAgentResponder\n",
    "from src.config import LLMConf, EmbedderConf, KnowledgeGraphConfig, ChunkerConf, Source\n",
    "from src.graph.graph_model import Ontology\n",
    "from src.graph.knowledge_graph import KnowledgeGraph\n",
    "from src.ingestion.local_ingestor import LocalIngestor\n",
    "from src.ingestion.chunker import Chunker\n",
    "from src.ingestion.cleaner import Cleaner\n",
    "from src.ingestion.embedder import ChunkEmbedder\n",
    "from src.ingestion.graph_miner import GraphMiner\n",
    "\n",
    "env = load_dotenv('config.env')"
   ]
  },
  {
   "cell_type": "markdown",
   "metadata": {},
   "source": [
    "In this notebook, we try to force the Relationship Extractor LLM to be more strict and adhere to the `Ontology` we pass to it"
   ]
  },
  {
   "cell_type": "markdown",
   "metadata": {},
   "source": [
    "## Configuration"
   ]
  },
  {
   "cell_type": "code",
   "execution_count": null,
   "metadata": {},
   "outputs": [],
   "source": [
    "# EU press release ontology\n",
    "ontology = Ontology(\n",
    "    allowed_labels=[\n",
    "        \"Policy\",\n",
    "        \"Project\",\n",
    "        \"Commissioner\",\n",
    "        \"Institution\",\n",
    "        \"Country\",\n",
    "        \"Region\",\n",
    "        \"Organization\",\n",
    "        \"Event\",\n",
    "        \"Legislation\",\n",
    "        \"Topic\",\n",
    "        \"FundingProgram\",\n",
    "        \"Decision\",\n",
    "        \"Quote\"\n",
    "    ],\n",
    "    labels_descriptions={\n",
    "        \"Policy\": \"A specific policy, strategy, or initiative introduced by the European Commission or another EU Institution.\",\n",
    "        \"Project\": \"A specific project or initiative introduced by the European Commission or another EU Institution.\",\n",
    "        \"Commissioner\": \"A member of the European Commission responsible for a particular policy area.\",\n",
    "        \"Institution\": \"An institution of the European Union, such as the European Parliament or the Council of the EU.\",\n",
    "        \"Country\": \"A member state of the European Union or a country referenced in a given Document.\",\n",
    "        \"Region\": \"A specific geographic region mentioned in the Document.\",\n",
    "        \"Organization\": \"An external entity, such as NGOs, companies, or research institutions mentioned in the Document.\",\n",
    "        \"Event\": \"A conference, meeting, or summit relevant to EU affairs.\",\n",
    "        \"Legislation\": \"A regulation, directive, or legal framework issued or proposed by the EU.\",\n",
    "        \"Topic\": \"A general subject area covered by the Document, such as 'climate change' or 'digital economy'.\",\n",
    "        \"FundingProgram\": \"An EU funding initiative or program, such as Horizon Europe or Erasmus+.\",\n",
    "        \"Decision\": \"An official decision made by the European Commission or an EU body.\",\n",
    "        \"Quote\": \"A direct quote from an EU official or other relevant stakeholder.\"\n",
    "    },\n",
    "    allowed_relations=[\n",
    "        \"ISSUED_BY\",       \n",
    "        \"ANNOUNCES\",        \n",
    "        \"QUOTE_FROM\",      # Quote -> Commissioner / Organization / EUInstitution\n",
    "        \"PROPOSED_BY\",     # Policy / Legislation -> Commissioner / EUInstitution\n",
    "        \"AFFECTS\",         # Policy / Decision / Legislation -> Country / Region / Organization\n",
    "        \"FUNDED_BY\",       # Policy / Project -> FundingProgram\n",
    "        \"ATTENDED_BY\",     # Event -> Commissioner / Organization / Country\n",
    "        \"RELATED_TO\"       # Any concept -> Any related concept\n",
    "    ]\n",
    ")"
   ]
  },
  {
   "cell_type": "code",
   "execution_count": null,
   "metadata": {},
   "outputs": [],
   "source": [
    "source = Source(folder='source_docs')\n",
    "\n",
    "chunker_conf = ChunkerConf(\n",
    "    type=\"recursive\", \n",
    "    chunk_size=1000, \n",
    "    chunk_overlap=100\n",
    ")\n",
    "\n",
    "kg_config = KnowledgeGraphConfig(\n",
    "    uri=os.getenv(\"NEO4J_URI\"),\n",
    "    user=os.getenv(\"NEO4J_USERNAME\"),\n",
    "    password=os.getenv(\"NEO4J_PASSWORD\"),\n",
    "    index_name=os.getenv(\"INDEX_NAME\"),\n",
    "    ontology=ontology\n",
    ")\n",
    "\n",
    "embedder_conf = EmbedderConf(\n",
    "    type=\"ollama\",\n",
    "    model=\"mxbai-embed-large\",\n",
    ")\n",
    "\n",
    "re_model_conf=LLMConf(\n",
    "    type=os.getenv(\"RE_MODEL_TYPE\"),\n",
    "    model=os.getenv(\"RE_MODEL_NAME\"), \n",
    "    temperature=os.getenv(\"RE_MODEL_TEMPERATURE\"), \n",
    "    deployment=os.getenv(\"RE_MODEL_DEPLOYMENT\"),\n",
    "    api_key=os.getenv(\"RE_API_KEY\"),\n",
    "    endpoint=os.getenv(\"RE_MODEL_ENDPOINT\"),\n",
    "    api_version=os.getenv(\"RE_MODEL_API_VERSION\") or None\n",
    ")\n",
    "\n",
    "qa_model=LLMConf(\n",
    "    type=os.getenv(\"QA_MODEL_TYPE\"),\n",
    "    model=os.getenv(\"QA_MODEL_NAME\"), \n",
    "    temperature=os.getenv(\"QA_MODEL_TEMPERATURE\"), \n",
    "    deployment=os.getenv(\"QA_MODEL_DEPLOYMENT\"),\n",
    "    api_key=os.getenv(\"QA_API_KEY\"),\n",
    "    endpoint=os.getenv(\"QA_MODEL_ENDPOINT\"),\n",
    "    api_version=os.getenv(\"QA_MODEL_API_VERSION\") or None\n",
    ")"
   ]
  },
  {
   "cell_type": "code",
   "execution_count": null,
   "metadata": {},
   "outputs": [],
   "source": [
    "ingestor = LocalIngestor(source=source)\n",
    "cleaner = Cleaner()\n",
    "chunker = Chunker(conf=chunker_conf)\n",
    "embedder = ChunkEmbedder(conf=embedder_conf)\n",
    "\n",
    "graph_miner = GraphMiner(\n",
    "    conf=re_model_conf, \n",
    "    ontology=ontology\n",
    ")"
   ]
  },
  {
   "cell_type": "code",
   "execution_count": null,
   "metadata": {},
   "outputs": [],
   "source": [
    "knowledge_graph = KnowledgeGraph(\n",
    "    conf=kg_config, \n",
    "    embeddings_model=embedder.embeddings\n",
    ")\n",
    "\n",
    "knowledge_graph._driver.verify_connectivity()\n",
    "\n",
    "knowledge_graph._driver.verify_authentication()"
   ]
  },
  {
   "cell_type": "markdown",
   "metadata": {},
   "source": [
    "## Ingestion"
   ]
  },
  {
   "cell_type": "code",
   "execution_count": null,
   "metadata": {},
   "outputs": [],
   "source": [
    "docs = ingestor.batch_ingest()"
   ]
  },
  {
   "cell_type": "code",
   "execution_count": null,
   "metadata": {},
   "outputs": [],
   "source": [
    "docs = cleaner.clean_documents(docs)"
   ]
  },
  {
   "cell_type": "code",
   "execution_count": null,
   "metadata": {},
   "outputs": [],
   "source": [
    "docs = chunker.chunk_documents(docs)\n",
    "\n",
    "for i in range(len(docs)):\n",
    "    print(f\"Number of chunks in doc {i}: {len(docs[i].chunks)}\")"
   ]
  },
  {
   "cell_type": "code",
   "execution_count": null,
   "metadata": {},
   "outputs": [],
   "source": [
    "docs = embedder.embed_documents_chunks(docs)"
   ]
  },
  {
   "cell_type": "code",
   "execution_count": null,
   "metadata": {},
   "outputs": [],
   "source": [
    "docs = graph_miner.mine_graph_from_docs(docs=docs)"
   ]
  },
  {
   "cell_type": "code",
   "execution_count": null,
   "metadata": {},
   "outputs": [],
   "source": [
    "knowledge_graph.add_documents(docs)"
   ]
  },
  {
   "cell_type": "markdown",
   "metadata": {},
   "source": [
    "### Verify Ingestion"
   ]
  },
  {
   "cell_type": "code",
   "execution_count": null,
   "metadata": {},
   "outputs": [],
   "source": [
    "knowledge_graph.number_of_docs"
   ]
  },
  {
   "cell_type": "code",
   "execution_count": null,
   "metadata": {},
   "outputs": [],
   "source": [
    "knowledge_graph.number_of_labels"
   ]
  },
  {
   "cell_type": "code",
   "execution_count": null,
   "metadata": {},
   "outputs": [],
   "source": [
    "knowledge_graph.labels"
   ]
  },
  {
   "cell_type": "code",
   "execution_count": null,
   "metadata": {},
   "outputs": [],
   "source": [
    "knowledge_graph.number_of_relationships"
   ]
  },
  {
   "cell_type": "code",
   "execution_count": null,
   "metadata": {},
   "outputs": [],
   "source": [
    "knowledge_graph.relationships"
   ]
  },
  {
   "cell_type": "markdown",
   "metadata": {},
   "source": [
    "### Query the KnowledgeGraph"
   ]
  },
  {
   "cell_type": "code",
   "execution_count": null,
   "metadata": {},
   "outputs": [],
   "source": [
    "responder = GraphAgentResponder(\n",
    "    qa_llm_conf=qa_model, # TODO try different LLMs\n",
    "    cypher_llm_conf=qa_model,\n",
    "    graph=knowledge_graph,\n",
    "    rephrase_llm_conf=qa_model\n",
    ")"
   ]
  },
  {
   "cell_type": "code",
   "execution_count": null,
   "metadata": {},
   "outputs": [],
   "source": [
    "query = \"What countries are mentioned in the graph?\"\n",
    "responder.answer(query)"
   ]
  },
  {
   "cell_type": "code",
   "execution_count": null,
   "metadata": {},
   "outputs": [],
   "source": [
    "query = \"What document mentions Ukraine?\"\n",
    "responder.answer(query)"
   ]
  },
  {
   "cell_type": "code",
   "execution_count": null,
   "metadata": {},
   "outputs": [],
   "source": [
    "query = \"Why are Italy and Portugal mentioned?\"\n",
    "responder.answer(query)"
   ]
  },
  {
   "cell_type": "code",
   "execution_count": null,
   "metadata": {},
   "outputs": [],
   "source": [
    "query = \"What happened in the baltic sea?\"\n",
    "responder.answer(query)"
   ]
  },
  {
   "cell_type": "code",
   "execution_count": null,
   "metadata": {},
   "outputs": [],
   "source": [
    "query = \"When was the incident in the baltic sea?\"\n",
    "responder.answer(query)"
   ]
  },
  {
   "cell_type": "code",
   "execution_count": null,
   "metadata": {},
   "outputs": [],
   "source": [
    "query = \"What is the name of the document mentioning Italy?\"\n",
    "responder.answer(query)"
   ]
  },
  {
   "cell_type": "code",
   "execution_count": null,
   "metadata": {},
   "outputs": [],
   "source": [
    "query = \"What document mentions  the Decarbonisation Of Public Transport?\"\n",
    "responder.answer(query)"
   ]
  },
  {
   "cell_type": "code",
   "execution_count": null,
   "metadata": {},
   "outputs": [],
   "source": [
    "query = \"What is the name of the document that mentions the Decarbonisation Of Public Transport?\"\n",
    "responder.answer(query)"
   ]
  },
  {
   "cell_type": "code",
   "execution_count": null,
   "metadata": {},
   "outputs": [],
   "source": [
    "query = \"How many chunks mentions Italy?\"\n",
    "responder.answer(query)"
   ]
  }
 ],
 "metadata": {
  "kernelspec": {
   "display_name": ".venv",
   "language": "python",
   "name": "python3"
  },
  "language_info": {
   "codemirror_mode": {
    "name": "ipython",
    "version": 3
   },
   "file_extension": ".py",
   "mimetype": "text/x-python",
   "name": "python",
   "nbconvert_exporter": "python",
   "pygments_lexer": "ipython3",
   "version": "3.12.8"
  }
 },
 "nbformat": 4,
 "nbformat_minor": 2
}
