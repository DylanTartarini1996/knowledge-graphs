{
 "cells": [
  {
   "cell_type": "code",
   "execution_count": null,
   "metadata": {},
   "outputs": [],
   "source": [
    "from typing import List, Optional, Dict\n",
    "from langchain_core.load.serializable import Serializable\n",
    "from pydantic import BaseModel, Field\n",
    "# from langchain_neo4j.graphs.graph_document import Relationship, Node\n",
    "\n",
    "from src.config import LLMConf\n",
    "from src.schema import Ontology\n",
    "from src.agents.llm import fetch_llm\n",
    "from src.prompts.graph_extractor import get_graph_extractor_prompt"
   ]
  },
  {
   "cell_type": "code",
   "execution_count": null,
   "metadata": {},
   "outputs": [],
   "source": [
    "llm_conf = LLMConf(\n",
    "    type=\"ollama\",\n",
    "    model=\"llama3.2:latest\", \n",
    "    temperature=0.0, \n",
    ")\n",
    "\n",
    "llm = fetch_llm(llm_conf)\n",
    "\n",
    "class Node(Serializable):\n",
    "    id: str\n",
    "    type: str\n",
    "    properties: Optional[Dict[str, str]] = None\n",
    "\n",
    "\n",
    "class Relationship(Serializable):\n",
    "    source: str\n",
    "    target: str\n",
    "    type: str\n",
    "    properties: Optional[Dict[str, str]] = None\n",
    "\n",
    "\n",
    "class Graph(Serializable):\n",
    "    \"\"\" \n",
    "    Represents a graph consisting of nodes and relationships.\n",
    "\n",
    "    Attributes:\n",
    "        nodes (List[Node]): A list of nodes in the graph.\n",
    "        relationships (List[Relationship]): A list of relationships in the graph.\n",
    "    \"\"\"\n",
    "    nodes: List[Node]\n",
    "    relationships: List[Relationship]\n",
    "\n",
    "prompt = get_graph_extractor_prompt()"
   ]
  },
  {
   "cell_type": "code",
   "execution_count": null,
   "metadata": {},
   "outputs": [],
   "source": [
    "llm"
   ]
  },
  {
   "cell_type": "code",
   "execution_count": null,
   "metadata": {},
   "outputs": [],
   "source": [
    "print(prompt.template)"
   ]
  },
  {
   "cell_type": "code",
   "execution_count": null,
   "metadata": {},
   "outputs": [],
   "source": [
    "ontology = Ontology(allowed_labels=[\"Person\", \"City\", \"Country\", \"Region\"], allowed_relations=[\"LIVES_IN\", \"BORN_IN\"])\n",
    "\n",
    "prompt.partial_variables = {\n",
    "    'allowed_labels':ontology.allowed_labels if ontology.allowed_labels else \"\", \n",
    "    'labels_descriptions': ontology.labels_descriptions if ontology.labels_descriptions else \"\", \n",
    "    'allowed_relationships': ontology.allowed_relations if ontology.allowed_relations else \"\"\n",
    "}\n"
   ]
  },
  {
   "cell_type": "code",
   "execution_count": null,
   "metadata": {},
   "outputs": [],
   "source": [
    "text= \"\"\" \n",
    "    Meet Marco Rossi, a proud native of Rome, Italy. With a passion for pasta and a love for football, \n",
    "    Marco embodies the vibrant spirit of his homeland. \n",
    "    Growing up amidst the ancient ruins and bustling piazzas of Rome, Marco developed \n",
    "    a deep appreciation for his city's rich history and cultural heritage. \n",
    "    From the iconic Colosseum to the majestic Vatican City, he has explored every corner of the Eternal City, \n",
    "    finding beauty in its timeless landmarks and hidden gems. \n",
    "    Italy, with its delectable cuisine and stunning landscapes, has always been Marco's playground. \n",
    "    From the rolling hills of Tuscany to the sparkling waters of the Amalfi Coast,\n",
    "    he has embraced the diversity and beauty of his country, taking pride in its traditions and way of life.\n",
    "\"\"\"\n",
    "\n",
    "print(prompt.format(input_text=text))"
   ]
  },
  {
   "cell_type": "code",
   "execution_count": null,
   "metadata": {},
   "outputs": [],
   "source": [
    "output = llm.with_structured_output(schema=Graph).invoke(input=prompt.format(input_text=text))"
   ]
  },
  {
   "cell_type": "code",
   "execution_count": null,
   "metadata": {},
   "outputs": [],
   "source": [
    "output"
   ]
  },
  {
   "cell_type": "code",
   "execution_count": null,
   "metadata": {},
   "outputs": [],
   "source": [
    "output.relationships"
   ]
  },
  {
   "cell_type": "code",
   "execution_count": null,
   "metadata": {},
   "outputs": [],
   "source": [
    "output.nodes"
   ]
  }
 ],
 "metadata": {
  "kernelspec": {
   "display_name": ".venv",
   "language": "python",
   "name": "python3"
  },
  "language_info": {
   "codemirror_mode": {
    "name": "ipython",
    "version": 3
   },
   "file_extension": ".py",
   "mimetype": "text/x-python",
   "name": "python",
   "nbconvert_exporter": "python",
   "pygments_lexer": "ipython3",
   "version": "3.12.4"
  }
 },
 "nbformat": 4,
 "nbformat_minor": 2
}
