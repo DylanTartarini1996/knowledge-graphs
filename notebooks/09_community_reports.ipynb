{
 "cells": [
  {
   "cell_type": "code",
   "execution_count": null,
   "metadata": {},
   "outputs": [],
   "source": [
    "import os\n",
    "from dotenv import load_dotenv\n",
    "\n",
    "from src.agents.community_summarizer import CommunitiesSummarizer\n",
    "from src.config import LLMConf, EmbedderConf, KnowledgeGraphConfig\n",
    "from src.factory.embeddings import get_embeddings\n",
    "from src.graph.knowledge_graph import KnowledgeGraph\n",
    "\n",
    "env = load_dotenv('config.env')"
   ]
  },
  {
   "cell_type": "code",
   "execution_count": null,
   "metadata": {},
   "outputs": [],
   "source": [
    "kg_config = KnowledgeGraphConfig(\n",
    "    uri=os.getenv(\"NEO4J_URI\"),\n",
    "    user=os.getenv(\"NEO4J_USERNAME\"),\n",
    "    password=os.getenv(\"NEO4J_PASSWORD\"),\n",
    "    index_name='vector'\n",
    ")\n",
    "\n",
    "embedder_conf = EmbedderConf(\n",
    "    type=os.getenv(\"EMBEDDINGS_TYPE\"),\n",
    "    model=os.getenv(\"EMBEDDINGS_MODEL_NAME\"),\n",
    ")\n",
    "\n",
    "model_conf=LLMConf(\n",
    "    type=os.getenv(\"RE_MODEL_TYPE\"),\n",
    "    model=os.getenv(\"RE_MODEL_NAME\"), \n",
    "    temperature=os.getenv(\"RE_MODEL_TEMPERATURE\"), \n",
    "    deployment=os.getenv(\"RE_MODEL_DEPLOYMENT\"),\n",
    "    api_key=os.getenv(\"RE_API_KEY\"),\n",
    "    endpoint=os.getenv(\"RE_MODEL_ENDPOINT\"),\n",
    "    api_version=os.getenv(\"RE_MODEL_API_VERSION\") or None\n",
    ")\n",
    "\n",
    "embeddings = get_embeddings(conf=embedder_conf)\n",
    "\n",
    "kg = KnowledgeGraph(conf=kg_config,embeddings_model=embeddings)"
   ]
  },
  {
   "cell_type": "code",
   "execution_count": null,
   "metadata": {},
   "outputs": [],
   "source": [
    "kg.louvain_modularity"
   ]
  },
  {
   "cell_type": "code",
   "execution_count": null,
   "metadata": {},
   "outputs": [],
   "source": [
    "kg.leiden_modularity"
   ]
  },
  {
   "cell_type": "code",
   "execution_count": null,
   "metadata": {},
   "outputs": [],
   "source": [
    "kg.number_of_leiden_communities # we are not skipping null values here"
   ]
  },
  {
   "cell_type": "code",
   "execution_count": null,
   "metadata": {},
   "outputs": [],
   "source": [
    "kg.number_of_louvain_communities # we are not skipping null values here"
   ]
  },
  {
   "cell_type": "code",
   "execution_count": null,
   "metadata": {},
   "outputs": [],
   "source": [
    "communities = kg.get_communities('louvain')"
   ]
  },
  {
   "cell_type": "code",
   "execution_count": null,
   "metadata": {},
   "outputs": [],
   "source": [
    "communities"
   ]
  },
  {
   "cell_type": "code",
   "execution_count": null,
   "metadata": {},
   "outputs": [],
   "source": [
    "communities[2].chunks"
   ]
  },
  {
   "cell_type": "code",
   "execution_count": null,
   "metadata": {},
   "outputs": [],
   "source": []
  },
  {
   "cell_type": "code",
   "execution_count": null,
   "metadata": {},
   "outputs": [],
   "source": [
    "summarizer = CommunitiesSummarizer(llm_conf=model_conf, embeddings_conf=embedder_conf)\n"
   ]
  },
  {
   "cell_type": "code",
   "execution_count": null,
   "metadata": {},
   "outputs": [],
   "source": [
    "summarizer.get_community_report(community=communities[0])"
   ]
  },
  {
   "cell_type": "code",
   "execution_count": null,
   "metadata": {},
   "outputs": [],
   "source": [
    "reports = summarizer.get_reports(communities)\n",
    "\n",
    "reports"
   ]
  },
  {
   "cell_type": "code",
   "execution_count": null,
   "metadata": {},
   "outputs": [],
   "source": [
    "kg.store_community_reports(reports)"
   ]
  },
  {
   "cell_type": "markdown",
   "metadata": {},
   "source": [
    "### Retrieval of Communities\n",
    "Now we are able to retrieve from two different vector stores: one dedicated to Chunks (Document vectors) and one for Summaries of Communities.  \n",
    "\n",
    "Notice that once retrieved, the summary of the community has some metadata attached, such as the `community_id` and the `community_type`, while Chunks metadata could be used to retrieve neighbouring Chunks (`NEXT` relationship) and mentioned Entities (`MENTIONS` relationship)."
   ]
  },
  {
   "cell_type": "code",
   "execution_count": null,
   "metadata": {},
   "outputs": [],
   "source": [
    "query = \"Why is Europe introducting regulations on Apple?\"\n",
    "\n",
    "kg.cr_store.similarity_search_with_relevance_scores(query, k=2)"
   ]
  },
  {
   "cell_type": "code",
   "execution_count": null,
   "metadata": {},
   "outputs": [],
   "source": [
    "query = \"Why is Europe introducting regulations on Apple?\"\n",
    "\n",
    "kg.vector_store.similarity_search_with_relevance_scores(query, k=5)"
   ]
  },
  {
   "cell_type": "code",
   "execution_count": null,
   "metadata": {},
   "outputs": [],
   "source": []
  }
 ],
 "metadata": {
  "kernelspec": {
   "display_name": ".venv",
   "language": "python",
   "name": "python3"
  },
  "language_info": {
   "codemirror_mode": {
    "name": "ipython",
    "version": 3
   },
   "file_extension": ".py",
   "mimetype": "text/x-python",
   "name": "python",
   "nbconvert_exporter": "python",
   "pygments_lexer": "ipython3",
   "version": "3.12.4"
  }
 },
 "nbformat": 4,
 "nbformat_minor": 2
}
