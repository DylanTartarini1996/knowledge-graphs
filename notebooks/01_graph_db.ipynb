{
 "cells": [
  {
   "cell_type": "code",
   "execution_count": 1,
   "metadata": {},
   "outputs": [
    {
     "data": {
      "text/plain": [
       "True"
      ]
     },
     "execution_count": 1,
     "metadata": {},
     "output_type": "execute_result"
    }
   ],
   "source": [
    "import os\n",
    "from dotenv import load_dotenv\n",
    "from pprint import pprint\n",
    "\n",
    "from src.config import LLMConf, KnowledgeGraphConfig, EmbedderConf\n",
    "from src.graph.graph_model import Ontology\n",
    "from src.graph.knowledge_graph import KnowledgeGraph\n",
    "from src.ingestion.embedder import ChunkEmbedder\n",
    "from src.ingestion.graph_miner import GraphMiner\n",
    "from src.schema import Chunk, ProcessedDocument\n",
    "\n",
    "env = load_dotenv('config.env')\n",
    "env"
   ]
  },
  {
   "cell_type": "code",
   "execution_count": 2,
   "metadata": {},
   "outputs": [],
   "source": [
    "llm_conf = LLMConf(\n",
    "    type=\"ollama\",\n",
    "    model=\"llama3.2:latest\", \n",
    "    temperature=0.0, \n",
    ")\n",
    "\n",
    "embedder_conf = EmbedderConf(\n",
    "    type=\"ollama\",\n",
    "    model=\"mxbai-embed-large\",\n",
    ")\n",
    "\n",
    "kg_config = KnowledgeGraphConfig(\n",
    "    uri=os.getenv(\"NEO4J_URI\"),\n",
    "    user=os.getenv(\"NEO4J_USERNAME\"),\n",
    "    password=os.getenv(\"NEO4J_PASSWORD\"),\n",
    "    index_name=\"vector\"\n",
    ")\n",
    "\n",
    "\n",
    "ontology = Ontology(\n",
    "    allowed_labels=[\"Person\", \"City\", \"Country\", \"Region\"], \n",
    "    allowed_relations=[\"LIVES_IN\", \"BORN_IN\"]\n",
    ")"
   ]
  },
  {
   "cell_type": "markdown",
   "metadata": {},
   "source": [
    "## Preparation\n",
    "Here, we assume to have already ingested some document into a `ProcessedDocument` format, had it chunked and waiting to be embedded"
   ]
  },
  {
   "cell_type": "code",
   "execution_count": 3,
   "metadata": {},
   "outputs": [],
   "source": [
    "text= \"\"\" \n",
    "    Meet Marco Rossi, a proud native of Rome, Italy. With a passion for pasta and a love for football, \n",
    "    Marco embodies the vibrant spirit of his homeland. \n",
    "    Growing up amidst the ancient ruins and bustling piazzas of Rome, Marco developed \n",
    "    a deep appreciation for his city's rich history and cultural heritage. \n",
    "    From the iconic Colosseum to the majestic Vatican City, he has explored every corner of the Eternal City, \n",
    "    finding beauty in its timeless landmarks and hidden gems. \n",
    "    Italy, with its delectable cuisine and stunning landscapes, has always been Marco's playground. \n",
    "    From the rolling hills of Tuscany to the sparkling waters of the Amalfi Coast,\n",
    "    he has embraced the diversity and beauty of his country, taking pride in its traditions and way of life.\n",
    "\"\"\"\n",
    "\n",
    "chunks = [\n",
    "    \"Meet Marco Rossi, a proud native of Rome, Italy. With a passion for pasta and a love for football, Marco embodies the vibrant spirit of his homeland. Growing up amidst the ancient ruins and bustling piazzas of Rome, Marco developed a deep appreciation for his city's rich history and cultural heritage.\",\n",
    "    \"From the iconic Colosseum to the majestic Vatican City, he has explored every corner of the Eternal City, finding beauty in its timeless landmarks and hidden gems. Italy, with its delectable cuisine and stunning landscapes, has always been Marco's playground. From the rolling hills of Tuscany to the sparkling waters of the Amalfi Coast, he has embraced the diversity and beauty of his country, taking pride in its traditions and way of life.\"\n",
    "]\n",
    "\n",
    "doc = ProcessedDocument(\n",
    "    filename=\"test.pdf\", \n",
    "    source=text,\n",
    "    chunks=[\n",
    "        Chunk(\n",
    "            chunk_id=1, \n",
    "            text=chunks[0], \n",
    "            chunk_size=500, \n",
    "            chunk_overlap=50,\n",
    "            embeddings_model='mxbai-embed-large'\n",
    "        ),\n",
    "        Chunk(\n",
    "            chunk_id=2, \n",
    "            text=chunks[1], \n",
    "            chunk_size=500, \n",
    "            chunk_overlap=50,\n",
    "            embeddings_model='mxbai-embed-large'\n",
    "        )\n",
    "    ]\n",
    ")"
   ]
  },
  {
   "cell_type": "code",
   "execution_count": 4,
   "metadata": {},
   "outputs": [],
   "source": [
    "# embeddings\n",
    "\n",
    "embedder = ChunkEmbedder(conf=embedder_conf)\n",
    "\n",
    "doc = embedder.embed_document_chunks(doc)"
   ]
  },
  {
   "cell_type": "code",
   "execution_count": 5,
   "metadata": {},
   "outputs": [],
   "source": [
    "# extract the knowledge graph\n",
    "\n",
    "graph_miner = GraphMiner(conf=llm_conf, ontology=ontology)\n",
    "\n",
    "doc= graph_miner.mine_graph_from_doc_chunks(doc)"
   ]
  },
  {
   "cell_type": "code",
   "execution_count": 6,
   "metadata": {},
   "outputs": [
    {
     "data": {
      "text/plain": [
       "[Node(id='Marco_Rossi', type='Person', properties={'city': 'Rome', 'country': 'Italy', 'name': 'Marco_Rossi'}),\n",
       " Node(id='Rome', type='City', properties={'country': 'Italy', 'name': 'Rome'}),\n",
       " Node(id='Italy', type='Country', properties={'name': 'Italy'})]"
      ]
     },
     "execution_count": 6,
     "metadata": {},
     "output_type": "execute_result"
    }
   ],
   "source": [
    "doc.chunks[0].nodes"
   ]
  },
  {
   "cell_type": "code",
   "execution_count": 7,
   "metadata": {},
   "outputs": [
    {
     "data": {
      "text/plain": [
       "[Relationship(source=Node(id='Marco_Rossi', type='Person', properties={'city': 'Rome', 'country': 'Italy', 'name': 'Marco_Rossi'}), target=Node(id='Rome', type='City', properties={'country': 'Italy', 'name': 'Rome'}), type='LIVES_IN', properties={'city': 'Rome'}),\n",
       " Relationship(source=Node(id='Rome', type='City', properties={'country': 'Italy', 'name': 'Rome'}), target=Node(id='Italy', type='Country', properties={'name': 'Italy'}), type='BORN_IN', properties={})]"
      ]
     },
     "execution_count": 7,
     "metadata": {},
     "output_type": "execute_result"
    }
   ],
   "source": [
    "doc.chunks[0].relationships"
   ]
  },
  {
   "cell_type": "markdown",
   "metadata": {},
   "source": [
    "## Interaction with Neo4j (Aura) "
   ]
  },
  {
   "cell_type": "code",
   "execution_count": 8,
   "metadata": {},
   "outputs": [
    {
     "data": {
      "text/plain": [
       "True"
      ]
     },
     "execution_count": 8,
     "metadata": {},
     "output_type": "execute_result"
    }
   ],
   "source": [
    "knowledge_graph = KnowledgeGraph(\n",
    "    conf=kg_config, \n",
    "    embeddings_model=embedder.embeddings\n",
    ")\n",
    "\n",
    "knowledge_graph._driver.verify_connectivity()\n",
    "\n",
    "knowledge_graph._driver.verify_authentication()"
   ]
  },
  {
   "cell_type": "code",
   "execution_count": 9,
   "metadata": {},
   "outputs": [
    {
     "data": {
      "text/plain": [
       "2"
      ]
     },
     "execution_count": 9,
     "metadata": {},
     "output_type": "execute_result"
    }
   ],
   "source": [
    "knowledge_graph.number_of_labels"
   ]
  },
  {
   "cell_type": "code",
   "execution_count": 10,
   "metadata": {},
   "outputs": [
    {
     "data": {
      "text/plain": [
       "0"
      ]
     },
     "execution_count": 10,
     "metadata": {},
     "output_type": "execute_result"
    }
   ],
   "source": [
    "knowledge_graph.number_of_relationships"
   ]
  },
  {
   "cell_type": "code",
   "execution_count": 11,
   "metadata": {},
   "outputs": [
    {
     "data": {
      "text/plain": [
       "'vectors'"
      ]
     },
     "execution_count": 11,
     "metadata": {},
     "output_type": "execute_result"
    }
   ],
   "source": [
    "knowledge_graph.index_name"
   ]
  },
  {
   "cell_type": "code",
   "execution_count": 12,
   "metadata": {},
   "outputs": [],
   "source": [
    "knowledge_graph.store_chunks_for_doc(\n",
    "    doc=doc, \n",
    "    embeddings_model=embedder.embeddings\n",
    ")"
   ]
  }
 ],
 "metadata": {
  "kernelspec": {
   "display_name": ".venv",
   "language": "python",
   "name": "python3"
  },
  "language_info": {
   "codemirror_mode": {
    "name": "ipython",
    "version": 3
   },
   "file_extension": ".py",
   "mimetype": "text/x-python",
   "name": "python",
   "nbconvert_exporter": "python",
   "pygments_lexer": "ipython3",
   "version": "3.12.4"
  }
 },
 "nbformat": 4,
 "nbformat_minor": 2
}
