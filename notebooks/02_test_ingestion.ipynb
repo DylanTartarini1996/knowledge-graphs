{
 "cells": [
  {
   "cell_type": "code",
   "execution_count": 1,
   "metadata": {},
   "outputs": [],
   "source": [
    "import os\n",
    "from dotenv import load_dotenv\n",
    "from pprint import pprint\n",
    "\n",
    "from src.config import Source, ChunkerConf, LLMConf, EmbedderConf, KnowledgeGraphConfig\n",
    "\n",
    "from src.graph.knowledge_graph import KnowledgeGraph\n",
    "\n",
    "from src.ingestion.local_ingestor import LocalIngestor\n",
    "from src.ingestion.chunker import Chunker\n",
    "from src.ingestion.cleaner import Cleaner\n",
    "from src.ingestion.embedder import ChunkEmbedder\n",
    "from src.ingestion.graph_miner import GraphMiner\n",
    "\n",
    "env = load_dotenv('config.env')"
   ]
  },
  {
   "cell_type": "markdown",
   "metadata": {},
   "source": [
    "### Configuration\n"
   ]
  },
  {
   "cell_type": "code",
   "execution_count": 2,
   "metadata": {},
   "outputs": [],
   "source": [
    "source = Source(folder='source_folder')\n",
    "\n",
    "kg_config = KnowledgeGraphConfig(\n",
    "    uri=os.getenv(\"NEO4J_URI\"),\n",
    "    user=os.getenv(\"NEO4J_USERNAME\"),\n",
    "    password=os.getenv(\"NEO4J_PASSWORD\"),\n",
    "    index_name=\"vectors\"\n",
    ")\n",
    "\n",
    "chunker_conf = ChunkerConf(\n",
    "    type=\"recursive\", \n",
    "    chunk_size=1000, \n",
    "    chunk_overlap=100\n",
    ")\n",
    "\n",
    "llm_conf = LLMConf(\n",
    "    type=\"ollama\",\n",
    "    model=\"llama3.2:latest\", \n",
    "    temperature=0.0, \n",
    ")\n",
    "\n",
    "embedder_conf = EmbedderConf(\n",
    "    type=\"ollama\",\n",
    "    model=\"mxbai-embed-large\",\n",
    ")"
   ]
  },
  {
   "cell_type": "markdown",
   "metadata": {},
   "source": [
    "### Press Releases\n",
    "For demonstration purposes, here we ingest into the knowledge graph a couple of EU Commission Press Release in `.pdf` format"
   ]
  },
  {
   "cell_type": "markdown",
   "metadata": {},
   "source": [
    "### Load Documents from local folder"
   ]
  },
  {
   "cell_type": "code",
   "execution_count": 3,
   "metadata": {},
   "outputs": [
    {
     "data": {
      "text/plain": [
       "[ProcessedDocument(filename='source_folder/NextGenerationEU_reaches__300_billion_in_RRF_payments_with_new_disbursements_to_Czechia__Germany__Italy__Portugal__and_Romania_.pdf', source=\"European Commission - Press release\\nNextGenerationEU reaches €300 billion in RRF payments with new\\ndisbursements to Czechia, Germany, Italy, Portugal, and Romania\\nBrussels, 23 December 2024\\nToday, the Commission disbursed payments under the Recovery and Resilience Facility (RRF) to\\nCzechia, Germany, Italy, Portugal and Romania, totalling €26.8 billion in loans and grants. The total\\ndisbursed under the RRF has now reached over €300 billion. This important milestone reflect the scale\\nof the transformative reforms and investments being carried out across EU Member States,\\naccelerating the green and digital transitions while strengthening the Union's overall resilience.\\nCzechia receives its third payment for €1.7 billion\\nThe Commission disbursed €1.5 billion in grants and €200 million in loans, net of pre-financing, to\\nCzechia.\\nOn 16 September 2024, Czechia submitted its third request for payment, covering 65 milestones and\\ntargets. These include reforms, such as the amendments to the Energy Act to simplify the creation of\\nenergy communities and the issuance of permits for renewable energy projects, alongside the entry\\ninto force of waste management plans and whistle-blower protection. It also covers investments in rail\\ninfrastructure - such as electrifying and reconstructing rail lines, and renovating station buildings -\\nenergy efficiency renovations of public buildings, support for industrial research, and the digitalisation\\nof courtrooms.\\nThe Commission adopted a positive preliminary assessment of 63 of the 65 milestones on 15\\nNovember 2024, which was followed by the favourable opinion of the Economic and Financial\\nCommittee of the Council, paving the way for a decision on disbursement. For the two milestones that\\nwere not fully fulfilled, the Commission acknowledges the first steps already taken by Czechia to\\naddress them, although important work remains to be done. Czechia has been given additional time\\nto meet these milestones.\\nTo date, Czechia has received a total of €4.39 billion, out of the €9.2 billion allocated to the Czech\\nrecovery and resilience plan.\\nGermany receives its second payment for €13.5 billion\\nThe Commission disbursed €13.5 billion in grants, net of pre-financing, to Germany.\\nOn 13 September 2024, Germany submitted its second request for payment, covering 42 milestones\\nand targets. These include reforms in climate and energy policy, such as advancing Germany's\\nNational Hydrogen Strategy and promoting clean mobility, and in digitalization, including modernizing\\npublic administration and fostering innovative data policy. It also covers investments in sustainability,\\nsuch as electric vehicles and renewable entries, and in digital infrastructure, including\\nmicroelectronics, communication, technology and the digitalization of railways, as well as in childcare,\\nhousing and healthcare.\\nThe Commission adopted a positive preliminary assessment of the request on 26 November 2024,\\nwhich was followed by the favourable opinion of the Economic and Financial Committee of the Council,\\npaving the way for the final decision on disbursement.\\nTo date, Germany has received a total of €19.75 billion, out of the €30.3 billion allocated to the\\nGerman recovery and resilience plan.\\nItaly receives its sixth payment for €8.7 billion\\nThe Commission disbursed €6.9 billion in loans and €1.8 billion in grants, net of pre-financing, to\\nItaly.\\n\\n\\nOn 28 June 2024, Italy submitted its sixth request for payment, covering 39 milestones and targets.\\nThese include reforms in public administration, improving human resources, public procurement, and\\ntax administration, as well as in social policy, including combating undeclared work and supporting\\nnon-self-sufficient elderly persons. It also covers investments in digitalization, such as developing\\ndigital logistics platforms and modernizing national parks, alongside sustainability efforts, including\\nwaste management and agri-solar development.\\nThe Commission adopted a positive preliminary assessment of the request on 26 November 2024,\\nwhich was followed by the favourable opinion of the Economic and Financial Committee of the Council,\\npaving the way for the final decision on disbursement.\\nTo date, Italy has received a total of €122.2 billion, out of the €194.4 billion allocated to the Italian\\nrecovery and resilience plan.\\nPortugal receives its fifth payment for 2.9 billion\\nThe Commission disbursed €1.65 billion in grants and €1.25 billion in loans, net of pre-financing, to\\nPortugal.\\nOn 3 July 2024, Portugal submitted its fifth request for payment, covering 42 milestones and targets.\\nThese include reforms in energy policy, such as addressing energy poverty, promoting renewable\\nhydrogen and biomethane, and improving energy efficiency, as well as in economic governance,\\nincluding capital market development and simplification of the tax system. It also covers investments\\nin the decarbonisation of public transport, and fire prevention, alongside modernisation efforts,\\nincluding upgrading medical equipment, housing, digitalisation of businesses, and tax and customs\\nsystems.\\nThe Commission adopted a positive preliminary assessment of the request on 26 November 2024,\\nwhich was followed by the favourable opinion of the Economic and Financial Committee of the Council,\\npaving the way for the final decision on disbursement.\\nTo date, Portugal has received a total of €11.39 billion, out of the €22.2 billion allocated to the\\nPortuguese recovery and resilience plan.\\nRomania receives €37.05 million, as part of its second payment request\\nThe Commission disbursed €37.05 million, net of pre-financing, to Romania.\\nOn 15 December 2022, Romania submitted its second request for payment, covering 51 milestones\\nand targets. The Commission adopted a positive preliminary assessment of all but two milestones in\\nSeptember 2023. Milestones 129 and 133, relating to energy investments, were not satisfactorily\\nfulfilled, leading to a suspension of €53.4 million.\\nAfter Romania provided additional information and made progress on these milestones, the\\nCommission has now unlocked a gross amount of €42.59 million. This includes €17.78 million related\\nto milestone 133, which has been fully met, and €24.8 million related to milestone 129, where\\nprogress has been acknowledged, although the milestone is still not considered satisfactorily fulfilled.\\nThe disbursement to Romania is €37.05 million, after deducting pre-financing. In parallel, due to\\nmilestone 129 not being fully met, the Commission has reduced the overall loan amount available to\\nRomania by €10.77 million.\\nTo date, Romania has received a total of €9.4 billion, out of the €28.53 billion allocated to the\\nRomanian recovery and resilience plan.\\nBackground\\nThese disbursements demonstrate the EU's ongoing commitment to helping Member States\\nimplement their recovery and resilience plans, fostering sustainable growth, strengthening economic\\nresilience, and advancing the green and digital transitions across the Union.\\nThe RRF entered into force in February 2021 to mitigate the economic and social impact of the Covid-\\n19 pandemic. It is the cornerstone of NextGenerationEU, an unprecedented EU recovery instrument to\\nhelp repair the immediate economic and social damage of the coronavirus pandemic, and will disburse\\nup to €650 billion in grants and loans to EU Member States.\\nThe Recovery and Resilience Facility helps mitigate the pandemic's economic and social impact, make\\n\\n\\nsure Member States are more resilient, more sustainable and better prepared for the challenges and\\nopportunities of the green and digital transitions, achieve the EU target of climate neutrality by 2050,\\nset Europe on a path of digital transition, create jobs and spur growth.\\nThrough the Facility, the Commission can raise funds - borrowing on the capital markets - to help\\nMember States implement reforms and investments.\\nMore information on the Recovery and Resilience Facility can be found on the Recovery and Resilience\\nScoreboard. Questions and answers detailing information on the payment process are also available\\nonline.\\nIP/24/6568\\nPress contacts:\\nOlof GILL (+32 2 29 65966)\\nQuentin CORTES (+32 2 29 13283)\\nGeneral public inquiries: Europe Direct by phone 00 800 67 89 10 11 or by email\\n\", document_version=1, metadata={'folder': 'source_folder'}, chunks=None),\n",
       " ProcessedDocument(filename='source_folder/Joint_Statement_by_the_European_Commission_and_the_High_Representative_on_the_Investigation_into_Damaged_Electricity_and_Data_Cables_in_the_Baltic_Sea.pdf', source=\"European Commission - Statement\\nJoint Statement by the European Commission and the High\\nRepresentative on the Investigation into Damaged Electricity and Data\\nCables in the Baltic Sea\\nBrussels, 26 December 2024\\nYesterday's incident involving undersea cables in the Baltic Sea is the latest in a series of suspected\\nattacks on critical infrastructure. We commend the Finnish authorities for their swift action in boarding\\nthe suspected vessel. We are working with the Finnish authorities on the ongoing investigation. We\\nstand in full solidarity with Finland, Estonia, and Germany.\\nWe strongly condemn any deliberate destruction of Europe's critical infrastructure. The suspected\\nvessel is part of Russia's shadow fleet, which threatens security and the environment, while funding\\nRussia's war budget. We will propose further measures, including sanctions, to target this fleet.\\nIn response to these incidents, we are strengthening efforts to protect undersea cables, including\\nenhanced information exchange, new detection technologies, as well as in undersea repair\\ncapabilities, and international cooperation. We remain committed to ensuring the resilience and\\nsecurity of our critical infrastructure.\\nAt present, there is no risk to the security of electricity supply in the region.\\nSTATEMENT/24/6582\\nPress contacts:\\nAnna-Kaisa ITKONEN (+32 2 29 57501)\\nAnouar EL ANOUNI (+32 2 584 2106)\\nGeneral public inquiries: Europe Direct by phone 00 800 67 89 10 11 or by email\\n\", document_version=1, metadata={'folder': 'source_folder'}, chunks=None)]"
      ]
     },
     "execution_count": 3,
     "metadata": {},
     "output_type": "execute_result"
    }
   ],
   "source": [
    "ingestor = LocalIngestor(source=source)\n",
    "\n",
    "docs = ingestor.batch_ingest()\n",
    "\n",
    "docs"
   ]
  },
  {
   "cell_type": "code",
   "execution_count": 4,
   "metadata": {},
   "outputs": [
    {
     "name": "stdout",
     "output_type": "stream",
     "text": [
      "European Commission - Press release\n",
      "NextGenerationEU reaches €300 billion in RRF payments with new\n",
      "disbursements to Czechia, Germany, Italy, Portugal, and Romania\n",
      "Brussels, 23 December 2024\n",
      "Today, the Commission disbursed payments under the Recovery and Resilience Facility (RRF) to\n",
      "Czechia, Germany, Italy, Portugal and Romania, totalling €26.8 billion in loans and grants. The total\n",
      "disbursed under the RRF has now reached over €300 billion. This important milestone reflect the scale\n",
      "of the transformative reforms and investments being carried out across EU Member States,\n",
      "accelerating the green and digital transitions while strengthening the Union's overall resilience.\n",
      "Czechia receives its third payment for €1.7 billion\n",
      "The Commission disbursed €1.5 billion in grants and €200 million in loans, net of pre-financing, to\n",
      "Czechia.\n",
      "On 16 September 2024, Czechia submitted its third request for payment, covering 65 milestones and\n",
      "targets. These include reforms, such as the amendments to the Energy Act to simplify the creation of\n",
      "energy communities and the issuance of permits for renewable energy projects, alongside the entry\n",
      "into force of waste management plans and whistle-blower protection. It also covers investments in rail\n",
      "infrastructure - such as electrifying and reconstructing rail lines, and renovating station buildings -\n",
      "energy efficiency renovations of public buildings, support for industrial research, and the digitalisation\n",
      "of courtrooms.\n",
      "The Commission adopted a positive preliminary assessment of 63 of the 65 milestones on 15\n",
      "November 2024, which was followed by the favourable opinion of the Economic and Financial\n",
      "Committee of the Council, paving the way for a decision on disbursement. For the two milestones that\n",
      "were not fully fulfilled, the Commission acknowledges the first steps already taken by Czechia to\n",
      "address them, although important work remains to be done. Czechia has been given additional time\n",
      "to meet these milestones.\n",
      "To date, Czechia has received a total of €4.39 billion, out of the €9.2 billion allocated to the Czech\n",
      "recovery and resilience plan.\n",
      "Germany receives its second payment for €13.5 billion\n",
      "The Commission disbursed €13.5 billion in grants, net of pre-financing, to Germany.\n",
      "On 13 September 2024, Germany submitted its second request for payment, covering 42 milestones\n",
      "and targets. These include reforms in climate and energy policy, such as advancing Germany's\n",
      "National Hydrogen Strategy and promoting clean mobility, and in digitalization, including modernizing\n",
      "public administration and fostering innovative data policy. It also covers investments in sustainability,\n",
      "such as electric vehicles and renewable entries, and in digital infrastructure, including\n",
      "microelectronics, communication, technology and the digitalization of railways, as well as in childcare,\n",
      "housing and healthcare.\n",
      "The Commission adopted a positive preliminary assessment of the request on 26 November 2024,\n",
      "which was followed by the favourable opinion of the Economic and Financial Committee of the Council,\n",
      "paving the way for the final decision on disbursement.\n",
      "To date, Germany has received a total of €19.75 billion, out of the €30.3 billion allocated to the\n",
      "German recovery and resilience plan.\n",
      "Italy receives its sixth payment for €8.7 billion\n",
      "The Commission disbursed €6.9 billion in loans and €1.8 billion in grants, net of pre-financing, to\n",
      "Italy.\n",
      "\n",
      "\n",
      "On 28 June 2024, Italy submitted its sixth request for payment, covering 39 milestones and targets.\n",
      "These include reforms in public administration, improving human resources, public procurement, and\n",
      "tax administration, as well as in social policy, including combating undeclared work and supporting\n",
      "non-self-sufficient elderly persons. It also covers investments in digitalization, such as developing\n",
      "digital logistics platforms and modernizing national parks, alongside sustainability efforts, including\n",
      "waste management and agri-solar development.\n",
      "The Commission adopted a positive preliminary assessment of the request on 26 November 2024,\n",
      "which was followed by the favourable opinion of the Economic and Financial Committee of the Council,\n",
      "paving the way for the final decision on disbursement.\n",
      "To date, Italy has received a total of €122.2 billion, out of the €194.4 billion allocated to the Italian\n",
      "recovery and resilience plan.\n",
      "Portugal receives its fifth payment for 2.9 billion\n",
      "The Commission disbursed €1.65 billion in grants and €1.25 billion in loans, net of pre-financing, to\n",
      "Portugal.\n",
      "On 3 July 2024, Portugal submitted its fifth request for payment, covering 42 milestones and targets.\n",
      "These include reforms in energy policy, such as addressing energy poverty, promoting renewable\n",
      "hydrogen and biomethane, and improving energy efficiency, as well as in economic governance,\n",
      "including capital market development and simplification of the tax system. It also covers investments\n",
      "in the decarbonisation of public transport, and fire prevention, alongside modernisation efforts,\n",
      "including upgrading medical equipment, housing, digitalisation of businesses, and tax and customs\n",
      "systems.\n",
      "The Commission adopted a positive preliminary assessment of the request on 26 November 2024,\n",
      "which was followed by the favourable opinion of the Economic and Financial Committee of the Council,\n",
      "paving the way for the final decision on disbursement.\n",
      "To date, Portugal has received a total of €11.39 billion, out of the €22.2 billion allocated to the\n",
      "Portuguese recovery and resilience plan.\n",
      "Romania receives €37.05 million, as part of its second payment request\n",
      "The Commission disbursed €37.05 million, net of pre-financing, to Romania.\n",
      "On 15 December 2022, Romania submitted its second request for payment, covering 51 milestones\n",
      "and targets. The Commission adopted a positive preliminary assessment of all but two milestones in\n",
      "September 2023. Milestones 129 and 133, relating to energy investments, were not satisfactorily\n",
      "fulfilled, leading to a suspension of €53.4 million.\n",
      "After Romania provided additional information and made progress on these milestones, the\n",
      "Commission has now unlocked a gross amount of €42.59 million. This includes €17.78 million related\n",
      "to milestone 133, which has been fully met, and €24.8 million related to milestone 129, where\n",
      "progress has been acknowledged, although the milestone is still not considered satisfactorily fulfilled.\n",
      "The disbursement to Romania is €37.05 million, after deducting pre-financing. In parallel, due to\n",
      "milestone 129 not being fully met, the Commission has reduced the overall loan amount available to\n",
      "Romania by €10.77 million.\n",
      "To date, Romania has received a total of €9.4 billion, out of the €28.53 billion allocated to the\n",
      "Romanian recovery and resilience plan.\n",
      "Background\n",
      "These disbursements demonstrate the EU's ongoing commitment to helping Member States\n",
      "implement their recovery and resilience plans, fostering sustainable growth, strengthening economic\n",
      "resilience, and advancing the green and digital transitions across the Union.\n",
      "The RRF entered into force in February 2021 to mitigate the economic and social impact of the Covid-\n",
      "19 pandemic. It is the cornerstone of NextGenerationEU, an unprecedented EU recovery instrument to\n",
      "help repair the immediate economic and social damage of the coronavirus pandemic, and will disburse\n",
      "up to €650 billion in grants and loans to EU Member States.\n",
      "The Recovery and Resilience Facility helps mitigate the pandemic's economic and social impact, make\n",
      "\n",
      "\n",
      "sure Member States are more resilient, more sustainable and better prepared for the challenges and\n",
      "opportunities of the green and digital transitions, achieve the EU target of climate neutrality by 2050,\n",
      "set Europe on a path of digital transition, create jobs and spur growth.\n",
      "Through the Facility, the Commission can raise funds - borrowing on the capital markets - to help\n",
      "Member States implement reforms and investments.\n",
      "More information on the Recovery and Resilience Facility can be found on the Recovery and Resilience\n",
      "Scoreboard. Questions and answers detailing information on the payment process are also available\n",
      "online.\n",
      "IP/24/6568\n",
      "Press contacts:\n",
      "Olof GILL (+32 2 29 65966)\n",
      "Quentin CORTES (+32 2 29 13283)\n",
      "General public inquiries: Europe Direct by phone 00 800 67 89 10 11 or by email\n",
      "\n"
     ]
    }
   ],
   "source": [
    "print(docs[0].source)"
   ]
  },
  {
   "cell_type": "markdown",
   "metadata": {},
   "source": [
    "### Clean "
   ]
  },
  {
   "cell_type": "code",
   "execution_count": 5,
   "metadata": {},
   "outputs": [
    {
     "name": "stdout",
     "output_type": "stream",
     "text": [
      "('European Commission Press release Next Generation EU reaches €300 billion in '\n",
      " 'RRF payments with new disbursements to Czechia, Germany, Italy, Portugal, '\n",
      " 'and Romania Brussels, 23 December 2024 Today, the Commission disbursed '\n",
      " 'payments under the Recovery and Resilience Facility (RRF) to Czechia, '\n",
      " 'Germany, Italy, Portugal and Romania, totalling €26.8 billion in loans and '\n",
      " 'grants. The total disbursed under the RRF has now reached over €300 billion. '\n",
      " 'This important milestone reflect the scale of the transformative reforms and '\n",
      " 'investments being carried out across EU Member States, accelerating the '\n",
      " \"green and digital transitions while strengthening the Union's overall \"\n",
      " 'resilience. Czechia receives its third payment for €1.7 billion The '\n",
      " 'Commission disbursed €1.5 billion in grants and €200 million in loans, net '\n",
      " 'of pre-financing, to Czechia. On 16 September 2024, Czechia submitted its '\n",
      " 'third request for payment, covering 65 milestones and targets. These include '\n",
      " 'reforms, such as the amendments to the Energy Act to simplify the creation '\n",
      " 'of energy communities and the issuance of permits for renewable energy '\n",
      " 'projects, alongside the entry into force of waste management plans and '\n",
      " 'whistle-blower protection. It also covers investments in rail infrastructure '\n",
      " 'such as electrifying and reconstructing rail lines, and renovating station '\n",
      " 'buildings - energy efficiency renovations of public buildings, support for '\n",
      " 'industrial research, and the digitalisation of courtrooms. The Commission '\n",
      " 'adopted a positive preliminary assessment of 63 of the 65 milestones on 15 '\n",
      " 'November 2024, which was followed by the favourable opinion of the Economic '\n",
      " 'and Financial Committee of the Council, paving the way for a decision on '\n",
      " 'disbursement. For the two milestones that were not fully fulfilled, the '\n",
      " 'Commission acknowledges the first steps already taken by Czechia to address '\n",
      " 'them, although important work remains to be done. Czechia has been given '\n",
      " 'additional time to meet these milestones. To date, Czechia has received a '\n",
      " 'total of €4.39 billion, out of the €9.2 billion allocated to the Czech '\n",
      " 'recovery and resilience plan. Germany receives its second payment for €13.5 '\n",
      " 'billion The Commission disbursed €13.5 billion in grants, net of '\n",
      " 'pre-financing, to Germany. On 13 September 2024, Germany submitted its '\n",
      " 'second request for payment, covering 42 milestones and targets. These '\n",
      " \"include reforms in climate and energy policy, such as advancing Germany's \"\n",
      " 'National Hydrogen Strategy and promoting clean mobility, and in '\n",
      " 'digitalization, including modernizing public administration and fostering '\n",
      " 'innovative data policy. It also covers investments in sustainability, such '\n",
      " 'as electric vehicles and renewable entries, and in digital infrastructure, '\n",
      " 'including microelectronics, communication, technology and the digitalization '\n",
      " 'of railways, as well as in childcare, housing and healthcare. The Commission '\n",
      " 'adopted a positive preliminary assessment of the request on 26 November '\n",
      " '2024, which was followed by the favourable opinion of the Economic and '\n",
      " 'Financial Committee of the Council, paving the way for the final decision on '\n",
      " 'disbursement. To date, Germany has received a total of €19.75 billion, out '\n",
      " 'of the €30.3 billion allocated to the German recovery and resilience plan. '\n",
      " 'Italy receives its sixth payment for €8.7 billion The Commission disbursed '\n",
      " '€6.9 billion in loans and €1.8 billion in grants, net of pre-financing, to '\n",
      " 'Italy. On 28 June 2024, Italy submitted its sixth request for payment, '\n",
      " 'covering 39 milestones and targets. These include reforms in public '\n",
      " 'administration, improving human resources, public procurement, and tax '\n",
      " 'administration, as well as in social policy, including combating undeclared '\n",
      " 'work and supporting on-self-sufficient elderly persons. It also covers '\n",
      " 'investments in digitalization, such as developing digital logistics '\n",
      " 'platforms and modernizing national parks, alongside sustainability efforts, '\n",
      " 'including waste management and agri-solar development. The Commission '\n",
      " 'adopted a positive preliminary assessment of the request on 26 November '\n",
      " '2024, which was followed by the favourable opinion of the Economic and '\n",
      " 'Financial Committee of the Council, paving the way for the final decision on '\n",
      " 'disbursement. To date, Italy has received a total of €122.2 billion, out of '\n",
      " 'the €194.4 billion allocated to the Italian recovery and resilience plan. '\n",
      " 'Portugal receives its fifth payment for 2.9 billion The Commission disbursed '\n",
      " '€1.65 billion in grants and €1.25 billion in loans, net of pre-financing, to '\n",
      " 'Portugal. On 3 July 2024, Portugal submitted its fifth request for payment, '\n",
      " 'covering 42 milestones and targets. These include reforms in energy policy, '\n",
      " 'such as addressing energy poverty, promoting renewable hydrogen and '\n",
      " 'biomethane, and improving energy efficiency, as well as in economic '\n",
      " 'governance, including capital market development and simplification of the '\n",
      " 'tax system. It also covers investments in the decarbonisation of public '\n",
      " 'transport, and fire prevention, alongside modernisation efforts, including '\n",
      " 'upgrading medical equipment, housing, digitalisation of businesses, and tax '\n",
      " 'and customs systems. The Commission adopted a positive preliminary '\n",
      " 'assessment of the request on 26 November 2024, which was followed by the '\n",
      " 'favourable opinion of the Economic and Financial Committee of the Council, '\n",
      " 'paving the way for the final decision on disbursement. To date, Portugal has '\n",
      " 'received a total of €11.39 billion, out of the €22.2 billion allocated to '\n",
      " 'the Portuguese recovery and resilience plan. Romania receives €37.05 '\n",
      " 'million, as part of its second payment request The Commission disbursed '\n",
      " '€37.05 million, net of pre-financing, to Romania. On 15 December 2022, '\n",
      " 'Romania submitted its second request for payment, covering 51 milestones and '\n",
      " 'targets. The Commission adopted a positive preliminary assessment of all but '\n",
      " 'two milestones in September 2023. Milestones 129 and 133, relating to energy '\n",
      " 'investments, were not satisfactorily fulfilled, leading to a suspension of '\n",
      " '€53.4 million. After Romania provided additional information and made '\n",
      " 'progress on these milestones, the Commission has now unlocked a gross amount '\n",
      " 'of €42.59 million. This includes €17.78 million related to milestone 133, '\n",
      " 'which has been fully met, and €24.8 million related to milestone 129, where '\n",
      " 'progress has been acknowledged, although the milestone is still not '\n",
      " 'considered satisfactorily fulfilled. The disbursement to Romania is €37.05 '\n",
      " 'million, after deducting pre-financing. In parallel, due to milestone 129 '\n",
      " 'not being fully met, the Commission has reduced the overall loan amount '\n",
      " 'available to Romania by €10.77 million. To date, Romania has received a '\n",
      " 'total of €9.4 billion, out of the €28.53 billion allocated to the Romanian '\n",
      " 'recovery and resilience plan. Background These disbursements demonstrate the '\n",
      " \"EU's ongoing commitment to helping Member States implement their recovery \"\n",
      " 'and resilience plans, fostering sustainable growth, strengthening economic '\n",
      " 'resilience, and advancing the green and digital transitions across the '\n",
      " 'Union. The RRF entered into force in February 2021 to mitigate the economic '\n",
      " 'and social impact of the Covid- 19 pandemic. It is the cornerstone of Next '\n",
      " 'Generation EU, an unprecedented EU recovery instrument to help repair the '\n",
      " 'immediate economic and social damage of the coronavirus pandemic, and will '\n",
      " 'disburse up to €650 billion in grants and loans to EU Member States. The '\n",
      " \"Recovery and Resilience Facility helps mitigate the pandemic's economic and \"\n",
      " 'social impact, make sure Member States are more resilient, more sustainable '\n",
      " 'and better prepared for the challenges and opportunities of the green and '\n",
      " 'digital transitions, achieve the EU target of climate neutrality by 2050, '\n",
      " 'set Europe on a path of digital transition, create jobs and spur growth. '\n",
      " 'Through the Facility, the Commission can raise funds borrowing on the '\n",
      " 'capital markets to help Member States implement reforms and investments. '\n",
      " 'More information on the Recovery and Resilience Facility can be found on the '\n",
      " 'Recovery and Resilience Scoreboard. Questions and answers detailing '\n",
      " 'information on the payment process are also available online. IP/24/6568 '\n",
      " 'Press contacts: Olof GILL (+32 2 29 65966) Quentin CORTES (+32 2 29 13283) '\n",
      " 'General public inquiries: Europe Direct by phone 00 800 67 89 10 11 or by '\n",
      " 'email')\n"
     ]
    }
   ],
   "source": [
    "cleaner = Cleaner()\n",
    "\n",
    "docs = cleaner.clean_documents(docs)\n",
    "\n",
    "pprint(docs[0].source)"
   ]
  },
  {
   "cell_type": "markdown",
   "metadata": {},
   "source": [
    "### Chunk "
   ]
  },
  {
   "cell_type": "code",
   "execution_count": 6,
   "metadata": {},
   "outputs": [
    {
     "name": "stdout",
     "output_type": "stream",
     "text": [
      "Number of chunks in doc 0: 10\n",
      "Number of chunks in doc 1: 2\n"
     ]
    }
   ],
   "source": [
    "chunker = Chunker(conf=chunker_conf)\n",
    "\n",
    "docs = chunker.chunk_documents(docs)\n",
    "\n",
    "for i in range(len(docs)):\n",
    "    print(f\"Number of chunks in doc {i}: {len(docs[i].chunks)}\")"
   ]
  },
  {
   "cell_type": "markdown",
   "metadata": {},
   "source": [
    "### Embed"
   ]
  },
  {
   "cell_type": "code",
   "execution_count": 7,
   "metadata": {},
   "outputs": [],
   "source": [
    "embedder = ChunkEmbedder(conf=embedder_conf)\n",
    "\n",
    "docs = embedder.embed_documents_chunks(docs)"
   ]
  },
  {
   "cell_type": "markdown",
   "metadata": {},
   "source": [
    "### Extract Nodes and Relationships from Chunk\n",
    "Here, we use the `GraphMiner` class to extract a graph of relationships and entities from each chunk of the press releases. Say we don't have any experience in this domain, so that we leave the `Ontology` class empty. \n",
    "\n",
    "Since we are using a local Llama version, it might take a while.. "
   ]
  },
  {
   "cell_type": "code",
   "execution_count": 8,
   "metadata": {},
   "outputs": [
    {
     "name": "stderr",
     "output_type": "stream",
     "text": [
      "Error while mining graph: list index out of range\n",
      "Error while extracting graph: 1 validation error for _Graph\n",
      "relationships.1.properties.milestones\n",
      "  Input should be a valid string [type=string_type, input_value=42, input_type=int]\n",
      "    For further information visit https://errors.pydantic.dev/2.10/v/string_type\n",
      "Error while mining graph: 'NoneType' object has no attribute 'nodes'\n",
      "Error while extracting graph: 1 validation error for _Graph\n",
      "relationships.1.properties.milestones\n",
      "  Input should be a valid string [type=string_type, input_value=39, input_type=int]\n",
      "    For further information visit https://errors.pydantic.dev/2.10/v/string_type\n",
      "Error while mining graph: 'NoneType' object has no attribute 'nodes'\n",
      "Error while mining graph: list index out of range\n",
      "Error while mining graph: list index out of range\n",
      "Error while mining graph: list index out of range\n",
      "Error while mining graph: list index out of range\n",
      "Error while mining graph: list index out of range\n"
     ]
    }
   ],
   "source": [
    "graph_miner = GraphMiner(\n",
    "    conf=llm_conf, \n",
    "    ontology=None\n",
    ")\n",
    "\n",
    "docs = graph_miner.mine_graph_from_docs(docs=docs)"
   ]
  },
  {
   "cell_type": "code",
   "execution_count": 9,
   "metadata": {},
   "outputs": [
    {
     "data": {
      "text/plain": [
       "[Node(id='Czechia', type='Country', properties={'reforms': 'amendments to the law on e-government', 'name': 'Czechia'}),\n",
       " Node(id='Germany', type='Country', properties={'name': 'Germany'}),\n",
       " Node(id='Italy', type='Country', properties={'name': 'Italy'}),\n",
       " Node(id='Portugal', type='Country', properties={'name': 'Portugal'}),\n",
       " Node(id='Romania', type='Country', properties={'name': 'Romania'})]"
      ]
     },
     "execution_count": 9,
     "metadata": {},
     "output_type": "execute_result"
    }
   ],
   "source": [
    "docs[0].chunks[0].nodes"
   ]
  },
  {
   "cell_type": "code",
   "execution_count": 10,
   "metadata": {},
   "outputs": [
    {
     "data": {
      "text/plain": [
       "[Relationship(source=Node(id='Czechia', type='Country', properties={'reforms': 'amendments to the law on e-government', 'name': 'Czechia'}), target=Node(id='Germany', type='Country', properties={'name': 'Germany'}), type='Payment', properties={'amount': '€1.5 billion'}),\n",
       " Relationship(source=Node(id='Czechia', type='Country', properties={'reforms': 'amendments to the law on e-government', 'name': 'Czechia'}), target=Node(id='Italy', type='Country', properties={'name': 'Italy'}), type='Payment', properties={'amount': '€200 million'}),\n",
       " Relationship(source=Node(id='Czechia', type='Country', properties={'reforms': 'amendments to the law on e-government', 'name': 'Czechia'}), target=Node(id='Romania', type='Country', properties={'name': 'Romania'}), type='Payment', properties={'amount': '€1.7 billion'}),\n",
       " Relationship(source=Node(id='Germany', type='Country', properties={'name': 'Germany'}), target=Node(id='Italy', type='Country', properties={'name': 'Italy'}), type='Payment', properties={'amount': '€200 million'}),\n",
       " Relationship(source=Node(id='Germany', type='Country', properties={'name': 'Germany'}), target=Node(id='Romania', type='Country', properties={'name': 'Romania'}), type='Payment', properties={'amount': '€1.5 billion'}),\n",
       " Relationship(source=Node(id='Italy', type='Country', properties={'name': 'Italy'}), target=Node(id='Portugal', type='Country', properties={'name': 'Portugal'}), type='Payment', properties={'amount': '€200 million'}),\n",
       " Relationship(source=Node(id='Italy', type='Country', properties={'name': 'Italy'}), target=Node(id='Romania', type='Country', properties={'name': 'Romania'}), type='Payment', properties={'amount': '€1.7 billion'}),\n",
       " Relationship(source=Node(id='Portugal', type='Country', properties={'name': 'Portugal'}), target=Node(id='Romania', type='Country', properties={'name': 'Romania'}), type='Payment', properties={'amount': '€26.8 billion'})]"
      ]
     },
     "execution_count": 10,
     "metadata": {},
     "output_type": "execute_result"
    }
   ],
   "source": [
    "docs[0].chunks[0].relationships"
   ]
  },
  {
   "cell_type": "markdown",
   "metadata": {},
   "source": [
    "### Knowledge Graph Interaction"
   ]
  },
  {
   "cell_type": "code",
   "execution_count": 32,
   "metadata": {},
   "outputs": [],
   "source": [
    "knowledge_graph = KnowledgeGraph(\n",
    "    conf=kg_config, \n",
    "    embeddings_model=embedder.embeddings\n",
    ")"
   ]
  },
  {
   "cell_type": "code",
   "execution_count": 33,
   "metadata": {},
   "outputs": [
    {
     "data": {
      "text/plain": [
       "True"
      ]
     },
     "execution_count": 33,
     "metadata": {},
     "output_type": "execute_result"
    }
   ],
   "source": [
    "knowledge_graph._driver.verify_connectivity()\n",
    "\n",
    "knowledge_graph._driver.verify_authentication()"
   ]
  },
  {
   "cell_type": "code",
   "execution_count": 13,
   "metadata": {},
   "outputs": [],
   "source": [
    "knowledge_graph.add_documents(docs)"
   ]
  },
  {
   "cell_type": "code",
   "execution_count": 14,
   "metadata": {},
   "outputs": [
    {
     "data": {
      "text/plain": [
       "'vectors'"
      ]
     },
     "execution_count": 14,
     "metadata": {},
     "output_type": "execute_result"
    }
   ],
   "source": [
    "knowledge_graph.index_name"
   ]
  },
  {
   "cell_type": "code",
   "execution_count": 15,
   "metadata": {},
   "outputs": [
    {
     "data": {
      "text/plain": [
       "9"
      ]
     },
     "execution_count": 15,
     "metadata": {},
     "output_type": "execute_result"
    }
   ],
   "source": [
    "knowledge_graph.number_of_labels"
   ]
  },
  {
   "cell_type": "code",
   "execution_count": 34,
   "metadata": {},
   "outputs": [
    {
     "data": {
      "text/plain": [
       "26"
      ]
     },
     "execution_count": 34,
     "metadata": {},
     "output_type": "execute_result"
    }
   ],
   "source": [
    "knowledge_graph.number_of_nodes"
   ]
  },
  {
   "cell_type": "code",
   "execution_count": 16,
   "metadata": {},
   "outputs": [
    {
     "data": {
      "text/plain": [
       "97"
      ]
     },
     "execution_count": 16,
     "metadata": {},
     "output_type": "execute_result"
    }
   ],
   "source": [
    "knowledge_graph.number_of_relationships"
   ]
  },
  {
   "cell_type": "markdown",
   "metadata": {},
   "source": [
    "### Results in Neo4j Aura\n",
    "\n",
    "Connecting to Neo4j Aura confirms visually what we already know: a Knowledge Graph made of Documents, Chunks and the entities + relationships mentioned in those Chunks has been created and it's ready to be queried either via **vector search** or via **graph search**, or even employing a **hybrid approach**.\n",
    "\n",
    "![img](assets/graph_from_press_releases.png)"
   ]
  }
 ],
 "metadata": {
  "kernelspec": {
   "display_name": ".venv",
   "language": "python",
   "name": "python3"
  },
  "language_info": {
   "codemirror_mode": {
    "name": "ipython",
    "version": 3
   },
   "file_extension": ".py",
   "mimetype": "text/x-python",
   "name": "python",
   "nbconvert_exporter": "python",
   "pygments_lexer": "ipython3",
   "version": "3.12.4"
  }
 },
 "nbformat": 4,
 "nbformat_minor": 2
}
