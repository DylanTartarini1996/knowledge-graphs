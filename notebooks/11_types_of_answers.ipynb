{
 "cells": [
  {
   "cell_type": "code",
   "execution_count": null,
   "metadata": {},
   "outputs": [],
   "source": [
    "import os\n",
    "from dotenv import load_dotenv\n",
    "\n",
    "from pprint import pprint\n",
    "\n",
    "from src.config import LLMConf, EmbedderConf, KnowledgeGraphConfig\n",
    "from src.factory.embeddings import get_embeddings\n",
    "from src.graph.knowledge_graph import KnowledgeGraph\n",
    "from src.agents.graph_qa import GraphAgentResponder\n",
    "env = load_dotenv('config.env')\n",
    "\n",
    "from pgs.utils import get_configuration_from_env\n",
    "\n",
    "from src.utils.logger import get_logger\n",
    "logger = get_logger(__name__)\n",
    "\n",
    "conf = get_configuration_from_env()"
   ]
  },
  {
   "cell_type": "code",
   "execution_count": null,
   "metadata": {},
   "outputs": [],
   "source": [
    "kg_config = KnowledgeGraphConfig(\n",
    "    uri=os.getenv(\"NEO4J_URI\"),\n",
    "    user=os.getenv(\"NEO4J_USERNAME\"),\n",
    "    password=os.getenv(\"NEO4J_PASSWORD\"),\n",
    "    index_name='vector'\n",
    ")\n",
    "\n",
    "embedder_conf = EmbedderConf(\n",
    "    type=os.getenv(\"EMBEDDINGS_TYPE\"),\n",
    "    model=os.getenv(\"EMBEDDINGS_MODEL_NAME\"),\n",
    ")\n",
    "\n",
    "model_conf=LLMConf(\n",
    "    type=os.getenv(\"RE_MODEL_TYPE\"),\n",
    "    model=os.getenv(\"RE_MODEL_NAME\"), \n",
    "    temperature=os.getenv(\"RE_MODEL_TEMPERATURE\"), \n",
    "    deployment=os.getenv(\"RE_MODEL_DEPLOYMENT\"),\n",
    "    api_key=os.getenv(\"RE_API_KEY\"),\n",
    "    endpoint=os.getenv(\"RE_MODEL_ENDPOINT\"),\n",
    "    api_version=os.getenv(\"RE_MODEL_API_VERSION\") or None\n",
    ")\n",
    "\n",
    "embeddings = get_embeddings(conf=embedder_conf)\n",
    "\n",
    "kg = KnowledgeGraph(conf=kg_config,embeddings_model=embeddings)"
   ]
  },
  {
   "cell_type": "markdown",
   "metadata": {},
   "source": [
    "## Cypher Chains\n",
    "Here we use a method to answer using  only Cypher queries"
   ]
  },
  {
   "cell_type": "code",
   "execution_count": null,
   "metadata": {},
   "outputs": [],
   "source": [
    "responder = GraphAgentResponder(\n",
    "    qa_llm_conf=conf.qa_model,\n",
    "    cypher_llm_conf=conf.qa_model,\n",
    "    graph=kg,\n",
    "    # rephrase_llm_conf=conf.qa_model\n",
    ")"
   ]
  },
  {
   "cell_type": "code",
   "execution_count": null,
   "metadata": {},
   "outputs": [],
   "source": [
    "responder.answer_with_cypher(query=\"Who works for Europe Direct?\")"
   ]
  },
  {
   "cell_type": "code",
   "execution_count": null,
   "metadata": {},
   "outputs": [],
   "source": [
    "responder.answer_with_cypher(\n",
    "    query=\"What legislation has been discussed that regards Apple?\", \n",
    "    intermediate_steps=True\n",
    ")"
   ]
  },
  {
   "cell_type": "code",
   "execution_count": null,
   "metadata": {},
   "outputs": [],
   "source": [
    "# rephraser not working as expected\n",
    "responder_with_rephrase = GraphAgentResponder(\n",
    "    qa_llm_conf=conf.qa_model,\n",
    "    cypher_llm_conf=conf.qa_model,\n",
    "    graph=kg,\n",
    "    rephrase_llm_conf=conf.qa_model\n",
    ")"
   ]
  },
  {
   "cell_type": "code",
   "execution_count": null,
   "metadata": {},
   "outputs": [],
   "source": [
    "responder_with_rephrase.answer_with_cypher(query=\"Who works for Europe Direct?\")"
   ]
  },
  {
   "cell_type": "code",
   "execution_count": null,
   "metadata": {},
   "outputs": [],
   "source": [
    "responder_with_rephrase.answer_with_cypher(\n",
    "    query=\"What legislation has been discussed that regards Apple?\", \n",
    "    intermediate_steps=True\n",
    ")"
   ]
  },
  {
   "cell_type": "markdown",
   "metadata": {},
   "source": [
    "## Vanilla RAG\n",
    "Uses only vanilla RAG to answer the user's question.  \n",
    "If `use_adjacent_chunks=True` will query the graph for additional context   \n",
    "compared to the Chunks retrieved by the similarity search. Latency will be higher due to expanded context. "
   ]
  },
  {
   "cell_type": "code",
   "execution_count": null,
   "metadata": {},
   "outputs": [],
   "source": [
    "responder = GraphAgentResponder(\n",
    "    qa_llm_conf=conf.qa_model,\n",
    "    cypher_llm_conf=conf.qa_model,\n",
    "    graph=kg\n",
    "    # rephrase_llm_conf=conf.qa_model\n",
    ")"
   ]
  },
  {
   "cell_type": "code",
   "execution_count": null,
   "metadata": {},
   "outputs": [],
   "source": [
    "responder.answer_with_context(\"Who works for Europe Direct?\")"
   ]
  },
  {
   "cell_type": "code",
   "execution_count": null,
   "metadata": {},
   "outputs": [],
   "source": [
    "responder.answer_with_context(\n",
    "    query=\"Who works for Europe Direct?\", \n",
    "    use_adjacent_chunks=True\n",
    ")"
   ]
  },
  {
   "cell_type": "code",
   "execution_count": null,
   "metadata": {},
   "outputs": [],
   "source": [
    "responder.answer_with_context(\n",
    "    query=\"What legislation has been discussed that regards Apple?\"\n",
    ")"
   ]
  },
  {
   "cell_type": "code",
   "execution_count": null,
   "metadata": {},
   "outputs": [],
   "source": [
    "responder.answer_with_context(\n",
    "    query=\"What legislation has been discussed that regards Apple?\",\n",
    "    use_adjacent_chunks=True\n",
    ")"
   ]
  },
  {
   "cell_type": "code",
   "execution_count": null,
   "metadata": {},
   "outputs": [],
   "source": [
    "responder.answer_with_context(\"Who is Eva Hrncirova?\")"
   ]
  },
  {
   "cell_type": "code",
   "execution_count": null,
   "metadata": {},
   "outputs": [],
   "source": [
    "responder.answer_with_context(\"Who is Eva Hrncirova?\", use_adjacent_chunks=True)"
   ]
  },
  {
   "cell_type": "code",
   "execution_count": null,
   "metadata": {},
   "outputs": [],
   "source": [
    "responder.answer_with_context(\"Who is the Commissioner for Intergenerational Fairness?\")"
   ]
  },
  {
   "cell_type": "code",
   "execution_count": null,
   "metadata": {},
   "outputs": [],
   "source": [
    "responder.answer_with_context(\n",
    "    query=\"Who is the Commissioner for Intergenerational Fairness?\",\n",
    "    use_adjacent_chunks=True\n",
    ")"
   ]
  },
  {
   "cell_type": "code",
   "execution_count": null,
   "metadata": {},
   "outputs": [],
   "source": [
    "responder.answer_with_context(query=\"Who is Glenn Micallef?\")"
   ]
  },
  {
   "cell_type": "code",
   "execution_count": null,
   "metadata": {},
   "outputs": [],
   "source": [
    "responder.answer_with_context(query=\"Who is Glenn Micallef?\", use_adjacent_chunks=True)"
   ]
  },
  {
   "cell_type": "code",
   "execution_count": null,
   "metadata": {},
   "outputs": [],
   "source": [
    "responder.answer_with_context(\"what is the Digital Markets Act?\")"
   ]
  },
  {
   "cell_type": "code",
   "execution_count": null,
   "metadata": {},
   "outputs": [],
   "source": [
    "responder.answer_with_context(\"what is the Digital Markets Act?\", use_adjacent_chunks=True)"
   ]
  },
  {
   "cell_type": "markdown",
   "metadata": {},
   "source": [
    "## Community Reports  \n",
    "\n",
    "Queries two vector indexes to get the user's answer out of an ensemble of contexts:\n",
    "1. one made of a list of `CommunityReport`\n",
    "2. one made of a list of `Chunk` from the same communities of the reports. \n",
    "\n",
    "If `use_adjacent_chunks=True` will query the graph for additional context \n",
    "compared to the Chunks retrieved by the similarity search. Latency will be higher due to expanded context. "
   ]
  },
  {
   "cell_type": "code",
   "execution_count": null,
   "metadata": {},
   "outputs": [],
   "source": [
    "responder = GraphAgentResponder(\n",
    "    qa_llm_conf=conf.qa_model,\n",
    "    cypher_llm_conf=conf.qa_model,\n",
    "    graph=kg\n",
    "    # rephrase_llm_conf=conf.qa_model\n",
    ")"
   ]
  },
  {
   "cell_type": "code",
   "execution_count": null,
   "metadata": {},
   "outputs": [],
   "source": [
    "responder.answer_with_community_reports(\n",
    "    query=\"what is the Digital Markets Act?\", \n",
    "    use_adjacent_chunks=False, \n",
    "    community_type=\"leiden\"\n",
    ")"
   ]
  },
  {
   "cell_type": "code",
   "execution_count": null,
   "metadata": {},
   "outputs": [],
   "source": [
    "responder.answer_with_community_reports(\n",
    "    query=\"what is the Digital Markets Act?\", \n",
    "    use_adjacent_chunks=True,\n",
    "    community_type=\"leiden\"\n",
    ")"
   ]
  },
  {
   "cell_type": "code",
   "execution_count": null,
   "metadata": {},
   "outputs": [],
   "source": [
    "responder.answer_with_community_reports(query=\"What is the European Commission telling Apple to do?\")"
   ]
  },
  {
   "cell_type": "code",
   "execution_count": null,
   "metadata": {},
   "outputs": [],
   "source": [
    "responder.answer_with_community_reports(\n",
    "    query=\"What is the European Commission telling Apple to do?\", \n",
    "    use_adjacent_chunks=True,\n",
    "    community_type=\"leiden\"\n",
    ")"
   ]
  },
  {
   "cell_type": "code",
   "execution_count": null,
   "metadata": {},
   "outputs": [],
   "source": [
    "responder.answer_with_community_reports(\n",
    "    query=\"Who is the Commissioner for Intergenerational Fairness?\", \n",
    "    use_adjacent_chunks=True,\n",
    "    community_type=\"leiden\"\n",
    ")"
   ]
  },
  {
   "cell_type": "markdown",
   "metadata": {},
   "source": [
    "## Answer with Communities Subgraph\n",
    "\n",
    "Answers after querying for communities:\n",
    "* read the most relevant community report \n",
    "* fetch chunks belonging to the most relevant community (the one from the community report)\n",
    "* follow the MENTIONS relationship of each Chunk and obtain a dictionary \n",
    "* fetch the community subgraph under the form of another dictionary \n",
    "* passes the dictionaries + the report to a reconciler agent to decide how to answer"
   ]
  },
  {
   "cell_type": "code",
   "execution_count": null,
   "metadata": {},
   "outputs": [],
   "source": [
    "responder = GraphAgentResponder(\n",
    "    qa_llm_conf=conf.qa_model,\n",
    "    cypher_llm_conf=conf.qa_model,\n",
    "    graph=kg\n",
    "    # rephrase_llm_conf=conf.qa_model\n",
    ")"
   ]
  },
  {
   "cell_type": "code",
   "execution_count": null,
   "metadata": {},
   "outputs": [],
   "source": [
    "responder.answer_with_community_subgraph(query=\"What is the European Commission telling Apple to do?\")"
   ]
  },
  {
   "cell_type": "code",
   "execution_count": null,
   "metadata": {},
   "outputs": [],
   "source": [
    "responder.answer_with_community_subgraph(query=\"Who is the Commissioner for Intergenerational Fairness?\")"
   ]
  },
  {
   "cell_type": "markdown",
   "metadata": {},
   "source": [
    "## Full Answer"
   ]
  },
  {
   "cell_type": "code",
   "execution_count": null,
   "metadata": {},
   "outputs": [],
   "source": [
    "responder = GraphAgentResponder(\n",
    "    qa_llm_conf=conf.qa_model,\n",
    "    cypher_llm_conf=conf.qa_model,\n",
    "    graph=kg\n",
    "    # rephrase_llm_conf=conf.qa_model\n",
    ")"
   ]
  },
  {
   "cell_type": "code",
   "execution_count": null,
   "metadata": {},
   "outputs": [],
   "source": [
    "responder.answer(query=\"What is Europe doing for remote areas?\")"
   ]
  },
  {
   "cell_type": "code",
   "execution_count": null,
   "metadata": {},
   "outputs": [],
   "source": [
    "responder.answer(query=\"Who is the Commissioner for Intergenerational Fairness?\")"
   ]
  },
  {
   "cell_type": "code",
   "execution_count": null,
   "metadata": {},
   "outputs": [],
   "source": [
    "responder.answer(query=\"Who is the Commissioner for Intergenerational Fairness?\", use_adjacent_chunks=True)"
   ]
  },
  {
   "cell_type": "code",
   "execution_count": null,
   "metadata": {},
   "outputs": [],
   "source": [
    "responder.answer(query=\"Who works for Europe Direct?\", use_adjacent_chunks=True)"
   ]
  },
  {
   "cell_type": "code",
   "execution_count": null,
   "metadata": {},
   "outputs": [],
   "source": [
    "responder.answer(query=\"Who is Eva Hrncirova?\", use_adjacent_chunks=True)"
   ]
  },
  {
   "cell_type": "code",
   "execution_count": null,
   "metadata": {},
   "outputs": [],
   "source": [
    "responder.answer(query=\"What is the European Commission telling Apple to do?\")"
   ]
  }
 ],
 "metadata": {
  "kernelspec": {
   "display_name": ".venv",
   "language": "python",
   "name": "python3"
  },
  "language_info": {
   "codemirror_mode": {
    "name": "ipython",
    "version": 3
   },
   "file_extension": ".py",
   "mimetype": "text/x-python",
   "name": "python",
   "nbconvert_exporter": "python",
   "pygments_lexer": "ipython3",
   "version": "3.11.5"
  }
 },
 "nbformat": 4,
 "nbformat_minor": 2
}
