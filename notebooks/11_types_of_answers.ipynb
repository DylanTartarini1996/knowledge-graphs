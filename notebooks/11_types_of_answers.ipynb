{
 "cells": [
  {
   "cell_type": "code",
   "execution_count": 1,
   "metadata": {},
   "outputs": [
    {
     "name": "stderr",
     "output_type": "stream",
     "text": [
      "2025-04-13 10:23:06.822 WARNING streamlit.runtime.caching.cache_data_api: No runtime found, using MemoryCacheStorageManager\n",
      "2025-04-13 10:23:06.824 WARNING streamlit.runtime.caching.cache_data_api: No runtime found, using MemoryCacheStorageManager\n",
      "2025-04-13 10:23:06.824 WARNING streamlit.runtime.scriptrunner_utils.script_run_context: Thread 'MainThread': missing ScriptRunContext! This warning can be ignored when running in bare mode.\n",
      "2025-04-13 10:23:06.900 \n",
      "  \u001b[33m\u001b[1mWarning:\u001b[0m to view this Streamlit app on a browser, run it with the following\n",
      "  command:\n",
      "\n",
      "    streamlit run /Users/dylan.tartarini/Desktop/Dylan/knowledge-graphs/.venv/lib/python3.11/site-packages/ipykernel_launcher.py [ARGUMENTS]\n",
      "2025-04-13 10:23:06.900 Thread 'MainThread': missing ScriptRunContext! This warning can be ignored when running in bare mode.\n",
      "2025-04-13 10:23:06.900 Thread 'MainThread': missing ScriptRunContext! This warning can be ignored when running in bare mode.\n",
      "2025-04-13 10:23:06.902 Thread 'MainThread': missing ScriptRunContext! This warning can be ignored when running in bare mode.\n",
      "2025-04-13 10:23:06.902 Thread 'MainThread': missing ScriptRunContext! This warning can be ignored when running in bare mode.\n"
     ]
    }
   ],
   "source": [
    "import os\n",
    "from dotenv import load_dotenv\n",
    "\n",
    "from pprint import pprint\n",
    "\n",
    "from src.config import LLMConf, EmbedderConf, KnowledgeGraphConfig\n",
    "from src.factory.embeddings import get_embeddings\n",
    "from src.graph.knowledge_graph import KnowledgeGraph\n",
    "from src.agents.graph_qa import GraphAgentResponder\n",
    "env = load_dotenv('config.env')\n",
    "\n",
    "from pgs.utils import get_configuration_from_env\n",
    "\n",
    "from src.utils.logger import get_logger\n",
    "logger = get_logger(__name__)\n",
    "\n",
    "conf = get_configuration_from_env()"
   ]
  },
  {
   "cell_type": "code",
   "execution_count": 2,
   "metadata": {},
   "outputs": [],
   "source": [
    "kg_config = KnowledgeGraphConfig(\n",
    "    uri=os.getenv(\"NEO4J_URI\"),\n",
    "    user=os.getenv(\"NEO4J_USERNAME\"),\n",
    "    password=os.getenv(\"NEO4J_PASSWORD\"),\n",
    "    index_name='vector'\n",
    ")\n",
    "\n",
    "embedder_conf = EmbedderConf(\n",
    "    type=os.getenv(\"EMBEDDINGS_TYPE\"),\n",
    "    model=os.getenv(\"EMBEDDINGS_MODEL_NAME\"),\n",
    ")\n",
    "\n",
    "model_conf=LLMConf(\n",
    "    type=os.getenv(\"RE_MODEL_TYPE\"),\n",
    "    model=os.getenv(\"RE_MODEL_NAME\"), \n",
    "    temperature=os.getenv(\"RE_MODEL_TEMPERATURE\"), \n",
    "    deployment=os.getenv(\"RE_MODEL_DEPLOYMENT\"),\n",
    "    api_key=os.getenv(\"RE_API_KEY\"),\n",
    "    endpoint=os.getenv(\"RE_MODEL_ENDPOINT\"),\n",
    "    api_version=os.getenv(\"RE_MODEL_API_VERSION\") or None\n",
    ")\n",
    "\n",
    "embeddings = get_embeddings(conf=embedder_conf)\n",
    "\n",
    "kg = KnowledgeGraph(conf=kg_config,embeddings_model=embeddings)"
   ]
  },
  {
   "cell_type": "markdown",
   "metadata": {},
   "source": [
    "## Cypher Chains\n",
    "Here we use a method to answer using  only Cypher queries"
   ]
  },
  {
   "cell_type": "code",
   "execution_count": 15,
   "metadata": {},
   "outputs": [
    {
     "name": "stderr",
     "output_type": "stream",
     "text": [
      "2025-04-12 17:46:07,632 - src.factory.llm - INFO - Fetching LLM model 'gemma2-9b-it'..\n",
      "2025-04-12 17:46:07,679 - src.factory.llm - INFO - Initialized LLM of type: 'ModelType.GROQ'\n",
      "2025-04-12 17:46:07,679 - src.factory.llm - INFO - Fetching LLM model 'gemma2-9b-it'..\n",
      "2025-04-12 17:46:07,712 - src.factory.llm - INFO - Initialized LLM of type: 'ModelType.GROQ'\n"
     ]
    }
   ],
   "source": [
    "responder = GraphAgentResponder(\n",
    "    qa_llm_conf=conf.qa_model,\n",
    "    cypher_llm_conf=conf.qa_model,\n",
    "    graph=kg,\n",
    "    # rephrase_llm_conf=conf.qa_model\n",
    ")"
   ]
  },
  {
   "cell_type": "code",
   "execution_count": 11,
   "metadata": {},
   "outputs": [
    {
     "data": {
      "text/plain": [
       "'Eva Hrncirova and Quentin Cortes work for Europe Direct. \\n'"
      ]
     },
     "execution_count": 11,
     "metadata": {},
     "output_type": "execute_result"
    }
   ],
   "source": [
    "responder.answer_with_cypher(query=\"Who works for Europe Direct?\")"
   ]
  },
  {
   "cell_type": "code",
   "execution_count": 12,
   "metadata": {},
   "outputs": [
    {
     "data": {
      "text/plain": [
       "('The Digital Markets Act has been discussed regarding Apple. \\n',\n",
       " [{'query': \"MATCH (c:Chunk)-[:MENTIONS]->(l:Legislation) WHERE c.text CONTAINS 'Apple' RETURN l.id, l.name\\n\"},\n",
       "  {'context': [{'l.id': 'Digital Markets Act',\n",
       "     'l.name': 'Digital Markets Act'},\n",
       "    {'l.id': 'Digital Markets Act', 'l.name': 'Digital Markets Act'}]}])"
      ]
     },
     "execution_count": 12,
     "metadata": {},
     "output_type": "execute_result"
    }
   ],
   "source": [
    "responder.answer_with_cypher(\n",
    "    query=\"What legislation has been discussed that regards Apple?\", \n",
    "    intermediate_steps=True\n",
    ")"
   ]
  },
  {
   "cell_type": "code",
   "execution_count": 13,
   "metadata": {},
   "outputs": [
    {
     "name": "stderr",
     "output_type": "stream",
     "text": [
      "2025-04-12 17:45:55,032 - src.factory.llm - INFO - Fetching LLM model 'gemma2-9b-it'..\n",
      "2025-04-12 17:45:55,081 - src.factory.llm - INFO - Initialized LLM of type: 'ModelType.GROQ'\n",
      "2025-04-12 17:45:55,082 - src.factory.llm - INFO - Fetching LLM model 'gemma2-9b-it'..\n",
      "2025-04-12 17:45:55,115 - src.factory.llm - INFO - Initialized LLM of type: 'ModelType.GROQ'\n",
      "2025-04-12 17:45:55,115 - src.factory.llm - INFO - Fetching LLM model 'gemma2-9b-it'..\n",
      "2025-04-12 17:45:55,146 - src.factory.llm - INFO - Initialized LLM of type: 'ModelType.GROQ'\n"
     ]
    }
   ],
   "source": [
    "# rephraser not working as expected\n",
    "responder_with_rephrase = GraphAgentResponder(\n",
    "    qa_llm_conf=conf.qa_model,\n",
    "    cypher_llm_conf=conf.qa_model,\n",
    "    graph=kg,\n",
    "    rephrase_llm_conf=conf.qa_model\n",
    ")"
   ]
  },
  {
   "cell_type": "code",
   "execution_count": 14,
   "metadata": {},
   "outputs": [
    {
     "name": "stderr",
     "output_type": "stream",
     "text": [
      "2025-04-12 17:45:58,271 - src.agents.graph_qa - INFO - Rephrased Question: FIND Person WHERE Person.WORKS_FOR = 'Europe Direct' \n",
      "\n",
      "Received notification from DBMS server: {severity: WARNING} {code: Neo.ClientNotification.Statement.UnknownPropertyKeyWarning} {category: UNRECOGNIZED} {title: The provided property key is not in the database} {description: One of the property names in your query is not available in the database, make sure you didn't misspell it or that the label is available when you run this statement in your application (the missing property name is: WORKS_FOR)} {position: line: 1, column: 26, offset: 25} for query: \"MATCH (p:Person) WHERE p.WORKS_FOR = 'Europe Direct' RETURN p\\n\"\n"
     ]
    },
    {
     "data": {
      "text/plain": [
       "\"I don't know the answer. \\n\""
      ]
     },
     "execution_count": 14,
     "metadata": {},
     "output_type": "execute_result"
    }
   ],
   "source": [
    "responder_with_rephrase.answer_with_cypher(query=\"Who works for Europe Direct?\")"
   ]
  },
  {
   "cell_type": "code",
   "execution_count": 8,
   "metadata": {},
   "outputs": [
    {
     "name": "stderr",
     "output_type": "stream",
     "text": [
      "2025-04-06 18:53:42,630 - src.agents.graph_qa - INFO - Rephrased Question: FIND  Legislation  MENTIONS 'Apple'  \n",
      "\n"
     ]
    },
    {
     "data": {
      "text/plain": [
       "(\"I don't know the answer. \\n\",\n",
       " [{'query': \"MATCH (l:Legislation)<-[:MENTIONS]-(c:Chunk) WHERE c.text CONTAINS 'Apple' RETURN l\\n\"},\n",
       "  {'context': [{'l': {'community_leiden': 2,\n",
       "      'closeness': 0.07395602614661552,\n",
       "      'name': 'Digital Markets Act',\n",
       "      'id': 'Digital Markets Act',\n",
       "      'betweenness': 0.013308240354886411,\n",
       "      'pagerank': 0.005754031618527281,\n",
       "      'community_louvain': 1}},\n",
       "    {'l': {'community_leiden': 2,\n",
       "      'closeness': 0.07395602614661552,\n",
       "      'name': 'Digital Markets Act',\n",
       "      'id': 'Digital Markets Act',\n",
       "      'betweenness': 0.013308240354886411,\n",
       "      'pagerank': 0.005754031618527281,\n",
       "      'community_louvain': 1}}]}])"
      ]
     },
     "execution_count": 8,
     "metadata": {},
     "output_type": "execute_result"
    }
   ],
   "source": [
    "responder_with_rephrase.answer_with_cypher(\n",
    "    query=\"What legislation has been discussed that regards Apple?\", \n",
    "    intermediate_steps=True\n",
    ")"
   ]
  },
  {
   "cell_type": "markdown",
   "metadata": {},
   "source": [
    "## Vanilla RAG\n",
    "Uses only vanilla RAG to answer the user's question.  \n",
    "If `use_adjacent_chunks=True` will query the graph for additional context   \n",
    "compared to the Chunks retrieved by the similarity search. Latency will be higher due to expanded context. "
   ]
  },
  {
   "cell_type": "code",
   "execution_count": 5,
   "metadata": {},
   "outputs": [
    {
     "name": "stderr",
     "output_type": "stream",
     "text": [
      "2025-04-09 11:52:09,281 - src.factory.llm - INFO - Fetching LLM model 'gemma2-9b-it'..\n",
      "2025-04-09 11:52:09,332 - src.factory.llm - INFO - Initialized LLM of type: 'ModelType.GROQ'\n",
      "2025-04-09 11:52:09,333 - src.factory.llm - INFO - Fetching LLM model 'gemma2-9b-it'..\n",
      "2025-04-09 11:52:09,370 - src.factory.llm - INFO - Initialized LLM of type: 'ModelType.GROQ'\n"
     ]
    }
   ],
   "source": [
    "responder = GraphAgentResponder(\n",
    "    qa_llm_conf=conf.qa_model,\n",
    "    cypher_llm_conf=conf.qa_model,\n",
    "    graph=kg\n",
    "    # rephrase_llm_conf=conf.qa_model\n",
    ")"
   ]
  },
  {
   "cell_type": "code",
   "execution_count": 6,
   "metadata": {},
   "outputs": [
    {
     "data": {
      "text/plain": [
       "\"I don't know.  \\n\""
      ]
     },
     "execution_count": 6,
     "metadata": {},
     "output_type": "execute_result"
    }
   ],
   "source": [
    "responder.answer_with_context(\"Who works for Europe Direct?\")"
   ]
  },
  {
   "cell_type": "code",
   "execution_count": 7,
   "metadata": {},
   "outputs": [
    {
     "data": {
      "text/plain": [
       "'The provided text does not say who works for Europe Direct. \\n\\n\\n'"
      ]
     },
     "execution_count": 7,
     "metadata": {},
     "output_type": "execute_result"
    }
   ],
   "source": [
    "responder.answer_with_context(\n",
    "    query=\"Who works for Europe Direct?\", \n",
    "    use_adjacent_chunks=True\n",
    ")"
   ]
  },
  {
   "cell_type": "code",
   "execution_count": 6,
   "metadata": {},
   "outputs": [
    {
     "data": {
      "text/plain": [
       "'The legislation discussed that regards Apple is the Digital Markets Act (DMA).  \\n'"
      ]
     },
     "execution_count": 6,
     "metadata": {},
     "output_type": "execute_result"
    }
   ],
   "source": [
    "responder.answer_with_context(\n",
    "    query=\"What legislation has been discussed that regards Apple?\"\n",
    ")"
   ]
  },
  {
   "cell_type": "code",
   "execution_count": 7,
   "metadata": {},
   "outputs": [
    {
     "data": {
      "text/plain": [
       "'The legislation discussed that regards Apple is the Digital Markets Act (DMA).  \\n'"
      ]
     },
     "execution_count": 7,
     "metadata": {},
     "output_type": "execute_result"
    }
   ],
   "source": [
    "responder.answer_with_context(\n",
    "    query=\"What legislation has been discussed that regards Apple?\",\n",
    "    use_adjacent_chunks=True\n",
    ")"
   ]
  },
  {
   "cell_type": "code",
   "execution_count": 8,
   "metadata": {},
   "outputs": [
    {
     "data": {
      "text/plain": [
       "'Eva Hrncirova is a press contact for Glenn Micallef, Commissioner for Intergenerational Fairness, Youth, Culture and Sport.  \\n'"
      ]
     },
     "execution_count": 8,
     "metadata": {},
     "output_type": "execute_result"
    }
   ],
   "source": [
    "responder.answer_with_context(\"Who is Eva Hrncirova?\")"
   ]
  },
  {
   "cell_type": "code",
   "execution_count": 5,
   "metadata": {},
   "outputs": [
    {
     "data": {
      "text/plain": [
       "'Eva Hrncirova is a press contact for Discover EU.  \\n'"
      ]
     },
     "execution_count": 5,
     "metadata": {},
     "output_type": "execute_result"
    }
   ],
   "source": [
    "responder.answer_with_context(\"Who is Eva Hrncirova?\", use_adjacent_chunks=True)"
   ]
  },
  {
   "cell_type": "code",
   "execution_count": 6,
   "metadata": {},
   "outputs": [
    {
     "data": {
      "text/plain": [
       "\"I don't know. \\n\""
      ]
     },
     "execution_count": 6,
     "metadata": {},
     "output_type": "execute_result"
    }
   ],
   "source": [
    "responder.answer_with_context(\"Who is the Commissioner for Intergenerational Fairness?\")"
   ]
  },
  {
   "cell_type": "code",
   "execution_count": 9,
   "metadata": {},
   "outputs": [
    {
     "data": {
      "text/plain": [
       "'The provided text does not contain the answer to your question. \\n'"
      ]
     },
     "execution_count": 9,
     "metadata": {},
     "output_type": "execute_result"
    }
   ],
   "source": [
    "responder.answer_with_context(\n",
    "    query=\"Who is the Commissioner for Intergenerational Fairness?\",\n",
    "    use_adjacent_chunks=True\n",
    ")"
   ]
  },
  {
   "cell_type": "code",
   "execution_count": 8,
   "metadata": {},
   "outputs": [
    {
     "data": {
      "text/plain": [
       "\"I don't know.  \\n\""
      ]
     },
     "execution_count": 8,
     "metadata": {},
     "output_type": "execute_result"
    }
   ],
   "source": [
    "responder.answer_with_context(query=\"Who is Glenn Micallef?\")"
   ]
  },
  {
   "cell_type": "code",
   "execution_count": 7,
   "metadata": {},
   "outputs": [
    {
     "data": {
      "text/plain": [
       "'Glenn Micallef is the Commissioner for Intergenerational Fairness, Youth, Culture and Sport.  \\n'"
      ]
     },
     "execution_count": 7,
     "metadata": {},
     "output_type": "execute_result"
    }
   ],
   "source": [
    "responder.answer_with_context(query=\"Who is Glenn Micallef?\", use_adjacent_chunks=True)"
   ]
  },
  {
   "cell_type": "code",
   "execution_count": 10,
   "metadata": {},
   "outputs": [
    {
     "data": {
      "text/plain": [
       "'The Digital Markets Act (DMA) aims to ensure contestable and fair markets in the digital sector. It regulates gatekeepers, which are large digital platforms that provide an important gateway between business users and consumers, whose position can grant them the power to create a bottleneck in the digital economy.  \\n'"
      ]
     },
     "execution_count": 10,
     "metadata": {},
     "output_type": "execute_result"
    }
   ],
   "source": [
    "responder.answer_with_context(\"what is the Digital Markets Act?\")"
   ]
  },
  {
   "cell_type": "code",
   "execution_count": 8,
   "metadata": {},
   "outputs": [
    {
     "data": {
      "text/plain": [
       "'The Digital Markets Act (DMA) aims to ensure contestable and fair markets in the digital sector. It regulates gatekeepers, which are large digital platforms that provide an important gateway between business users and consumers, whose position can grant them the power to create a bottleneck in the digital economy.  \\n'"
      ]
     },
     "execution_count": 8,
     "metadata": {},
     "output_type": "execute_result"
    }
   ],
   "source": [
    "responder.answer_with_context(\"what is the Digital Markets Act?\", use_adjacent_chunks=True)"
   ]
  },
  {
   "cell_type": "markdown",
   "metadata": {},
   "source": [
    "## Community Reports  \n",
    "\n",
    "Queries two vector indexes to get the user's answer out of an ensemble of contexts:\n",
    "1. one made of a list of `CommunityReport`\n",
    "2. one made of a list of `Chunk` from the same communities of the reports. \n",
    "\n",
    "If `use_adjacent_chunks=True` will query the graph for additional context \n",
    "compared to the Chunks retrieved by the similarity search. Latency will be higher due to expanded context. "
   ]
  },
  {
   "cell_type": "code",
   "execution_count": 6,
   "metadata": {},
   "outputs": [
    {
     "name": "stderr",
     "output_type": "stream",
     "text": [
      "2025-04-12 17:42:38,205 - src.factory.llm - INFO - Fetching LLM model 'gemma2-9b-it'..\n",
      "2025-04-12 17:42:38,248 - src.factory.llm - INFO - Initialized LLM of type: 'ModelType.GROQ'\n",
      "2025-04-12 17:42:38,248 - src.factory.llm - INFO - Fetching LLM model 'gemma2-9b-it'..\n",
      "2025-04-12 17:42:38,280 - src.factory.llm - INFO - Initialized LLM of type: 'ModelType.GROQ'\n"
     ]
    }
   ],
   "source": [
    "responder = GraphAgentResponder(\n",
    "    qa_llm_conf=conf.qa_model,\n",
    "    cypher_llm_conf=conf.qa_model,\n",
    "    graph=kg\n",
    "    # rephrase_llm_conf=conf.qa_model\n",
    ")"
   ]
  },
  {
   "cell_type": "code",
   "execution_count": 4,
   "metadata": {},
   "outputs": [
    {
     "name": "stderr",
     "output_type": "stream",
     "text": [
      "2025-04-12 17:28:45,288 - src.agents.graph_qa - INFO - Retrieved 1 Community Reports\n",
      "2025-04-12 17:28:45,458 - src.agents.graph_qa - INFO - Retrieved 4 Chunks for community: 4\n"
     ]
    },
    {
     "data": {
      "text/plain": [
       "'The Digital Markets Act requires Apple to comply with interoperability obligations.  \\n'"
      ]
     },
     "execution_count": 4,
     "metadata": {},
     "output_type": "execute_result"
    }
   ],
   "source": [
    "responder.answer_with_community_reports(\n",
    "    query=\"what is the Digital Markets Act?\", \n",
    "    use_adjacent_chunks=False, \n",
    "    community_type=\"leiden\"\n",
    ")"
   ]
  },
  {
   "cell_type": "code",
   "execution_count": 5,
   "metadata": {},
   "outputs": [
    {
     "name": "stderr",
     "output_type": "stream",
     "text": [
      "2025-04-12 17:28:55,890 - src.agents.graph_qa - INFO - Retrieved 1 Community Reports\n",
      "2025-04-12 17:28:56,061 - src.agents.graph_qa - INFO - Retrieved 4 Chunks for community: 4\n"
     ]
    },
    {
     "data": {
      "text/plain": [
       "'The provided text does not contain information about what the Digital Markets Act is. \\n\\n\\n'"
      ]
     },
     "execution_count": 5,
     "metadata": {},
     "output_type": "execute_result"
    }
   ],
   "source": [
    "responder.answer_with_community_reports(\n",
    "    query=\"what is the Digital Markets Act?\", \n",
    "    use_adjacent_chunks=True,\n",
    "    community_type=\"leiden\"\n",
    ")"
   ]
  },
  {
   "cell_type": "code",
   "execution_count": 6,
   "metadata": {},
   "outputs": [
    {
     "name": "stderr",
     "output_type": "stream",
     "text": [
      "2025-04-12 17:29:14,713 - src.agents.graph_qa - INFO - Retrieved 2 Community Reports\n",
      "2025-04-12 17:29:14,894 - src.agents.graph_qa - INFO - Retrieved 4 Chunks for community: 4\n",
      "2025-04-12 17:29:15,038 - src.agents.graph_qa - INFO - Retrieved 4 Chunks for community: 1\n"
     ]
    },
    {
     "data": {
      "text/plain": [
       "'The European Commission is requiring Apple to improve interoperability between its iOS and iPadOS operating systems and third-party apps and hardware.  \\n'"
      ]
     },
     "execution_count": 6,
     "metadata": {},
     "output_type": "execute_result"
    }
   ],
   "source": [
    "responder.answer_with_community_reports(query=\"What is the European Commission telling Apple to do?\")"
   ]
  },
  {
   "cell_type": "code",
   "execution_count": 7,
   "metadata": {},
   "outputs": [
    {
     "name": "stderr",
     "output_type": "stream",
     "text": [
      "2025-04-12 17:29:38,631 - src.agents.graph_qa - INFO - Retrieved 2 Community Reports\n",
      "2025-04-12 17:29:38,941 - src.agents.graph_qa - INFO - Retrieved 4 Chunks for community: 4\n",
      "2025-04-12 17:29:39,449 - src.agents.graph_qa - INFO - Retrieved 4 Chunks for community: 1\n"
     ]
    },
    {
     "data": {
      "text/plain": [
       "'The European Commission is requiring Apple to improve interoperability between its iOS and iPadOS operating systems and third-party apps and hardware.  \\n'"
      ]
     },
     "execution_count": 7,
     "metadata": {},
     "output_type": "execute_result"
    }
   ],
   "source": [
    "responder.answer_with_community_reports(\n",
    "    query=\"What is the European Commission telling Apple to do?\", \n",
    "    use_adjacent_chunks=True,\n",
    "    community_type=\"leiden\"\n",
    ")"
   ]
  },
  {
   "cell_type": "code",
   "execution_count": 8,
   "metadata": {},
   "outputs": [
    {
     "name": "stderr",
     "output_type": "stream",
     "text": [
      "No relevant docs were retrieved using the relevance score threshold 0.8\n",
      "2025-04-12 17:43:13,631 - src.agents.graph_qa - INFO - Retrieved 0 Community Reports\n"
     ]
    },
    {
     "data": {
      "text/plain": [
       "\"I don't know.  \\n\""
      ]
     },
     "execution_count": 8,
     "metadata": {},
     "output_type": "execute_result"
    }
   ],
   "source": [
    "responder.answer_with_community_reports(\n",
    "    query=\"Who is the Commissioner for Intergenerational Fairness?\", \n",
    "    use_adjacent_chunks=True,\n",
    "    community_type=\"leiden\"\n",
    ")"
   ]
  },
  {
   "cell_type": "markdown",
   "metadata": {},
   "source": [
    "## Answer with Communities Subgraph\n",
    "\n",
    "Answers after querying for communities:\n",
    "* read the most relevant community report \n",
    "* fetch chunks belonging to the most relevant community (the one from the community report)\n",
    "* follow the MENTIONS relationship of each Chunk and obtain a dictionary \n",
    "* fetch the community subgraph under the form of another dictionary \n",
    "* passes the dictionaries + the report to a reconciler agent to decide how to answer"
   ]
  },
  {
   "cell_type": "code",
   "execution_count": 3,
   "metadata": {},
   "outputs": [
    {
     "name": "stderr",
     "output_type": "stream",
     "text": [
      "2025-04-12 20:36:38,604 - src.factory.llm - INFO - Fetching LLM model 'gemma2-9b-it'..\n",
      "2025-04-12 20:36:38,712 - src.factory.llm - INFO - Initialized LLM of type: 'ModelType.GROQ'\n",
      "2025-04-12 20:36:38,712 - src.factory.llm - INFO - Fetching LLM model 'gemma2-9b-it'..\n",
      "2025-04-12 20:36:38,743 - src.factory.llm - INFO - Initialized LLM of type: 'ModelType.GROQ'\n"
     ]
    }
   ],
   "source": [
    "responder = GraphAgentResponder(\n",
    "    qa_llm_conf=conf.qa_model,\n",
    "    cypher_llm_conf=conf.qa_model,\n",
    "    graph=kg\n",
    "    # rephrase_llm_conf=conf.qa_model\n",
    ")"
   ]
  },
  {
   "cell_type": "code",
   "execution_count": 6,
   "metadata": {},
   "outputs": [
    {
     "name": "stderr",
     "output_type": "stream",
     "text": [
      "2025-04-12 20:37:36,389 - src.agents.graph_qa - INFO - Retrieved Community Reports of type leiden with community id: 4\n",
      "2025-04-12 20:37:36,838 - src.agents.graph_qa - INFO - Retrieved 4 Chunks for community: 4\n",
      "2025-04-12 20:37:36,931 - src.graph.graph_queries - INFO - Retrieved 0 entities for chunk 5\n",
      "2025-04-12 20:37:37,000 - src.graph.graph_queries - INFO - Retrieved 5 entities for chunk 4\n",
      "2025-04-12 20:37:37,128 - src.graph.graph_queries - INFO - Retrieved 10 entities for chunk 1\n",
      "2025-04-12 20:37:37,199 - src.graph.graph_queries - INFO - Retrieved 0 entities for chunk 3\n"
     ]
    },
    {
     "data": {
      "text/plain": [
       "\"The European Commission is requiring Apple to comply with the Digital Markets Act's interoperability obligation.  This means Apple must enable interoperability with iOS for third-party connected devices. \\n\""
      ]
     },
     "execution_count": 6,
     "metadata": {},
     "output_type": "execute_result"
    }
   ],
   "source": [
    "responder.answer_with_community_subgraph(query=\"What is the European Commission telling Apple to do?\")"
   ]
  },
  {
   "cell_type": "code",
   "execution_count": 7,
   "metadata": {},
   "outputs": [
    {
     "name": "stderr",
     "output_type": "stream",
     "text": [
      "2025-04-12 20:38:14,608 - src.agents.graph_qa - INFO - Retrieved Community Reports of type leiden with community id: 1\n",
      "2025-04-12 20:38:14,925 - src.agents.graph_qa - INFO - Retrieved 4 Chunks for community: 1\n",
      "2025-04-12 20:38:15,059 - src.graph.graph_queries - INFO - Retrieved 0 entities for chunk 7\n",
      "2025-04-12 20:38:15,128 - src.graph.graph_queries - INFO - Retrieved 6 entities for chunk 6\n",
      "2025-04-12 20:38:15,196 - src.graph.graph_queries - INFO - Retrieved 10 entities for chunk 1\n",
      "2025-04-12 20:38:15,263 - src.graph.graph_queries - INFO - Retrieved 7 entities for chunk 2\n"
     ]
    },
    {
     "data": {
      "text/plain": [
       "\"I don't know.  \\n\""
      ]
     },
     "execution_count": 7,
     "metadata": {},
     "output_type": "execute_result"
    }
   ],
   "source": [
    "responder.answer_with_community_subgraph(query=\"Who is the Commissioner for Intergenerational Fairness?\")"
   ]
  },
  {
   "cell_type": "markdown",
   "metadata": {},
   "source": [
    "## Full Answer"
   ]
  },
  {
   "cell_type": "code",
   "execution_count": 3,
   "metadata": {},
   "outputs": [
    {
     "name": "stderr",
     "output_type": "stream",
     "text": [
      "2025-04-13 10:23:15,336 - src.factory.llm - INFO - Fetching LLM model 'gemma2-9b-it'..\n",
      "2025-04-13 10:23:15,437 - src.factory.llm - INFO - Initialized LLM of type: 'ModelType.GROQ'\n",
      "2025-04-13 10:23:15,437 - src.factory.llm - INFO - Fetching LLM model 'gemma2-9b-it'..\n",
      "2025-04-13 10:23:15,468 - src.factory.llm - INFO - Initialized LLM of type: 'ModelType.GROQ'\n"
     ]
    }
   ],
   "source": [
    "responder = GraphAgentResponder(\n",
    "    qa_llm_conf=conf.qa_model,\n",
    "    cypher_llm_conf=conf.qa_model,\n",
    "    graph=kg\n",
    "    # rephrase_llm_conf=conf.qa_model\n",
    ")"
   ]
  },
  {
   "cell_type": "code",
   "execution_count": 4,
   "metadata": {},
   "outputs": [
    {
     "data": {
      "text/plain": [
       "'Additional arrangements are offered to those living in remote areas, islands or outermost regions.  \\n'"
      ]
     },
     "execution_count": 4,
     "metadata": {},
     "output_type": "execute_result"
    }
   ],
   "source": [
    "responder.answer(query=\"What is Europe doing for remote areas?\")"
   ]
  },
  {
   "cell_type": "code",
   "execution_count": null,
   "metadata": {},
   "outputs": [
    {
     "name": "stderr",
     "output_type": "stream",
     "text": [
      "2025-04-13 10:23:19,412 - src.agents.graph_qa - WARNING - Problem Answering with CYPHER chain: {code: Neo.ClientError.Statement.SyntaxError} {message: Invalid input 'commissioner': expected a parameter, '&', ')', ':', 'WHERE', '{' or '|' (line 1, column 16 (offset: 15))\n",
      "\"MATCH (c:Trade commissioner)-[:ENGAGED_WITH]->(country:Country) WHERE c.name = 'Commissioner for Intergenerational Fairness' RETURN c, country\"\n",
      "                ^}\n",
      "2025-04-13 10:23:19,414 - src.agents.graph_qa - WARNING - Unable to run Cypher chain for this question\n"
     ]
    },
    {
     "data": {
      "text/plain": [
       "'Valdis Dombrovskis is the Commissioner for Economy and Productivity.  \\n'"
      ]
     },
     "execution_count": 4,
     "metadata": {},
     "output_type": "execute_result"
    }
   ],
   "source": [
    "responder.answer(query=\"Who is the Commissioner for Intergenerational Fairness?\")"
   ]
  },
  {
   "cell_type": "code",
   "execution_count": 6,
   "metadata": {},
   "outputs": [
    {
     "name": "stderr",
     "output_type": "stream",
     "text": [
      "2025-04-13 10:24:45,136 - src.agents.graph_qa - WARNING - Problem Answering with CYPHER chain: {code: Neo.ClientError.Statement.SyntaxError} {message: Invalid input 'commissioner': expected a parameter, '&', ')', ':', 'WHERE', '{' or '|' (line 1, column 16 (offset: 15))\n",
      "\"MATCH (c:Trade commissioner)-[:ENGAGED_WITH]->(country:Country) WHERE c.name = 'Commissioner for Intergenerational Fairness' RETURN c, country\"\n",
      "                ^}\n",
      "2025-04-13 10:24:45,139 - src.agents.graph_qa - WARNING - Unable to run Cypher chain for this question\n"
     ]
    },
    {
     "data": {
      "text/plain": [
       "'The provided text does not contain the answer to the question.  \\n'"
      ]
     },
     "execution_count": 6,
     "metadata": {},
     "output_type": "execute_result"
    }
   ],
   "source": [
    "responder.answer(query=\"Who is the Commissioner for Intergenerational Fairness?\", use_adjacent_chunks=True)"
   ]
  },
  {
   "cell_type": "code",
   "execution_count": 7,
   "metadata": {},
   "outputs": [
    {
     "data": {
      "text/plain": [
       "'Eva Hrncirova and Quentin Cortes \\n'"
      ]
     },
     "execution_count": 7,
     "metadata": {},
     "output_type": "execute_result"
    }
   ],
   "source": [
    "responder.answer(query=\"Who works for Europe Direct?\", use_adjacent_chunks=True)"
   ]
  },
  {
   "cell_type": "code",
   "execution_count": 8,
   "metadata": {},
   "outputs": [
    {
     "data": {
      "text/plain": [
       "'Eva Hrncirova is a person who works at the European Commission.  \\n'"
      ]
     },
     "execution_count": 8,
     "metadata": {},
     "output_type": "execute_result"
    }
   ],
   "source": [
    "responder.answer(query=\"Who is Eva Hrncirova?\", use_adjacent_chunks=True)"
   ]
  },
  {
   "cell_type": "code",
   "execution_count": 5,
   "metadata": {},
   "outputs": [
    {
     "data": {
      "text/plain": [
       "\"The European Commission is telling Apple to take measures to comply with the Digital Markets Act's interoperability obligation.  \\n\""
      ]
     },
     "execution_count": 5,
     "metadata": {},
     "output_type": "execute_result"
    }
   ],
   "source": [
    "responder.answer(query=\"What is the European Commission telling Apple to do?\")"
   ]
  }
 ],
 "metadata": {
  "kernelspec": {
   "display_name": ".venv",
   "language": "python",
   "name": "python3"
  },
  "language_info": {
   "codemirror_mode": {
    "name": "ipython",
    "version": 3
   },
   "file_extension": ".py",
   "mimetype": "text/x-python",
   "name": "python",
   "nbconvert_exporter": "python",
   "pygments_lexer": "ipython3",
   "version": "3.11.5"
  }
 },
 "nbformat": 4,
 "nbformat_minor": 2
}
