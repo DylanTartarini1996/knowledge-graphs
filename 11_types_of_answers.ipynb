{
 "cells": [
  {
   "cell_type": "code",
   "execution_count": 1,
   "metadata": {},
   "outputs": [
    {
     "name": "stderr",
     "output_type": "stream",
     "text": [
      "2025-04-06 20:54:33.327 WARNING streamlit.runtime.caching.cache_data_api: No runtime found, using MemoryCacheStorageManager\n",
      "2025-04-06 20:54:33.329 WARNING streamlit.runtime.caching.cache_data_api: No runtime found, using MemoryCacheStorageManager\n",
      "2025-04-06 20:54:33.329 WARNING streamlit.runtime.scriptrunner_utils.script_run_context: Thread 'MainThread': missing ScriptRunContext! This warning can be ignored when running in bare mode.\n",
      "2025-04-06 20:54:33.419 \n",
      "  \u001b[33m\u001b[1mWarning:\u001b[0m to view this Streamlit app on a browser, run it with the following\n",
      "  command:\n",
      "\n",
      "    streamlit run /Users/dylan.tartarini/Desktop/Dylan/knowledge-graphs/.venv/lib/python3.11/site-packages/ipykernel_launcher.py [ARGUMENTS]\n",
      "2025-04-06 20:54:33.419 Thread 'MainThread': missing ScriptRunContext! This warning can be ignored when running in bare mode.\n",
      "2025-04-06 20:54:33.419 Thread 'MainThread': missing ScriptRunContext! This warning can be ignored when running in bare mode.\n",
      "2025-04-06 20:54:33.421 Thread 'MainThread': missing ScriptRunContext! This warning can be ignored when running in bare mode.\n",
      "2025-04-06 20:54:33.421 Thread 'MainThread': missing ScriptRunContext! This warning can be ignored when running in bare mode.\n"
     ]
    }
   ],
   "source": [
    "import os\n",
    "from dotenv import load_dotenv\n",
    "\n",
    "from src.config import LLMConf, EmbedderConf, KnowledgeGraphConfig\n",
    "from src.factory.embeddings import get_embeddings\n",
    "from src.graph.knowledge_graph import KnowledgeGraph\n",
    "from neo4j import Query, Session\n",
    "from src.schema import Chunk\n",
    "from src.agents.graph_qa import GraphAgentResponder\n",
    "env = load_dotenv('config.env')\n",
    "\n",
    "from pgs.utils import get_configuration_from_env\n",
    "\n",
    "from src.utils.logger import get_logger\n",
    "logger = get_logger(__name__)\n",
    "\n",
    "conf = get_configuration_from_env()"
   ]
  },
  {
   "cell_type": "code",
   "execution_count": 2,
   "metadata": {},
   "outputs": [],
   "source": [
    "kg_config = KnowledgeGraphConfig(\n",
    "    uri=os.getenv(\"NEO4J_URI\"),\n",
    "    user=os.getenv(\"NEO4J_USERNAME\"),\n",
    "    password=os.getenv(\"NEO4J_PASSWORD\"),\n",
    "    index_name='vector'\n",
    ")\n",
    "\n",
    "embedder_conf = EmbedderConf(\n",
    "    type=os.getenv(\"EMBEDDINGS_TYPE\"),\n",
    "    model=os.getenv(\"EMBEDDINGS_MODEL_NAME\"),\n",
    ")\n",
    "\n",
    "model_conf=LLMConf(\n",
    "    type=os.getenv(\"RE_MODEL_TYPE\"),\n",
    "    model=os.getenv(\"RE_MODEL_NAME\"), \n",
    "    temperature=os.getenv(\"RE_MODEL_TEMPERATURE\"), \n",
    "    deployment=os.getenv(\"RE_MODEL_DEPLOYMENT\"),\n",
    "    api_key=os.getenv(\"RE_API_KEY\"),\n",
    "    endpoint=os.getenv(\"RE_MODEL_ENDPOINT\"),\n",
    "    api_version=os.getenv(\"RE_MODEL_API_VERSION\") or None\n",
    ")\n",
    "\n",
    "embeddings = get_embeddings(conf=embedder_conf)\n",
    "\n",
    "kg = KnowledgeGraph(conf=kg_config,embeddings_model=embeddings)"
   ]
  },
  {
   "cell_type": "markdown",
   "metadata": {},
   "source": [
    "## Cypher Chains\n",
    "Here we use a method to answer using  only Cypher queries"
   ]
  },
  {
   "cell_type": "code",
   "execution_count": 3,
   "metadata": {},
   "outputs": [
    {
     "name": "stderr",
     "output_type": "stream",
     "text": [
      "2025-04-06 18:50:47,289 - src.factory.llm - INFO - Fetching LLM model 'gemma2-9b-it'..\n",
      "2025-04-06 18:50:47,460 - src.factory.llm - INFO - Initialized LLM of type: 'ModelType.GROQ'\n",
      "2025-04-06 18:50:47,461 - src.factory.llm - INFO - Fetching LLM model 'gemma2-9b-it'..\n",
      "2025-04-06 18:50:47,494 - src.factory.llm - INFO - Initialized LLM of type: 'ModelType.GROQ'\n"
     ]
    }
   ],
   "source": [
    "responder = GraphAgentResponder(\n",
    "    qa_llm_conf=conf.qa_model,\n",
    "    cypher_llm_conf=conf.qa_model,\n",
    "    graph=kg,\n",
    "    # rephrase_llm_conf=conf.qa_model\n",
    ")"
   ]
  },
  {
   "cell_type": "code",
   "execution_count": 4,
   "metadata": {},
   "outputs": [
    {
     "data": {
      "text/plain": [
       "'Eva Hrncirova and Quentin Cortes work for Europe Direct. \\n'"
      ]
     },
     "execution_count": 4,
     "metadata": {},
     "output_type": "execute_result"
    }
   ],
   "source": [
    "responder.answer_with_cypher(query=\"Who works for Europe Direct?\")"
   ]
  },
  {
   "cell_type": "code",
   "execution_count": 5,
   "metadata": {},
   "outputs": [
    {
     "data": {
      "text/plain": [
       "('The Digital Markets Act has been discussed regarding Apple. \\n',\n",
       " [{'query': \"MATCH (c:Chunk)-[:MENTIONS]->(l:Legislation) WHERE c.text CONTAINS 'Apple' RETURN l.id, l.name\\n\"},\n",
       "  {'context': [{'l.id': 'Digital Markets Act',\n",
       "     'l.name': 'Digital Markets Act'},\n",
       "    {'l.id': 'Digital Markets Act', 'l.name': 'Digital Markets Act'}]}])"
      ]
     },
     "execution_count": 5,
     "metadata": {},
     "output_type": "execute_result"
    }
   ],
   "source": [
    "responder.answer_with_cypher(\n",
    "    query=\"What legislation has been discussed that regards Apple?\", \n",
    "    intermediate_steps=True\n",
    ")"
   ]
  },
  {
   "cell_type": "code",
   "execution_count": null,
   "metadata": {},
   "outputs": [
    {
     "name": "stderr",
     "output_type": "stream",
     "text": [
      "2025-04-06 18:53:02,260 - src.factory.llm - INFO - Fetching LLM model 'gemma2-9b-it'..\n",
      "2025-04-06 18:53:02,356 - src.factory.llm - INFO - Initialized LLM of type: 'ModelType.GROQ'\n",
      "2025-04-06 18:53:02,357 - src.factory.llm - INFO - Fetching LLM model 'gemma2-9b-it'..\n",
      "2025-04-06 18:53:02,389 - src.factory.llm - INFO - Initialized LLM of type: 'ModelType.GROQ'\n",
      "2025-04-06 18:53:02,390 - src.factory.llm - INFO - Fetching LLM model 'gemma2-9b-it'..\n",
      "2025-04-06 18:53:02,423 - src.factory.llm - INFO - Initialized LLM of type: 'ModelType.GROQ'\n"
     ]
    }
   ],
   "source": [
    "# rephraser not working as expected\n",
    "responder_with_rephrase = GraphAgentResponder(\n",
    "    qa_llm_conf=conf.qa_model,\n",
    "    cypher_llm_conf=conf.qa_model,\n",
    "    graph=kg,\n",
    "    rephrase_llm_conf=conf.qa_model\n",
    ")"
   ]
  },
  {
   "cell_type": "code",
   "execution_count": 7,
   "metadata": {},
   "outputs": [
    {
     "name": "stderr",
     "output_type": "stream",
     "text": [
      "2025-04-06 18:53:07,898 - src.agents.graph_qa - INFO - Rephrased Question: FIND Person WHERE Person.WORKS_FOR = 'Europe Direct' \n",
      "\n",
      "Received notification from DBMS server: {severity: WARNING} {code: Neo.ClientNotification.Statement.UnknownPropertyKeyWarning} {category: UNRECOGNIZED} {title: The provided property key is not in the database} {description: One of the property names in your query is not available in the database, make sure you didn't misspell it or that the label is available when you run this statement in your application (the missing property name is: WORKS_FOR)} {position: line: 1, column: 26, offset: 25} for query: \"MATCH (p:Person) WHERE p.WORKS_FOR = 'Europe Direct' RETURN p\\n\"\n"
     ]
    },
    {
     "data": {
      "text/plain": [
       "\"I don't know the answer. \\n\""
      ]
     },
     "execution_count": 7,
     "metadata": {},
     "output_type": "execute_result"
    }
   ],
   "source": [
    "responder_with_rephrase.answer_with_cypher(query=\"Who works for Europe Direct?\")"
   ]
  },
  {
   "cell_type": "code",
   "execution_count": 8,
   "metadata": {},
   "outputs": [
    {
     "name": "stderr",
     "output_type": "stream",
     "text": [
      "2025-04-06 18:53:42,630 - src.agents.graph_qa - INFO - Rephrased Question: FIND  Legislation  MENTIONS 'Apple'  \n",
      "\n"
     ]
    },
    {
     "data": {
      "text/plain": [
       "(\"I don't know the answer. \\n\",\n",
       " [{'query': \"MATCH (l:Legislation)<-[:MENTIONS]-(c:Chunk) WHERE c.text CONTAINS 'Apple' RETURN l\\n\"},\n",
       "  {'context': [{'l': {'community_leiden': 2,\n",
       "      'closeness': 0.07395602614661552,\n",
       "      'name': 'Digital Markets Act',\n",
       "      'id': 'Digital Markets Act',\n",
       "      'betweenness': 0.013308240354886411,\n",
       "      'pagerank': 0.005754031618527281,\n",
       "      'community_louvain': 1}},\n",
       "    {'l': {'community_leiden': 2,\n",
       "      'closeness': 0.07395602614661552,\n",
       "      'name': 'Digital Markets Act',\n",
       "      'id': 'Digital Markets Act',\n",
       "      'betweenness': 0.013308240354886411,\n",
       "      'pagerank': 0.005754031618527281,\n",
       "      'community_louvain': 1}}]}])"
      ]
     },
     "execution_count": 8,
     "metadata": {},
     "output_type": "execute_result"
    }
   ],
   "source": [
    "responder_with_rephrase.answer_with_cypher(\n",
    "    query=\"What legislation has been discussed that regards Apple?\", \n",
    "    intermediate_steps=True\n",
    ")"
   ]
  },
  {
   "cell_type": "markdown",
   "metadata": {},
   "source": [
    "### Vanilla RAG\n",
    "Uses only vanilla RAG to answer the user's question.  \n",
    "If `use_adjacent_chunks=True` will query the graph for additional context   \n",
    "compared to the Chunks retrieved by the similarity search. Latency will be higher due to expanded context. "
   ]
  },
  {
   "cell_type": "code",
   "execution_count": 4,
   "metadata": {},
   "outputs": [
    {
     "name": "stderr",
     "output_type": "stream",
     "text": [
      "2025-04-06 20:07:29,368 - src.factory.llm - INFO - Fetching LLM model 'gemma2-9b-it'..\n",
      "2025-04-06 20:07:29,514 - src.factory.llm - INFO - Initialized LLM of type: 'ModelType.GROQ'\n",
      "2025-04-06 20:07:29,514 - src.factory.llm - INFO - Fetching LLM model 'gemma2-9b-it'..\n",
      "2025-04-06 20:07:29,547 - src.factory.llm - INFO - Initialized LLM of type: 'ModelType.GROQ'\n"
     ]
    }
   ],
   "source": [
    "responder = GraphAgentResponder(\n",
    "    qa_llm_conf=conf.qa_model,\n",
    "    cypher_llm_conf=conf.qa_model,\n",
    "    graph=kg\n",
    "    # rephrase_llm_conf=conf.qa_model\n",
    ")"
   ]
  },
  {
   "cell_type": "code",
   "execution_count": 4,
   "metadata": {},
   "outputs": [
    {
     "data": {
      "text/plain": [
       "\"I don't know.  \\n\""
      ]
     },
     "execution_count": 4,
     "metadata": {},
     "output_type": "execute_result"
    }
   ],
   "source": [
    "responder.answer_with_context(\"Who works for Europe Direct?\")"
   ]
  },
  {
   "cell_type": "code",
   "execution_count": 5,
   "metadata": {},
   "outputs": [
    {
     "data": {
      "text/plain": [
       "'The provided text does not say who works for Europe Direct. \\n'"
      ]
     },
     "execution_count": 5,
     "metadata": {},
     "output_type": "execute_result"
    }
   ],
   "source": [
    "responder.answer_with_context(\n",
    "    query=\"Who works for Europe Direct?\", \n",
    "    use_adjacent_chunks=True\n",
    ")"
   ]
  },
  {
   "cell_type": "code",
   "execution_count": 6,
   "metadata": {},
   "outputs": [
    {
     "data": {
      "text/plain": [
       "'The legislation discussed that regards Apple is the Digital Markets Act (DMA).  \\n'"
      ]
     },
     "execution_count": 6,
     "metadata": {},
     "output_type": "execute_result"
    }
   ],
   "source": [
    "responder.answer_with_context(\n",
    "    query=\"What legislation has been discussed that regards Apple?\"\n",
    ")"
   ]
  },
  {
   "cell_type": "code",
   "execution_count": 7,
   "metadata": {},
   "outputs": [
    {
     "data": {
      "text/plain": [
       "'The legislation discussed that regards Apple is the Digital Markets Act (DMA).  \\n'"
      ]
     },
     "execution_count": 7,
     "metadata": {},
     "output_type": "execute_result"
    }
   ],
   "source": [
    "responder.answer_with_context(\n",
    "    query=\"What legislation has been discussed that regards Apple?\",\n",
    "    use_adjacent_chunks=True\n",
    ")"
   ]
  },
  {
   "cell_type": "code",
   "execution_count": 8,
   "metadata": {},
   "outputs": [
    {
     "data": {
      "text/plain": [
       "'Eva Hrncirova is a press contact for Glenn Micallef, Commissioner for Intergenerational Fairness, Youth, Culture and Sport.  \\n'"
      ]
     },
     "execution_count": 8,
     "metadata": {},
     "output_type": "execute_result"
    }
   ],
   "source": [
    "responder.answer_with_context(\"Who is Eva Hrncirova?\")"
   ]
  },
  {
   "cell_type": "code",
   "execution_count": 5,
   "metadata": {},
   "outputs": [
    {
     "data": {
      "text/plain": [
       "'Eva Hrncirova is a press contact for Discover EU.  \\n'"
      ]
     },
     "execution_count": 5,
     "metadata": {},
     "output_type": "execute_result"
    }
   ],
   "source": [
    "responder.answer_with_context(\"Who is Eva Hrncirova?\", use_adjacent_chunks=True)"
   ]
  },
  {
   "cell_type": "code",
   "execution_count": 6,
   "metadata": {},
   "outputs": [
    {
     "data": {
      "text/plain": [
       "\"I don't know. \\n\""
      ]
     },
     "execution_count": 6,
     "metadata": {},
     "output_type": "execute_result"
    }
   ],
   "source": [
    "responder.answer_with_context(\"Who is the Commissioner for Intergenerational Fairness?\")"
   ]
  },
  {
   "cell_type": "code",
   "execution_count": 9,
   "metadata": {},
   "outputs": [
    {
     "data": {
      "text/plain": [
       "'The provided text does not contain the answer to your question. \\n'"
      ]
     },
     "execution_count": 9,
     "metadata": {},
     "output_type": "execute_result"
    }
   ],
   "source": [
    "responder.answer_with_context(\n",
    "    query=\"Who is the Commissioner for Intergenerational Fairness?\",\n",
    "    use_adjacent_chunks=True\n",
    ")"
   ]
  },
  {
   "cell_type": "code",
   "execution_count": 8,
   "metadata": {},
   "outputs": [
    {
     "data": {
      "text/plain": [
       "\"I don't know.  \\n\""
      ]
     },
     "execution_count": 8,
     "metadata": {},
     "output_type": "execute_result"
    }
   ],
   "source": [
    "responder.answer_with_context(query=\"Who is Glenn Micallef?\")"
   ]
  },
  {
   "cell_type": "code",
   "execution_count": 7,
   "metadata": {},
   "outputs": [
    {
     "data": {
      "text/plain": [
       "'Glenn Micallef is the Commissioner for Intergenerational Fairness, Youth, Culture and Sport.  \\n'"
      ]
     },
     "execution_count": 7,
     "metadata": {},
     "output_type": "execute_result"
    }
   ],
   "source": [
    "responder.answer_with_context(query=\"Who is Glenn Micallef?\", use_adjacent_chunks=True)"
   ]
  },
  {
   "cell_type": "code",
   "execution_count": 10,
   "metadata": {},
   "outputs": [
    {
     "data": {
      "text/plain": [
       "'The Digital Markets Act (DMA) aims to ensure contestable and fair markets in the digital sector. It regulates gatekeepers, which are large digital platforms that provide an important gateway between business users and consumers, whose position can grant them the power to create a bottleneck in the digital economy.  \\n'"
      ]
     },
     "execution_count": 10,
     "metadata": {},
     "output_type": "execute_result"
    }
   ],
   "source": [
    "responder.answer_with_context(\"what is the Digital Markets Act?\")"
   ]
  },
  {
   "cell_type": "code",
   "execution_count": 11,
   "metadata": {},
   "outputs": [
    {
     "data": {
      "text/plain": [
       "'The Digital Markets Act (DMA) aims to ensure contestable and fair markets in the digital sector. It regulates gatekeepers, which are large digital platforms that provide an important gateway between business users and consumers, whose position can grant them the power to create a bottleneck in the digital economy.  \\n'"
      ]
     },
     "execution_count": 11,
     "metadata": {},
     "output_type": "execute_result"
    }
   ],
   "source": [
    "responder.answer_with_context(\"what is the Digital Markets Act?\", use_adjacent_chunks=True)"
   ]
  },
  {
   "cell_type": "markdown",
   "metadata": {},
   "source": [
    "## Community Reports"
   ]
  },
  {
   "cell_type": "code",
   "execution_count": 3,
   "metadata": {},
   "outputs": [
    {
     "name": "stderr",
     "output_type": "stream",
     "text": [
      "Received notification from DBMS server: {severity: WARNING} {code: Neo.ClientNotification.Statement.AggregationSkippedNull} {category: UNRECOGNIZED} {title: The query contains an aggregation function that skips null values.} {description: null value eliminated in set function.} {position: None} for query: \" \\n            MATCH (n)-[r]-(m)  \\n            WHERE n.community_leiden IS NOT NULL\\n            OPTIONAL MATCH (chunk:Chunk) WHERE chunk.community_leiden = n.community_leiden  \\n            WITH \\n                'leiden' AS community_type, \\n                n.community_leiden AS community_id, \\n                count(DISTINCT n) AS community_size, \\n                collect(DISTINCT elementId(n)) AS entity_ids,\\n                collect(DISTINCT n.name) AS names,\\n                collect(DISTINCT elementId(r)) AS relationship_ids,  \\n                collect(DISTINCT type(r)) AS relationship_types,\\n                collect(DISTINCT elementId(chunk)) AS chunk_ids    \\n            RETURN \\n                community_type, \\n                community_id, \\n                community_size, \\n                entity_ids, \\n                names, \\n                relationship_ids, \\n                relationship_types,\\n                chunk_ids\\n            ORDER BY community_size DESC\\n        \"\n"
     ]
    },
    {
     "data": {
      "text/plain": [
       "[Community(community_type='leiden', community_id=0, community_size=34, entity_ids=['4:44890bb9-4945-4a7c-8f87-381effaa2643:65', '4:44890bb9-4945-4a7c-8f87-381effaa2643:66', '4:44890bb9-4945-4a7c-8f87-381effaa2643:68', '4:44890bb9-4945-4a7c-8f87-381effaa2643:69', '4:44890bb9-4945-4a7c-8f87-381effaa2643:71', '4:44890bb9-4945-4a7c-8f87-381effaa2643:78', '4:44890bb9-4945-4a7c-8f87-381effaa2643:79', '4:44890bb9-4945-4a7c-8f87-381effaa2643:80', '4:44890bb9-4945-4a7c-8f87-381effaa2643:81', '4:44890bb9-4945-4a7c-8f87-381effaa2643:82', '4:44890bb9-4945-4a7c-8f87-381effaa2643:90', '4:44890bb9-4945-4a7c-8f87-381effaa2643:91', '4:44890bb9-4945-4a7c-8f87-381effaa2643:92', '4:44890bb9-4945-4a7c-8f87-381effaa2643:135', '4:44890bb9-4945-4a7c-8f87-381effaa2643:136', '4:44890bb9-4945-4a7c-8f87-381effaa2643:137', '4:44890bb9-4945-4a7c-8f87-381effaa2643:138', '4:44890bb9-4945-4a7c-8f87-381effaa2643:139', '4:44890bb9-4945-4a7c-8f87-381effaa2643:140', '4:44890bb9-4945-4a7c-8f87-381effaa2643:141', '4:44890bb9-4945-4a7c-8f87-381effaa2643:142', '4:44890bb9-4945-4a7c-8f87-381effaa2643:143', '4:44890bb9-4945-4a7c-8f87-381effaa2643:144', '4:44890bb9-4945-4a7c-8f87-381effaa2643:145', '4:44890bb9-4945-4a7c-8f87-381effaa2643:146', '4:44890bb9-4945-4a7c-8f87-381effaa2643:147', '4:44890bb9-4945-4a7c-8f87-381effaa2643:148', '4:44890bb9-4945-4a7c-8f87-381effaa2643:149', '4:44890bb9-4945-4a7c-8f87-381effaa2643:150', '4:44890bb9-4945-4a7c-8f87-381effaa2643:151', '4:44890bb9-4945-4a7c-8f87-381effaa2643:152', '4:44890bb9-4945-4a7c-8f87-381effaa2643:153', '4:44890bb9-4945-4a7c-8f87-381effaa2643:154', '4:44890bb9-4945-4a7c-8f87-381effaa2643:173'], entity_names=['Museums', 'Food', 'Discover Eu', 'European Youth Portal', 'Erasmus+ Programme', 'European Journey', 'New European Bauhaus Route', 'Green Route', 'Green Capitals', 'Green Leaf Cities', 'Parks', 'Nature Reserves', 'Discount Card', 'Transport', 'Accommodation', 'Sports', '36 Countries', 'Participants', 'People With Disabilities', 'People With Health Conditions', 'People With Fewer Opportunities', 'Remote Areas', 'Islands', 'Outermost Regions', 'Glenn Micallef', 'Commissioner For Intergenerational Fairness, Youth, Culture And Sport', 'Eva Hrncirova', 'Quentin Cortes', 'Europe Direct'], relationship_ids=['5:44890bb9-4945-4a7c-8f87-381effaa2643:1175450497859977294', '5:44890bb9-4945-4a7c-8f87-381effaa2643:1155337131653070983', '5:44890bb9-4945-4a7c-8f87-381effaa2643:1177702297673662542', '5:44890bb9-4945-4a7c-8f87-381effaa2643:1157588931466756231', '5:44890bb9-4945-4a7c-8f87-381effaa2643:1155184299536810051', '5:44890bb9-4945-4a7c-8f87-381effaa2643:1152932499723124814', '5:44890bb9-4945-4a7c-8f87-381effaa2643:1152932499723124883', '5:44890bb9-4945-4a7c-8f87-381effaa2643:1152983077258002500', '5:44890bb9-4945-4a7c-8f87-381effaa2643:1155234877071687748', '5:44890bb9-4945-4a7c-8f87-381effaa2643:1157486676885372996', '5:44890bb9-4945-4a7c-8f87-381effaa2643:1159738476699058244', '5:44890bb9-4945-4a7c-8f87-381effaa2643:1161990276512743492', '5:44890bb9-4945-4a7c-8f87-381effaa2643:1164242076326428740', '5:44890bb9-4945-4a7c-8f87-381effaa2643:1152992972862652484', '5:44890bb9-4945-4a7c-8f87-381effaa2643:1155337131653070916', '5:44890bb9-4945-4a7c-8f87-381effaa2643:6917692854873620548', '5:44890bb9-4945-4a7c-8f87-381effaa2643:1153086431351013444', '5:44890bb9-4945-4a7c-8f87-381effaa2643:1153087530862641221', '5:44890bb9-4945-4a7c-8f87-381effaa2643:1153093028420780100', '5:44890bb9-4945-4a7c-8f87-381effaa2643:1153094127932407876', '5:44890bb9-4945-4a7c-8f87-381effaa2643:6917702750478270535', '5:44890bb9-4945-4a7c-8f87-381effaa2643:6917703849989898309', '5:44890bb9-4945-4a7c-8f87-381effaa2643:1157436099350495299', '5:44890bb9-4945-4a7c-8f87-381effaa2643:1157436099350495379', '5:44890bb9-4945-4a7c-8f87-381effaa2643:1164191498791551043', '5:44890bb9-4945-4a7c-8f87-381effaa2643:1155184299536810131', '5:44890bb9-4945-4a7c-8f87-381effaa2643:1153089729885896775', '5:44890bb9-4945-4a7c-8f87-381effaa2643:1155184299536810062', '5:44890bb9-4945-4a7c-8f87-381effaa2643:1157436099350495310', '5:44890bb9-4945-4a7c-8f87-381effaa2643:1159687899164180558', '5:44890bb9-4945-4a7c-8f87-381effaa2643:1161939698977865806', '5:44890bb9-4945-4a7c-8f87-381effaa2643:1164191498791551054', '5:44890bb9-4945-4a7c-8f87-381effaa2643:1166443298605236302', '5:44890bb9-4945-4a7c-8f87-381effaa2643:1168695098418921550', '5:44890bb9-4945-4a7c-8f87-381effaa2643:1170946898232606798', '5:44890bb9-4945-4a7c-8f87-381effaa2643:1173198698046292046', '5:44890bb9-4945-4a7c-8f87-381effaa2643:1179954097487347790', '5:44890bb9-4945-4a7c-8f87-381effaa2643:1182205897301033038', '5:44890bb9-4945-4a7c-8f87-381effaa2643:1184457697114718286', '5:44890bb9-4945-4a7c-8f87-381effaa2643:1186709496928403534', '5:44890bb9-4945-4a7c-8f87-381effaa2643:1188961296742088782', '5:44890bb9-4945-4a7c-8f87-381effaa2643:1191213096555774030', '5:44890bb9-4945-4a7c-8f87-381effaa2643:1193464896369459278', '5:44890bb9-4945-4a7c-8f87-381effaa2643:6917540022757359760', '5:44890bb9-4945-4a7c-8f87-381effaa2643:6917540022757359761', '5:44890bb9-4945-4a7c-8f87-381effaa2643:6917540022757359762', '5:44890bb9-4945-4a7c-8f87-381effaa2643:6917554316408520851', '5:44890bb9-4945-4a7c-8f87-381effaa2643:1152946793374285891', '5:44890bb9-4945-4a7c-8f87-381effaa2643:6917555415920148634', '5:44890bb9-4945-4a7c-8f87-381effaa2643:6917555415920148653', '5:44890bb9-4945-4a7c-8f87-381effaa2643:1152936897769635919', '5:44890bb9-4945-4a7c-8f87-381effaa2643:1155188697583321167', '5:44890bb9-4945-4a7c-8f87-381effaa2643:1153091928909152337', '5:44890bb9-4945-4a7c-8f87-381effaa2643:1155343728722837585', '5:44890bb9-4945-4a7c-8f87-381effaa2643:1157595528536522833', '5:44890bb9-4945-4a7c-8f87-381effaa2643:1159847328350208081', '5:44890bb9-4945-4a7c-8f87-381effaa2643:1153085331839385735', '5:44890bb9-4945-4a7c-8f87-381effaa2643:1159840731280441479', '5:44890bb9-4945-4a7c-8f87-381effaa2643:1162092531094126727', '5:44890bb9-4945-4a7c-8f87-381effaa2643:1159687899164180627', '5:44890bb9-4945-4a7c-8f87-381effaa2643:1161939698977865875', '5:44890bb9-4945-4a7c-8f87-381effaa2643:1164191498791551123', '5:44890bb9-4945-4a7c-8f87-381effaa2643:1166443298605236371', '5:44890bb9-4945-4a7c-8f87-381effaa2643:1168695098418921619', '5:44890bb9-4945-4a7c-8f87-381effaa2643:1155198593187971219', '5:44890bb9-4945-4a7c-8f87-381effaa2643:6919807215733833882', '5:44890bb9-4945-4a7c-8f87-381effaa2643:6919807215733833901', '5:44890bb9-4945-4a7c-8f87-381effaa2643:1153097426467291284', '5:44890bb9-4945-4a7c-8f87-381effaa2643:1153098525978919062', '5:44890bb9-4945-4a7c-8f87-381effaa2643:1152932499723124889', '5:44890bb9-4945-4a7c-8f87-381effaa2643:1153098525978919063', '5:44890bb9-4945-4a7c-8f87-381effaa2643:1153099625490546839', '5:44890bb9-4945-4a7c-8f87-381effaa2643:1155184299536810137', '5:44890bb9-4945-4a7c-8f87-381effaa2643:6922059015547519130', '5:44890bb9-4945-4a7c-8f87-381effaa2643:6922059015547519149', '5:44890bb9-4945-4a7c-8f87-381effaa2643:1152947892885913667', '5:44890bb9-4945-4a7c-8f87-381effaa2643:1155199692699598915'], relationship_types=['MENTIONS', 'OFFERS', 'SUPPORTS', 'PROVIDES', 'PROVIDESTRAVELPASSES', 'APPLICATIONPLATFORM', 'COVERS', 'SERVES', 'INTEGRATED_INTO', 'PROVIDES_INFORMATION', 'ASSOCIATEDWITH', 'NEXT', 'PART_OF', 'INCLUDES', 'FEATURES', 'HOLDS', 'WORKS_FOR', 'CONTACT'], attributes=None, chunks=[Chunk(chunk_id='4:44890bb9-4945-4a7c-8f87-381effaa2643:78', text='short quiz about the EU. Passes will be awarded to the top-ranked applicants until all tickets are distributed. Travellers can design their own European journey or choose from suggested routes. They may follow the New European Bauhaus Route, showcasing vibrant, sustainable cities, or choose the Green Route, taking them takes to some of the most sustainable cities and nature-friendly destinations across the continent. This route features award-winning Green Capitals and Green Leaf cities, stunning parks, and nature reserves. Along the way, they can use a discount card packed with thousands of offers on transport, museums, food, accommodation, sports and more across 36 countries. Discover EU will make this experience accessible to all. Special support is available for participants with disabilities, health conditions or fewer opportunities. Additional arrangements are also offered to those living in remote areas, islands or outermost regions. Launched in 2018 and integrated into the', filename=None, embedding=None, chunk_size=1000, chunk_overlap=100, embeddings_model=None, nodes=None, relationships=None), Chunk(chunk_id='4:44890bb9-4945-4a7c-8f87-381effaa2643:147', text='living in remote areas, islands or outermost regions. Launched in 2018 and integrated into the 2021-2027 Erasmus+ programme, Discover EU has already awarded over 355,000 travel passes. All participants are invited to join the #Discover EU official group, with over 106,000 members sharing experiences and tips. For More Information Discover EU European Youth Portal Erasmus+ IP/25/957 Quote(s): \"Discover EU opens the door to adventure, learning, and unforgettable experiences. I\\'m thrilled to launch the spring 2025 application round, giving thousands of young people the chance to explore Europe and its rich cultural heritage, expand your knowledge, and make lifelong memories. If you\\'re 18 and ready for an incredible journey, do not miss this opportunity. Apply ow!\" Glenn Micallef, Commissioner for Intergenerational Fairness, Youth, Culture and Sport 02/04/2025 Press contacts: Eva HRNCIROVA (+32 2 29 88433) Quentin CORTES (+32 2 29 13283) General public inquiries: Europe Direct by phone 00', filename=None, embedding=None, chunk_size=1000, chunk_overlap=100, embeddings_model=None, nodes=None, relationships=None), Chunk(chunk_id='4:44890bb9-4945-4a7c-8f87-381effaa2643:153', text='2 29 88433) Quentin CORTES (+32 2 29 13283) General public inquiries: Europe Direct by phone 00 800 67 89 10 11 or by email', filename=None, embedding=None, chunk_size=1000, chunk_overlap=100, embeddings_model=None, nodes=None, relationships=None)], table_repr=None),\n",
       " Community(community_type='leiden', community_id=1, community_size=33, entity_ids=['4:44890bb9-4945-4a7c-8f87-381effaa2643:0', '4:44890bb9-4945-4a7c-8f87-381effaa2643:9', '4:44890bb9-4945-4a7c-8f87-381effaa2643:10', '4:44890bb9-4945-4a7c-8f87-381effaa2643:11', '4:44890bb9-4945-4a7c-8f87-381effaa2643:12', '4:44890bb9-4945-4a7c-8f87-381effaa2643:13', '4:44890bb9-4945-4a7c-8f87-381effaa2643:14', '4:44890bb9-4945-4a7c-8f87-381effaa2643:15', '4:44890bb9-4945-4a7c-8f87-381effaa2643:16', '4:44890bb9-4945-4a7c-8f87-381effaa2643:17', '4:44890bb9-4945-4a7c-8f87-381effaa2643:18', '4:44890bb9-4945-4a7c-8f87-381effaa2643:19', '4:44890bb9-4945-4a7c-8f87-381effaa2643:20', '4:44890bb9-4945-4a7c-8f87-381effaa2643:21', '4:44890bb9-4945-4a7c-8f87-381effaa2643:22', '4:44890bb9-4945-4a7c-8f87-381effaa2643:23', '4:44890bb9-4945-4a7c-8f87-381effaa2643:24', '4:44890bb9-4945-4a7c-8f87-381effaa2643:25', '4:44890bb9-4945-4a7c-8f87-381effaa2643:26', '4:44890bb9-4945-4a7c-8f87-381effaa2643:33', '4:44890bb9-4945-4a7c-8f87-381effaa2643:34', '4:44890bb9-4945-4a7c-8f87-381effaa2643:35', '4:44890bb9-4945-4a7c-8f87-381effaa2643:36', '4:44890bb9-4945-4a7c-8f87-381effaa2643:37', '4:44890bb9-4945-4a7c-8f87-381effaa2643:38', '4:44890bb9-4945-4a7c-8f87-381effaa2643:39', '4:44890bb9-4945-4a7c-8f87-381effaa2643:40', '4:44890bb9-4945-4a7c-8f87-381effaa2643:41', '4:44890bb9-4945-4a7c-8f87-381effaa2643:43', '4:44890bb9-4945-4a7c-8f87-381effaa2643:44', '4:44890bb9-4945-4a7c-8f87-381effaa2643:46', '4:44890bb9-4945-4a7c-8f87-381effaa2643:47', '4:44890bb9-4945-4a7c-8f87-381effaa2643:133'], entity_names=['Specification Proceedings', 'Horizon Europe', 'European Partnership For Innovation In Photovoltaics', 'European Green Deal', 'Repower Eu Plan', '2023 Renewable Energy Directive', 'Photovoltaics (Pv) Industry', 'Solar Power', 'Renewable Energy', 'European Pv Manufacturing', 'Eu Plan', 'European Pv Manufacturing Capacity', 'European Partnership For Textiles Of The Future', 'Eu Strategy For Sustainable And Circular Textiles', 'Private Partners', 'European Partnership For Innovative Advanced Materials For The Eu', 'European Partnerships', 'Industry Stakeholders', 'Industry Associations', 'Public Partners', 'Research And Innovation', 'Textiles', 'Stéphane Séjourné', 'Industry', 'European Textile Industry', 'Commission'], relationship_ids=['5:44890bb9-4945-4a7c-8f87-381effaa2643:1170946898232606852', '5:44890bb9-4945-4a7c-8f87-381effaa2643:1152979778723119237', '5:44890bb9-4945-4a7c-8f87-381effaa2643:1155184299536809993', '5:44890bb9-4945-4a7c-8f87-381effaa2643:1157436099350495241', '5:44890bb9-4945-4a7c-8f87-381effaa2643:1159687899164180489', '5:44890bb9-4945-4a7c-8f87-381effaa2643:1161939698977865737', '5:44890bb9-4945-4a7c-8f87-381effaa2643:1164191498791550985', '5:44890bb9-4945-4a7c-8f87-381effaa2643:1166443298605236233', '5:44890bb9-4945-4a7c-8f87-381effaa2643:1168695098418921481', '5:44890bb9-4945-4a7c-8f87-381effaa2643:1170946898232606729', '5:44890bb9-4945-4a7c-8f87-381effaa2643:1173198698046291977', '5:44890bb9-4945-4a7c-8f87-381effaa2643:1152932499723124745', '5:44890bb9-4945-4a7c-8f87-381effaa2643:1152946793374285833', '5:44890bb9-4945-4a7c-8f87-381effaa2643:1152947892885913609', '5:44890bb9-4945-4a7c-8f87-381effaa2643:1159687899164180505', '5:44890bb9-4945-4a7c-8f87-381effaa2643:1152932499723124769', '5:44890bb9-4945-4a7c-8f87-381effaa2643:1152978679211491338', '5:44890bb9-4945-4a7c-8f87-381effaa2643:1155230479025176586', '5:44890bb9-4945-4a7c-8f87-381effaa2643:1152978679211491461', '5:44890bb9-4945-4a7c-8f87-381effaa2643:1153057844048691294', '5:44890bb9-4945-4a7c-8f87-381effaa2643:1152968783606841355', '5:44890bb9-4945-4a7c-8f87-381effaa2643:1155220583420526603', '5:44890bb9-4945-4a7c-8f87-381effaa2643:1157472383234211851', '5:44890bb9-4945-4a7c-8f87-381effaa2643:1152977579699863563', '5:44890bb9-4945-4a7c-8f87-381effaa2643:1152983077258002443', '5:44890bb9-4945-4a7c-8f87-381effaa2643:1155234877071687691', '5:44890bb9-4945-4a7c-8f87-381effaa2643:1157486676885372939', '5:44890bb9-4945-4a7c-8f87-381effaa2643:1155184299536810003', '5:44890bb9-4945-4a7c-8f87-381effaa2643:1153058943560318996', '5:44890bb9-4945-4a7c-8f87-381effaa2643:1152932499723124755', '5:44890bb9-4945-4a7c-8f87-381effaa2643:1157436099350495251', '5:44890bb9-4945-4a7c-8f87-381effaa2643:1159687899164180499', '5:44890bb9-4945-4a7c-8f87-381effaa2643:1161939698977865747', '5:44890bb9-4945-4a7c-8f87-381effaa2643:1166443298605236243', '5:44890bb9-4945-4a7c-8f87-381effaa2643:1164191498791550995', '5:44890bb9-4945-4a7c-8f87-381effaa2643:1152946793374285843', '5:44890bb9-4945-4a7c-8f87-381effaa2643:1152947892885913619', '5:44890bb9-4945-4a7c-8f87-381effaa2643:1155223881955409940', '5:44890bb9-4945-4a7c-8f87-381effaa2643:1152972082141724692', '5:44890bb9-4945-4a7c-8f87-381effaa2643:1153060043071946772', '5:44890bb9-4945-4a7c-8f87-381effaa2643:1155223881955409942', '5:44890bb9-4945-4a7c-8f87-381effaa2643:1152972082141724694', '5:44890bb9-4945-4a7c-8f87-381effaa2643:1153061142583574550', '5:44890bb9-4945-4a7c-8f87-381effaa2643:1157436099350495257', '5:44890bb9-4945-4a7c-8f87-381effaa2643:1164191498791551009', '5:44890bb9-4945-4a7c-8f87-381effaa2643:1155314041908887578', '5:44890bb9-4945-4a7c-8f87-381effaa2643:1157569140257456162', '5:44890bb9-4945-4a7c-8f87-381effaa2643:1152932499723124761', '5:44890bb9-4945-4a7c-8f87-381effaa2643:1155184299536810009', '5:44890bb9-4945-4a7c-8f87-381effaa2643:1152946793374285849', '5:44890bb9-4945-4a7c-8f87-381effaa2643:1152947892885913625', '5:44890bb9-4945-4a7c-8f87-381effaa2643:1153062242095202330', '5:44890bb9-4945-4a7c-8f87-381effaa2643:1155184299536810017', '5:44890bb9-4945-4a7c-8f87-381effaa2643:1159687899164180513', '5:44890bb9-4945-4a7c-8f87-381effaa2643:1161939698977865761', '5:44890bb9-4945-4a7c-8f87-381effaa2643:1166443298605236257', '5:44890bb9-4945-4a7c-8f87-381effaa2643:1168695098418921505', '5:44890bb9-4945-4a7c-8f87-381effaa2643:1170946898232606753', '5:44890bb9-4945-4a7c-8f87-381effaa2643:1157436099350495265', '5:44890bb9-4945-4a7c-8f87-381effaa2643:1152946793374285857', '5:44890bb9-4945-4a7c-8f87-381effaa2643:1152946793374285851', '5:44890bb9-4945-4a7c-8f87-381effaa2643:1152947892885913633', '5:44890bb9-4945-4a7c-8f87-381effaa2643:1155317340443770914', '5:44890bb9-4945-4a7c-8f87-381effaa2643:1159820940071141410', '5:44890bb9-4945-4a7c-8f87-381effaa2643:1153065540630085666', '5:44890bb9-4945-4a7c-8f87-381effaa2643:1153066640141713442', '5:44890bb9-4945-4a7c-8f87-381effaa2643:1153067739653341218', '5:44890bb9-4945-4a7c-8f87-381effaa2643:1152973181653352483', '5:44890bb9-4945-4a7c-8f87-381effaa2643:1152932499723124776', '5:44890bb9-4945-4a7c-8f87-381effaa2643:1155184299536810024', '5:44890bb9-4945-4a7c-8f87-381effaa2643:1159687899164180520', '5:44890bb9-4945-4a7c-8f87-381effaa2643:1161939698977865768', '5:44890bb9-4945-4a7c-8f87-381effaa2643:1164191498791551016', '5:44890bb9-4945-4a7c-8f87-381effaa2643:1157436099350495272', '5:44890bb9-4945-4a7c-8f87-381effaa2643:1152946793374285864', '5:44890bb9-4945-4a7c-8f87-381effaa2643:1152947892885913640', '5:44890bb9-4945-4a7c-8f87-381effaa2643:1152994072374280233', '5:44890bb9-4945-4a7c-8f87-381effaa2643:1153069938676596779', '5:44890bb9-4945-4a7c-8f87-381effaa2643:6917676362199203884', '5:44890bb9-4945-4a7c-8f87-381effaa2643:1152947892885913646', '5:44890bb9-4945-4a7c-8f87-381effaa2643:1152947892885913627', '5:44890bb9-4945-4a7c-8f87-381effaa2643:1159687899164180612', '5:44890bb9-4945-4a7c-8f87-381effaa2643:1155231578536804485', '5:44890bb9-4945-4a7c-8f87-381effaa2643:1153051246978924677'], relationship_types=['MENTIONS', 'INITIATES', 'NEXT', 'PART_OF', 'FUNDS', 'ADMINISTERS', 'ALIGNED_WITH', 'DRIVES', 'SUPPORTS', 'INFLUENCES', 'INVOLVES', 'SCALES_UP', 'ALIGNS_WITH', 'INVESTS', 'PARTNER', 'FOCUS_AREA', 'SPECIFIC_INDUSTRY', 'REPRESENTED_BY', 'LEADS', 'PARTOF', 'COLLABORATESWITH', 'REGULATES'], attributes=None, chunks=[Chunk(chunk_id='4:44890bb9-4945-4a7c-8f87-381effaa2643:9', text=\"European Commission Press release EU boosts innovation with new European partnerships in advanced materials, textiles and photovoltaics Brussels, 20 March 2025 The Commission has taken a key step in advancing Europe's technological leadership and sustainability goals by creating three new European Partnerships on advanced materials, textiles, and photovoltaics. Established under Horizon Europe, these partnerships will drive growth, sustainability and resilience, contributing to a strong, inclusive and globally competitive Europe. Identified as essential in the Horizon Europe Strategic Plan 2025-2027, the three partnerships are: European Partnership for Innovation in Photovoltaics: It will strengthen Europe's position in the global photovoltaics (PV) industry, supporting the transition to renewable energy, particularly to solar power, as outlined in the European Green Deal, the REPower EU Plan and the 2023 Renewable Energy Directive. It will scale up the European PV manufacturing\", filename=None, embedding=None, chunk_size=1000, chunk_overlap=100, embeddings_model=None, nodes=None, relationships=None), Chunk(chunk_id='4:44890bb9-4945-4a7c-8f87-381effaa2643:19', text=\"EU Plan and the 2023 Renewable Energy Directive. It will scale up the European PV manufacturing capacity, develop a more resilient value chain in the EU and reduce dependency on fossil fuels through collaboration across the entire PV value chain. The Commission and the private partners plan to invest up to €240 million each from 2025 to 2030 in the partnership. European Partnership for Textiles of the Future: It will drive the transformation of the textile industry towards sustainability and circularity, aligning with the EU Strategy for Sustainable and Circular Textiles. The initiative will leverage digital innovations and new business models within the sector and enhance Europe's strategic autonomy. At the same time, it will help to keep the industry competitive, resilient, and sustainable in a rapidly changing global market. The Commission and the private partners plan to invest up to €30 million each from 2025 to 2030 in this partnership. European Partnership for Innovative\", filename=None, embedding=None, chunk_size=1000, chunk_overlap=100, embeddings_model=None, nodes=None, relationships=None), Chunk(chunk_id='4:44890bb9-4945-4a7c-8f87-381effaa2643:25', text='up to €30 million each from 2025 to 2030 in this partnership. European Partnership for Innovative Advanced Materials for the EU: In line with the Communication on Advanced Materials for Industrial Leadership, it will strengthen technology sovereignty and industrial competitiveness in advanced materials. The partnership will respond to industrial needs and accelerate design, development and industrial uptake of safe and sustainable advanced materials and associated technologies fit for the circular economy. The Commission and the private partners plan to invest up to €250 million each by 2030 in this partnership. Next steps The Memorandum of Understanding is the basis for the cooperation between the Commission and the other partners in a co-programmed partnership. Once adopted and signed, the partnerships will begin through dedicated Horizon Europe Work Programme calls, complemented by additional investments and activities by partners. The first funding opportunities under these new', filename=None, embedding=None, chunk_size=1000, chunk_overlap=100, embeddings_model=None, nodes=None, relationships=None), Chunk(chunk_id='4:44890bb9-4945-4a7c-8f87-381effaa2643:33', text='and mostly private partners, often represented by industry associations. These partnerships facilitate joint commitments between the Commission and industry stakeholders to drive forward strategic research and innovation agendas. By bringing private and public partners together, co-programmed European Partnerships help align research and innovation efforts, leverage private investments, and avoid duplication and fragmentation within the EU\\'s research and innovation landscape. For More Information Horizon Europe European Partnerships Co-programmed Partnerships Performance of European Partnerships (BMR Report 2024 on Partnerships in Horizon Europe - Factsheet) Horizon Europe Strategic Plan 2021-2024 Horizon Europe Strategic Plan 2025-2027 IP/25/841 Quote(s): \"Today, we take another important step forward in our commitment to strengthen Europe\\'s industrial landscape. Our new partnership on the future of textiles brings together the Commission and industry to drive technological progress', filename=None, embedding=None, chunk_size=1000, chunk_overlap=100, embeddings_model=None, nodes=None, relationships=None), Chunk(chunk_id='4:44890bb9-4945-4a7c-8f87-381effaa2643:40', text='the future of textiles brings together the Commission and industry to drive technological progress and sustainability across the sector. This initiative will accelerate the transition toward a stronger, more competitive and sustainable European textile industry.\" Stéphane Séjourné, Executive Vice-President for Prosperity and Industrial Strategy 20/03/2025 \"Europe\\'s future depends on its ability to innovate and scale up. By fostering public-private collaboration in emerging and transformative sectors through these new partnerships, we are driving progress in key areas such as advanced materials, solar energy, and textiles. Our pathway to tech sovereignty is clear: we need to transform Europe into a global digital and innovation powerhouse while reducing our reliance on imported technologies.\" Henna Virkkunen, Executive Vice-President for Tech Sovereignty, Security and Democracy 20/03/2025 \"Progress emerges when we work together. By uniting research and industry, we accelerate', filename=None, embedding=None, chunk_size=1000, chunk_overlap=100, embeddings_model=None, nodes=None, relationships=None), Chunk(chunk_id='4:44890bb9-4945-4a7c-8f87-381effaa2643:46', text='20/03/2025 \"Progress emerges when we work together. By uniting research and industry, we accelerate innovation, drive smarter investments, and bridge gaps in Europe\\'s research and innovation landscape. Together, we build a more resilient, sustainable, and competitive Europe - equipped to meet the challenges of tomorrow.\" Ekaterina Zaharieva, Commissioner for Startups, Research and Innovation 20/03/2025 Press contacts: Thomas REGNIER (+32 2 29 91099) Nika BLAZEVIC (+32 2 29 92717) General public inquiries: Europe Direct by phone 00 800 67 89 10 11 or by email', filename=None, embedding=None, chunk_size=1000, chunk_overlap=100, embeddings_model=None, nodes=None, relationships=None)], table_repr=None),\n",
       " Community(community_type='leiden', community_id=2, community_size=29, entity_ids=['4:44890bb9-4945-4a7c-8f87-381effaa2643:1', '4:44890bb9-4945-4a7c-8f87-381effaa2643:2', '4:44890bb9-4945-4a7c-8f87-381effaa2643:3', '4:44890bb9-4945-4a7c-8f87-381effaa2643:5', '4:44890bb9-4945-4a7c-8f87-381effaa2643:6', '4:44890bb9-4945-4a7c-8f87-381effaa2643:7', '4:44890bb9-4945-4a7c-8f87-381effaa2643:8', '4:44890bb9-4945-4a7c-8f87-381effaa2643:93', '4:44890bb9-4945-4a7c-8f87-381effaa2643:95', '4:44890bb9-4945-4a7c-8f87-381effaa2643:96', '4:44890bb9-4945-4a7c-8f87-381effaa2643:98', '4:44890bb9-4945-4a7c-8f87-381effaa2643:100', '4:44890bb9-4945-4a7c-8f87-381effaa2643:117', '4:44890bb9-4945-4a7c-8f87-381effaa2643:118', '4:44890bb9-4945-4a7c-8f87-381effaa2643:119', '4:44890bb9-4945-4a7c-8f87-381effaa2643:120', '4:44890bb9-4945-4a7c-8f87-381effaa2643:121', '4:44890bb9-4945-4a7c-8f87-381effaa2643:122', '4:44890bb9-4945-4a7c-8f87-381effaa2643:123', '4:44890bb9-4945-4a7c-8f87-381effaa2643:124', '4:44890bb9-4945-4a7c-8f87-381effaa2643:125', '4:44890bb9-4945-4a7c-8f87-381effaa2643:126', '4:44890bb9-4945-4a7c-8f87-381effaa2643:127', '4:44890bb9-4945-4a7c-8f87-381effaa2643:128', '4:44890bb9-4945-4a7c-8f87-381effaa2643:129', '4:44890bb9-4945-4a7c-8f87-381effaa2643:130', '4:44890bb9-4945-4a7c-8f87-381effaa2643:131', '4:44890bb9-4945-4a7c-8f87-381effaa2643:132', '4:44890bb9-4945-4a7c-8f87-381effaa2643:134'], entity_names=['Non-Compliance Investigations', 'Fines', 'Apple Ecosystem', 'Digital Markets Act', 'Apple', 'Third-Party Products', 'Apple Devices', 'Iphone', 'Ipad', 'Developers', 'European Consumers', 'Interoperability', 'Technical Documentation', 'Innovation', 'Operating Systems', 'Services', 'Hardware', 'Ios', 'Ipados', 'Dma', 'Software'], relationship_ids=['5:44890bb9-4945-4a7c-8f87-381effaa2643:1173198698046292100', '5:44890bb9-4945-4a7c-8f87-381effaa2643:1155231578536804485', '5:44890bb9-4945-4a7c-8f87-381effaa2643:1153053446002180097', '5:44890bb9-4945-4a7c-8f87-381effaa2643:1175450497859977348', '5:44890bb9-4945-4a7c-8f87-381effaa2643:1159687899164180483', '5:44890bb9-4945-4a7c-8f87-381effaa2643:1164191498791550979', '5:44890bb9-4945-4a7c-8f87-381effaa2643:1155184299536809987', '5:44890bb9-4945-4a7c-8f87-381effaa2643:1157436099350495235', '5:44890bb9-4945-4a7c-8f87-381effaa2643:1152932499723124739', '5:44890bb9-4945-4a7c-8f87-381effaa2643:1161939698977865731', '5:44890bb9-4945-4a7c-8f87-381effaa2643:1152946793374285827', '5:44890bb9-4945-4a7c-8f87-381effaa2643:6919806116222205955', '5:44890bb9-4945-4a7c-8f87-381effaa2643:1152947892885913603', '5:44890bb9-4945-4a7c-8f87-381effaa2643:6917664267571298309', '5:44890bb9-4945-4a7c-8f87-381effaa2643:1152946793374285830', '5:44890bb9-4945-4a7c-8f87-381effaa2643:1152947892885913606', '5:44890bb9-4945-4a7c-8f87-381effaa2643:1152947892885913607', '5:44890bb9-4945-4a7c-8f87-381effaa2643:1152947892885913693', '5:44890bb9-4945-4a7c-8f87-381effaa2643:6917555415920148488', '5:44890bb9-4945-4a7c-8f87-381effaa2643:6919807215733833736', '5:44890bb9-4945-4a7c-8f87-381effaa2643:6922059015547518984', '5:44890bb9-4945-4a7c-8f87-381effaa2643:6924310815361204232', '5:44890bb9-4945-4a7c-8f87-381effaa2643:1152932499723124829', '5:44890bb9-4945-4a7c-8f87-381effaa2643:1155184299536810077', '5:44890bb9-4945-4a7c-8f87-381effaa2643:1157436099350495325', '5:44890bb9-4945-4a7c-8f87-381effaa2643:1159687899164180573', '5:44890bb9-4945-4a7c-8f87-381effaa2643:1161939698977865821', '5:44890bb9-4945-4a7c-8f87-381effaa2643:1164191498791551069', '5:44890bb9-4945-4a7c-8f87-381effaa2643:1166443298605236317', '5:44890bb9-4945-4a7c-8f87-381effaa2643:1152946793374285917', '5:44890bb9-4945-4a7c-8f87-381effaa2643:1153032555281252446', '5:44890bb9-4945-4a7c-8f87-381effaa2643:1153033654792880223', '5:44890bb9-4945-4a7c-8f87-381effaa2643:1153055645025435742', '5:44890bb9-4945-4a7c-8f87-381effaa2643:1152932499723124853', '5:44890bb9-4945-4a7c-8f87-381effaa2643:1152932499723124864', '5:44890bb9-4945-4a7c-8f87-381effaa2643:1152932499723124868', '5:44890bb9-4945-4a7c-8f87-381effaa2643:1152984176769630304', '5:44890bb9-4945-4a7c-8f87-381effaa2643:1152992972862652512', '5:44890bb9-4945-4a7c-8f87-381effaa2643:6917600495896887425', '5:44890bb9-4945-4a7c-8f87-381effaa2643:6917600495896887426', '5:44890bb9-4945-4a7c-8f87-381effaa2643:1153033654792880259', '5:44890bb9-4945-4a7c-8f87-381effaa2643:1153034754304508000', '5:44890bb9-4945-4a7c-8f87-381effaa2643:6917642277338742913', '5:44890bb9-4945-4a7c-8f87-381effaa2643:6917642277338742914', '5:44890bb9-4945-4a7c-8f87-381effaa2643:1153035853816135776', '5:44890bb9-4945-4a7c-8f87-381effaa2643:1153045749420785760', '5:44890bb9-4945-4a7c-8f87-381effaa2643:1155297549234471008', '5:44890bb9-4945-4a7c-8f87-381effaa2643:1153046848932413536', '5:44890bb9-4945-4a7c-8f87-381effaa2643:1155298648746098784', '5:44890bb9-4945-4a7c-8f87-381effaa2643:1153049047955669112', '5:44890bb9-4945-4a7c-8f87-381effaa2643:1153051246978924675', '5:44890bb9-4945-4a7c-8f87-381effaa2643:1153051246978924677', '5:44890bb9-4945-4a7c-8f87-381effaa2643:6917662068548042846', '5:44890bb9-4945-4a7c-8f87-381effaa2643:1152931400211497058', '5:44890bb9-4945-4a7c-8f87-381effaa2643:1153036953327763554', '5:44890bb9-4945-4a7c-8f87-381effaa2643:1170946898232606837', '5:44890bb9-4945-4a7c-8f87-381effaa2643:1173198698046292085', '5:44890bb9-4945-4a7c-8f87-381effaa2643:1155184299536810101', '5:44890bb9-4945-4a7c-8f87-381effaa2643:1157436099350495349', '5:44890bb9-4945-4a7c-8f87-381effaa2643:1159687899164180597', '5:44890bb9-4945-4a7c-8f87-381effaa2643:1161939698977865845', '5:44890bb9-4945-4a7c-8f87-381effaa2643:1164191498791551093', '5:44890bb9-4945-4a7c-8f87-381effaa2643:1166443298605236341', '5:44890bb9-4945-4a7c-8f87-381effaa2643:1168695098418921589', '5:44890bb9-4945-4a7c-8f87-381effaa2643:1175450497859977333', '5:44890bb9-4945-4a7c-8f87-381effaa2643:1177702297673662581', '5:44890bb9-4945-4a7c-8f87-381effaa2643:1179954097487347829', '5:44890bb9-4945-4a7c-8f87-381effaa2643:1152946793374285941', '5:44890bb9-4945-4a7c-8f87-381effaa2643:1152946793374285925', '5:44890bb9-4945-4a7c-8f87-381effaa2643:1164191498791551108', '5:44890bb9-4945-4a7c-8f87-381effaa2643:1152937997281263747', '5:44890bb9-4945-4a7c-8f87-381effaa2643:1153047948444041336', '5:44890bb9-4945-4a7c-8f87-381effaa2643:1153050147467296889', '5:44890bb9-4945-4a7c-8f87-381effaa2643:1155301947280982137', '5:44890bb9-4945-4a7c-8f87-381effaa2643:1152923703630102652', '5:44890bb9-4945-4a7c-8f87-381effaa2643:1155175503443787900', '5:44890bb9-4945-4a7c-8f87-381effaa2643:1166443298605236356', '5:44890bb9-4945-4a7c-8f87-381effaa2643:1153052346490552451', '5:44890bb9-4945-4a7c-8f87-381effaa2643:1155184299536810112', '5:44890bb9-4945-4a7c-8f87-381effaa2643:1157436099350495360', '5:44890bb9-4945-4a7c-8f87-381effaa2643:1159687899164180608', '5:44890bb9-4945-4a7c-8f87-381effaa2643:1152946793374285952', '5:44890bb9-4945-4a7c-8f87-381effaa2643:1155184299536810116', '5:44890bb9-4945-4a7c-8f87-381effaa2643:1157436099350495364', '5:44890bb9-4945-4a7c-8f87-381effaa2643:1161939698977865860', '5:44890bb9-4945-4a7c-8f87-381effaa2643:1155304146304237699', '5:44890bb9-4945-4a7c-8f87-381effaa2643:1170946898232606852', '5:44890bb9-4945-4a7c-8f87-381effaa2643:1159687899164180612', '5:44890bb9-4945-4a7c-8f87-381effaa2643:1168695098418921604'], relationship_types=['MENTIONS', 'INITIATES', 'MAY_RESULT_IN', 'NEXT', 'PART_OF', 'CONTAINS', 'ENACTED', 'APPLIES_TO', 'ENFORCES', 'MANAGES', 'PROVIDES', 'DEVELOPS', 'GATEKEEPER', 'RESPECTS', 'PRODUCES', 'REQUESTS', 'REGULATES', 'SUBJECT_OF_INVESTIGATION', 'COMPATIBLE_WITH', 'USED_BY', 'AFFECTS', 'SEEKS', 'BENEFITS_FROM', 'ENABLES', 'GOVERNS'], attributes=None, chunks=[Chunk(chunk_id='4:44890bb9-4945-4a7c-8f87-381effaa2643:3', text='of fines. The Commission opened two such specification proceedings on Apple\\'s compliance with the DMA interoperability obligation on 19 September 2024. Subsequently, on 18 December 2024, the Commission communicated its preliminary findings to Apple and published the proposed measures inviting third parties to provide feedback. For more information Q&A on the specification decisions IP/25/816 Quote(s): \"Today\\'s decisions mark the first time the Commission outlines concrete measures for a gatekeeper to comply with the Digital Markets Act. Companies operating in the EU, irrespective of their place of incorporation, must comply with EU rules, including the Digital Markets Act. With these decisions, we are simply implementing the law, and providing regulatory certainty both to Apple and to developers. Effective interoperability for third-party connected devices is an important step towards opening Apple\\'s ecosystem. This will lead to a better choice for consumers in the fast-growing market', filename=None, embedding=None, chunk_size=1000, chunk_overlap=100, embeddings_model=None, nodes=None, relationships=None), Chunk(chunk_id='4:44890bb9-4945-4a7c-8f87-381effaa2643:6', text='Apple\\'s ecosystem. This will lead to a better choice for consumers in the fast-growing market for innovative connected devices. Also, from ow on, developers will enjoy more transparency as to how their interoperability requests are handled by Apple. Today moves us closer to ensuring a level playing field in Europe, thanks to the rule of law.\" Teresa Ribera, Executive Vice-President for Clean, Just and Competitive Transition 19/03/2025 \"The EU puts innovation and choice at the centre of its policies. Interoperability is one of the most important tools in making this happen. The Digital Markets Act opens up opportunities in the digital market to companies, especially startups and SMEs, while preserving the gatekeepers\\' space for innovation. The clear and targeted measures adopted today achieve this balance and maximise innovation opportunities for all digital players and bring a greater choice for consumers.\" Henna Virkkunen, Executive Vice-President for Tech Sovereignty, Security and', filename=None, embedding=None, chunk_size=1000, chunk_overlap=100, embeddings_model=None, nodes=None, relationships=None), Chunk(chunk_id='4:44890bb9-4945-4a7c-8f87-381effaa2643:7', text='choice for consumers.\" Henna Virkkunen, Executive Vice-President for Tech Sovereignty, Security and Democracy 19/03/2025 Press contacts: Thomas REGNIER (+32 2 29 91099) Patricia POROPAT (+32 2 29 80485) Sara SIMONINI (+32 2 29 83367) General public inquiries: Europe Direct by phone 00 800 67 89 10 11 or by email', filename=None, embedding=None, chunk_size=1000, chunk_overlap=100, embeddings_model=None, nodes=None, relationships=None), Chunk(chunk_id='4:44890bb9-4945-4a7c-8f87-381effaa2643:93', text=\"European Commission Press release Commission provides guidance under Digital Markets Act to facilitate development of innovative products on Apple's platforms Brussels, 19 March 2025 Today, the European Commission adopted two decisions under the Digital Markets Act (DMA) specifying the measures that Apple has to take to comply with certain aspects of its interoperability obligation. Interoperability enables a deeper and more seamless integration of third-party products with Apple's ecosystem. Interoperability is therefore key to opening up new possibilities for third parties to develop innovative products and services on Apple's gatekeeper platforms. As a result, a wider choice of products will be available to consumers in Europe which are compatible with their Apple devices. The Commission is assisting Apple in its compliance by detailing the measures needed for enabling interoperability with i OS for third-party connected devices and by streamlining the process put in place by Apple\", filename=None, embedding=None, chunk_size=1000, chunk_overlap=100, embeddings_model=None, nodes=None, relationships=None), Chunk(chunk_id='4:44890bb9-4945-4a7c-8f87-381effaa2643:117', text=\"ensure that this innovation takes place in full respect of users' privacy and security as well as the integrity of Apple's operating systems. Effective process for interoperability requests The second set of measures improves the transparency and effectiveness of the process that Apple devised for developers interested in obtaining interoperability with i Phone and i Pad features. It includes improved access to technical documentation on features not yet available to third parties, timely communication and updates, and a more predictable timeline for the review of interoperability requests. Developers will benefit from a fast and fair handling of their interoperability requests. The measures will accelerate their ability to offer a wider choice to European consumers of innovative services and hardware that interoperate with i Phones and i Pads. The final measures set out in the two specification decisions follow an extensive engagement with Apple and input provided by third parties as\", filename=None, embedding=None, chunk_size=1000, chunk_overlap=100, embeddings_model=None, nodes=None, relationships=None), Chunk(chunk_id='4:44890bb9-4945-4a7c-8f87-381effaa2643:128', text=\"decisions follow an extensive engagement with Apple and input provided by third parties as part of the public consultation, launched on 18 December 2024. Next Steps The specification decisions are legally binding. Apple is required to implement the specified measures in accordance with the conditions of the decisions. The specification decisions set out the timing for the implementation of the specified measures and the steps that Apple must take. As always, these decisions fully respect Apple's rights of defence and remain subject to independent judicial scrutiny. Background The DMA aims to ensure contestable and fair markets in the digital sector. It regulates gatekeepers, which are large digital platforms that provide an important gateway between business users and consumers, whose position can grant them the power to create a bottleneck in the digital economy. Apple was designated as a gatekeeper of two core platform services, namely the i OS and i Pad OS operating systems, by\", filename=None, embedding=None, chunk_size=1000, chunk_overlap=100, embeddings_model=None, nodes=None, relationships=None), Chunk(chunk_id='4:44890bb9-4945-4a7c-8f87-381effaa2643:132', text=\"as a gatekeeper of two core platform services, namely the i OS and i Pad OS operating systems, by Commission decisions of respectively 5 September 2023 and 29 April 2024. Under the DMA, gatekeepers, such as Apple, must provide developers with free and effective interoperability with hardware and software features controlled by or accessed via its operating systems. The specification proceedings clarify how an obligation should be implemented to ensure compliance. They do not assess the gatekeeper's compliance or otherwise with the DMA. Specification proceedings and non-compliance investigations are two distinct tools at the disposal of the Commission, which have different purposes. Unlike non-compliance cases, specification proceedings define how obligations should be met rather than sanctioning breaches of the DMA. Therefore, specification proceedings do not provide for the imposition of fines. The Commission opened two such specification proceedings on Apple's compliance with the\", filename=None, embedding=None, chunk_size=1000, chunk_overlap=100, embeddings_model=None, nodes=None, relationships=None)], table_repr=None),\n",
       " Community(community_type='leiden', community_id=3, community_size=24, entity_ids=['4:44890bb9-4945-4a7c-8f87-381effaa2643:4', '4:44890bb9-4945-4a7c-8f87-381effaa2643:48', '4:44890bb9-4945-4a7c-8f87-381effaa2643:49', '4:44890bb9-4945-4a7c-8f87-381effaa2643:50', '4:44890bb9-4945-4a7c-8f87-381effaa2643:51', '4:44890bb9-4945-4a7c-8f87-381effaa2643:52', '4:44890bb9-4945-4a7c-8f87-381effaa2643:53', '4:44890bb9-4945-4a7c-8f87-381effaa2643:54', '4:44890bb9-4945-4a7c-8f87-381effaa2643:55', '4:44890bb9-4945-4a7c-8f87-381effaa2643:56', '4:44890bb9-4945-4a7c-8f87-381effaa2643:57', '4:44890bb9-4945-4a7c-8f87-381effaa2643:58', '4:44890bb9-4945-4a7c-8f87-381effaa2643:59', '4:44890bb9-4945-4a7c-8f87-381effaa2643:60', '4:44890bb9-4945-4a7c-8f87-381effaa2643:61', '4:44890bb9-4945-4a7c-8f87-381effaa2643:62', '4:44890bb9-4945-4a7c-8f87-381effaa2643:67', '4:44890bb9-4945-4a7c-8f87-381effaa2643:72', '4:44890bb9-4945-4a7c-8f87-381effaa2643:73', '4:44890bb9-4945-4a7c-8f87-381effaa2643:74', '4:44890bb9-4945-4a7c-8f87-381effaa2643:75', '4:44890bb9-4945-4a7c-8f87-381effaa2643:76', '4:44890bb9-4945-4a7c-8f87-381effaa2643:77', '4:44890bb9-4945-4a7c-8f87-381effaa2643:94'], entity_names=['Third-Party Developers', 'Ukraine', 'G7', 'Russia', 'Eu', 'Ursula Von Der Leyen', 'Ukraine Loan Cooperation Mechanism (Ulcm)', 'Der Leyen', 'Valdis Dombrovskis', 'Iceland', 'Liechtenstein', 'North Macedonia', 'Norway', 'Serbia', 'Türkiye', 'European Commission'], relationship_ids=['5:44890bb9-4945-4a7c-8f87-381effaa2643:1159687899164180483', '5:44890bb9-4945-4a7c-8f87-381effaa2643:1153044649909157982', '5:44890bb9-4945-4a7c-8f87-381effaa2643:1155184299536810032', '5:44890bb9-4945-4a7c-8f87-381effaa2643:1157436099350495280', '5:44890bb9-4945-4a7c-8f87-381effaa2643:1159687899164180528', '5:44890bb9-4945-4a7c-8f87-381effaa2643:1161939698977865776', '5:44890bb9-4945-4a7c-8f87-381effaa2643:1152932499723124784', '5:44890bb9-4945-4a7c-8f87-381effaa2643:1152946793374285872', '5:44890bb9-4945-4a7c-8f87-381effaa2643:1152947892885913648', '5:44890bb9-4945-4a7c-8f87-381effaa2643:1157436099350495285', '5:44890bb9-4945-4a7c-8f87-381effaa2643:1152932499723124791', '5:44890bb9-4945-4a7c-8f87-381effaa2643:1155184299536810041', '5:44890bb9-4945-4a7c-8f87-381effaa2643:1155184299536810042', '5:44890bb9-4945-4a7c-8f87-381effaa2643:1152954489955680308', '5:44890bb9-4945-4a7c-8f87-381effaa2643:6919930361036144689', '5:44890bb9-4945-4a7c-8f87-381effaa2643:6917678561222459441', '5:44890bb9-4945-4a7c-8f87-381effaa2643:6917681859757342769', '5:44890bb9-4945-4a7c-8f87-381effaa2643:1153075436234735667', '5:44890bb9-4945-4a7c-8f87-381effaa2643:1153076535746363443', '5:44890bb9-4945-4a7c-8f87-381effaa2643:1153077635257991224', '5:44890bb9-4945-4a7c-8f87-381effaa2643:1153078734769618995', '5:44890bb9-4945-4a7c-8f87-381effaa2643:1153079834281246772', '5:44890bb9-4945-4a7c-8f87-381effaa2643:1153083132816130098', '5:44890bb9-4945-4a7c-8f87-381effaa2643:1159687899164180538', '5:44890bb9-4945-4a7c-8f87-381effaa2643:6917555415920148530', '5:44890bb9-4945-4a7c-8f87-381effaa2643:6917689556338737202', '5:44890bb9-4945-4a7c-8f87-381effaa2643:1153084232327757874', '5:44890bb9-4945-4a7c-8f87-381effaa2643:1159687899164180533', '5:44890bb9-4945-4a7c-8f87-381effaa2643:1155184299536810039', '5:44890bb9-4945-4a7c-8f87-381effaa2643:1157436099350495289', '5:44890bb9-4945-4a7c-8f87-381effaa2643:1164191498791551034', '5:44890bb9-4945-4a7c-8f87-381effaa2643:1153072137699852339', '5:44890bb9-4945-4a7c-8f87-381effaa2643:1153080933792874548', '5:44890bb9-4945-4a7c-8f87-381effaa2643:1157436099350495287', '5:44890bb9-4945-4a7c-8f87-381effaa2643:1152932499723124793', '5:44890bb9-4945-4a7c-8f87-381effaa2643:1161939698977865883', '5:44890bb9-4945-4a7c-8f87-381effaa2643:1153100725002174622', '5:44890bb9-4945-4a7c-8f87-381effaa2643:1152932499723124789', '5:44890bb9-4945-4a7c-8f87-381effaa2643:1155184299536810037', '5:44890bb9-4945-4a7c-8f87-381effaa2643:1152946793374285877', '5:44890bb9-4945-4a7c-8f87-381effaa2643:1152947892885913653', '5:44890bb9-4945-4a7c-8f87-381effaa2643:1161939698977865785', '5:44890bb9-4945-4a7c-8f87-381effaa2643:1153073237211480118', '5:44890bb9-4945-4a7c-8f87-381effaa2643:6919932560059400246', '5:44890bb9-4945-4a7c-8f87-381effaa2643:1159687899164180535', '5:44890bb9-4945-4a7c-8f87-381effaa2643:1152946793374285879', '5:44890bb9-4945-4a7c-8f87-381effaa2643:1152947892885913655', '5:44890bb9-4945-4a7c-8f87-381effaa2643:1159687899164180537', '5:44890bb9-4945-4a7c-8f87-381effaa2643:1152946793374285881', '5:44890bb9-4945-4a7c-8f87-381effaa2643:1152947892885913657', '5:44890bb9-4945-4a7c-8f87-381effaa2643:1152932499723124794', '5:44890bb9-4945-4a7c-8f87-381effaa2643:1161939698977865786', '5:44890bb9-4945-4a7c-8f87-381effaa2643:1157436099350495290', '5:44890bb9-4945-4a7c-8f87-381effaa2643:1152946793374285882', '5:44890bb9-4945-4a7c-8f87-381effaa2643:1152947892885913658', '5:44890bb9-4945-4a7c-8f87-381effaa2643:1153073237211480123', '5:44890bb9-4945-4a7c-8f87-381effaa2643:1152947892885913661', '5:44890bb9-4945-4a7c-8f87-381effaa2643:1161939698977865795', '5:44890bb9-4945-4a7c-8f87-381effaa2643:1155184299536810051', '5:44890bb9-4945-4a7c-8f87-381effaa2643:1157436099350495299', '5:44890bb9-4945-4a7c-8f87-381effaa2643:1159687899164180547', '5:44890bb9-4945-4a7c-8f87-381effaa2643:1164191498791551043', '5:44890bb9-4945-4a7c-8f87-381effaa2643:1166443298605236291', '5:44890bb9-4945-4a7c-8f87-381effaa2643:1168695098418921539', '5:44890bb9-4945-4a7c-8f87-381effaa2643:1170946898232606787', '5:44890bb9-4945-4a7c-8f87-381effaa2643:1173198698046292035', '5:44890bb9-4945-4a7c-8f87-381effaa2643:1175450497859977283', '5:44890bb9-4945-4a7c-8f87-381effaa2643:1177702297673662531', '5:44890bb9-4945-4a7c-8f87-381effaa2643:1152932499723124803', '5:44890bb9-4945-4a7c-8f87-381effaa2643:1152946793374285891', '5:44890bb9-4945-4a7c-8f87-381effaa2643:1152947892885913667', '5:44890bb9-4945-4a7c-8f87-381effaa2643:1155199692699598915', '5:44890bb9-4945-4a7c-8f87-381effaa2643:6917698352431759432', '5:44890bb9-4945-4a7c-8f87-381effaa2643:6917698352431759433', '5:44890bb9-4945-4a7c-8f87-381effaa2643:6917698352431759434', '5:44890bb9-4945-4a7c-8f87-381effaa2643:6917698352431759435', '5:44890bb9-4945-4a7c-8f87-381effaa2643:6917698352431759436', '5:44890bb9-4945-4a7c-8f87-381effaa2643:6917698352431759437', '5:44890bb9-4945-4a7c-8f87-381effaa2643:1155184299536809987', '5:44890bb9-4945-4a7c-8f87-381effaa2643:1152932499723124745', '5:44890bb9-4945-4a7c-8f87-381effaa2643:1152932499723124829', '5:44890bb9-4945-4a7c-8f87-381effaa2643:1155184299536810139', '5:44890bb9-4945-4a7c-8f87-381effaa2643:1152939096792891486', '5:44890bb9-4945-4a7c-8f87-381effaa2643:1153010565048696988', '5:44890bb9-4945-4a7c-8f87-381effaa2643:1153032555281252446', '5:44890bb9-4945-4a7c-8f87-381effaa2643:6917662068548042846', '5:44890bb9-4945-4a7c-8f87-381effaa2643:1153055645025435742', '5:44890bb9-4945-4a7c-8f87-381effaa2643:1153057844048691294', '5:44890bb9-4945-4a7c-8f87-381effaa2643:6917692854873620548', '5:44890bb9-4945-4a7c-8f87-381effaa2643:1153089729885896775'], relationship_types=['MENTIONS', 'IMPACTS', 'NEXT', 'PART_OF', 'SUPPORT', 'PROVIDES_FINANCIAL_ASSISTANCE', 'PROVIDESFINANCIALSUPPORT', 'AGGRESSIONAGAINST', 'WAR_OF_AGGRESSION', 'REPAYMENT', 'DESTRUCTION', 'PROVIDESSUPPORT', 'PROVIDESFINANCIALSUPPORTTHROUGH', 'MEMBEROF', 'IMPOSESSANCTIONSON', 'IMMOBILIZES_ASSETS', 'CONDEMNS', 'IMPOSES_TARIFFS_ON', 'PRESIDENTOF', 'INCLUDESINPROGRAM', 'BENEFITS', 'REPRESENTS', 'ENACTED', 'SUBJECT_OF_INVESTIGATION', 'ENFORCES', 'ADMINISTERS', 'OFFERS', 'ASSOCIATEDWITH'], attributes=None, chunks=[Chunk(chunk_id='4:44890bb9-4945-4a7c-8f87-381effaa2643:48', text=\"European Commission Press release Commission delivers a further €1 billion to Ukraine under its part of the G7 loan, to be repaid with proceeds from immobilised Russian assets Brussels, 20 March 2025 Today, the European Commission has disbursed an additional €1 billion tranche of its exceptional Macro-Financial Assistance (MFA) loan to Ukraine, to be repaid with proceeds from immobilised Russian State assets in the EU, reinforcing the EU's role as the largest donor since the beginning of Russia's war against Ukraine. In total, the MFA amounts to €18.1 billion, representing the EU's contribution to the G7-led Extraordinary Revenue Acceleration (ERA) loans initiative, which collectively aims to provide approximately €45 billion in financial support to Ukraine. With this payment, the Commission's total lending to Ukraine under this MFA reaches €4 billion since the start of the year. Discussions with Ukraine are ongoing regarding the timeline for subsequent disbursements. The Commission\", filename=None, embedding=None, chunk_size=1000, chunk_overlap=100, embeddings_model=None, nodes=None, relationships=None), Chunk(chunk_id='4:44890bb9-4945-4a7c-8f87-381effaa2643:53', text='with Ukraine are ongoing regarding the timeline for subsequent disbursements. The Commission stands ready to frontload the remaining MFA funds in line with the country\\'s needs, as called for by the European leaders in the Special European Council earlier this month. Ursula von der Leyen, President of the European Commission said: “With today\\'s payment of €1 billion, we are reiterating our steadfast commitment to Ukraine. We are helping the country\\'s economy stay on course and rebuild critical infrastructure damaged by Russian aggression. We will keep supporting Ukraine as long as it takes.\" Background How this exceptional MFA package is supporting Ukraine This MFA is crucial for addressing Ukraine\\'s urgent budgetary needs, which have considerably risen in the face of Russia\\'s intensified and prolonged war of aggression. With this €18.1 billion financial support, Ukraine will be able to support its current and future military, budget and reconstruction needs, restoring critical', filename=None, embedding=None, chunk_size=1000, chunk_overlap=100, embeddings_model=None, nodes=None, relationships=None), Chunk(chunk_id='4:44890bb9-4945-4a7c-8f87-381effaa2643:55', text=\"to support its current and future military, budget and reconstruction needs, restoring critical infrastructure destroyed by Russia, such as energy infrastructure, water systems, transport networks, roads and bridges. The MFA instrument offers high flexibility and very favourable terms to Ukraine, with very long maturities which can extend up to 45 years. Importantly, Ukraine is not expected to directly repay the loan from its own resources. Instead, the repayment will be ensured through the extraordinary profits from immobilised Russian assets collected from the Ukraine Loan Cooperation Mechanism (ULCM), sending a clear signal that the burden of rebuilding Ukraine will be shouldered by those responsible for its destruction. Overall support the EU has provided to Ukraine so far Since the onset of Russia's war of aggression against Ukraine, the EU, together with its Member States, has unequivocally condemned Russia's actions and has offered unprecedented support to Ukraine and its\", filename=None, embedding=None, chunk_size=1000, chunk_overlap=100, embeddings_model=None, nodes=None, relationships=None), Chunk(chunk_id='4:44890bb9-4945-4a7c-8f87-381effaa2643:57', text='unequivocally condemned Russia\\'s actions and has offered unprecedented support to Ukraine and its people. As the largest donor, the EU has contributed to nearly €140 billion in total, including: €71.3 billion in financial and budget support, and humanitarian assistance; €49.3 billion in military assistance for Ukraine under the European Peace Facility and by Member States individually; €17 billion made available to Member States to cater for the needs of people fleeing the war; €1.5 billion generated from proceeds linked to frozen and immobilised Russian sovereign assets (windfall profits). IP/25/827 Quote(s): \"With today\\'s payment of €1 billion, we are reiterating our steadfast commitment to Ukraine. We are helping the country\\'s economy stay on course and rebuild critical infrastructure damaged by Russian aggression. We will keep supporting Ukraine as long as it takes. \" Ursula von der Leyen, President of the European Commission 20/03/2025 \"Today, we transfer to Ukraine a second', filename=None, embedding=None, chunk_size=1000, chunk_overlap=100, embeddings_model=None, nodes=None, relationships=None), Chunk(chunk_id='4:44890bb9-4945-4a7c-8f87-381effaa2643:58', text='der Leyen, President of the European Commission 20/03/2025 \"Today, we transfer to Ukraine a second payment worth €1 billion under the G7-led Extraordinary Revenue Acceleration (ERA) loans initiative. The EU has now provided Ukraine with €4 billion as part of its overall €18.1 billion contribution under this initiative, and will make a further payment in April. We stand ready to frontload financial support to Ukraine, if necessary. The financing provided will be used to help Ukraine maintain macroeconomic stability, rebuild infrastructure, and continue its fight against Russian aggression. The ERA initiative makes Russia pay for its aggression by using the proceeds of immobilised Russian state assets to repay the loans provided. The EU will continue to stand by Ukraine by providing all necessary support and continuing to target Russia\\'s capacity to wage war. We are working with our G7 partners to fully implement the ERA initiative.\" Valdis Dombrovskis, Commissioner for Economy and', filename=None, embedding=None, chunk_size=1000, chunk_overlap=100, embeddings_model=None, nodes=None, relationships=None), Chunk(chunk_id='4:44890bb9-4945-4a7c-8f87-381effaa2643:61', text='partners to fully implement the ERA initiative.\" Valdis Dombrovskis, Commissioner for Economy and Productivity; Implementation and Simplification 20/03/2025 Press contacts: Maciej BERESTECKI (+32 2 29 66483) Francisca MARÇAL SANTOS (+32 2 29 97236) General public inquiries: Europe Direct by phone 00 800 67 89 10 11 or by email', filename=None, embedding=None, chunk_size=1000, chunk_overlap=100, embeddings_model=None, nodes=None, relationships=None), Chunk(chunk_id='4:44890bb9-4945-4a7c-8f87-381effaa2643:67', text='European Commission Press release Commission offers 36,000 free EU travel passes to 18-year-olds Brussels, 2 April 2025 Thousands of young people will soon have the chance to explore Europe for free with Discover EU. The European Commission has opened applications for a new Discover EU round, making nearly 36,000 travel passes available to 18-year-olds across Europe. Successful applicants will be able to travel across Europe by train for up to 30 days between 1 July 2025 and 30 September 2026, discovering new countries, cultures and experiences. Applicants have to be born between 1 July 2006 and 30 June 2007, be residents from the EU and countries associated with the Erasmus+ programme, including Iceland, Liechtenstein, North Macedonia, Norway, Serbia and Türkiye. Applications will close on Wednesday 16 April at 12:00 CEST. Candidates must apply via the European Youth Portal, completing a short quiz about the EU. Passes will be awarded to the top-ranked applicants until all tickets are', filename=None, embedding=None, chunk_size=1000, chunk_overlap=100, embeddings_model=None, nodes=None, relationships=None)], table_repr=None),\n",
       " Community(community_type='leiden', community_id=4, community_size=22, entity_ids=['4:44890bb9-4945-4a7c-8f87-381effaa2643:42', '4:44890bb9-4945-4a7c-8f87-381effaa2643:45', '4:44890bb9-4945-4a7c-8f87-381effaa2643:70', '4:44890bb9-4945-4a7c-8f87-381effaa2643:99', '4:44890bb9-4945-4a7c-8f87-381effaa2643:155', '4:44890bb9-4945-4a7c-8f87-381effaa2643:156', '4:44890bb9-4945-4a7c-8f87-381effaa2643:157', '4:44890bb9-4945-4a7c-8f87-381effaa2643:158', '4:44890bb9-4945-4a7c-8f87-381effaa2643:159', '4:44890bb9-4945-4a7c-8f87-381effaa2643:160', '4:44890bb9-4945-4a7c-8f87-381effaa2643:161', '4:44890bb9-4945-4a7c-8f87-381effaa2643:162', '4:44890bb9-4945-4a7c-8f87-381effaa2643:163', '4:44890bb9-4945-4a7c-8f87-381effaa2643:164', '4:44890bb9-4945-4a7c-8f87-381effaa2643:165', '4:44890bb9-4945-4a7c-8f87-381effaa2643:166', '4:44890bb9-4945-4a7c-8f87-381effaa2643:167', '4:44890bb9-4945-4a7c-8f87-381effaa2643:168', '4:44890bb9-4945-4a7c-8f87-381effaa2643:169', '4:44890bb9-4945-4a7c-8f87-381effaa2643:170', '4:44890bb9-4945-4a7c-8f87-381effaa2643:171', '4:44890bb9-4945-4a7c-8f87-381effaa2643:172'], entity_names=['Henna Virkkunen', 'Europe', '18-Year-Olds', 'Consumers', 'President Von Der Leyen', 'President Trump', 'Us', 'World Economy', 'Businesses', 'Vulnerable Countries', 'Vulnerable Citizens', 'United States', 'Global Trading System', 'Maros Šefčovič', 'Steel', 'Cars'], relationship_ids=['5:44890bb9-4945-4a7c-8f87-381effaa2643:1155184299536810024', '5:44890bb9-4945-4a7c-8f87-381effaa2643:1153010565048696874', '5:44890bb9-4945-4a7c-8f87-381effaa2643:1164191498791551016', '5:44890bb9-4945-4a7c-8f87-381effaa2643:1161939698977865795', '5:44890bb9-4945-4a7c-8f87-381effaa2643:1155184299536810147', '5:44890bb9-4945-4a7c-8f87-381effaa2643:1157436099350495399', '5:44890bb9-4945-4a7c-8f87-381effaa2643:1152983077258002477', '5:44890bb9-4945-4a7c-8f87-381effaa2643:1155234877071687725', '5:44890bb9-4945-4a7c-8f87-381effaa2643:1153088630374268998', '5:44890bb9-4945-4a7c-8f87-381effaa2643:1153101824513802285', '5:44890bb9-4945-4a7c-8f87-381effaa2643:1159687899164180547', '5:44890bb9-4945-4a7c-8f87-381effaa2643:1153086431351013444', '5:44890bb9-4945-4a7c-8f87-381effaa2643:1161939698977865731', '5:44890bb9-4945-4a7c-8f87-381effaa2643:1164191498791551069', '5:44890bb9-4945-4a7c-8f87-381effaa2643:1166443298605236379', '5:44890bb9-4945-4a7c-8f87-381effaa2643:1159687899164180643', '5:44890bb9-4945-4a7c-8f87-381effaa2643:1152937997281263774', '5:44890bb9-4945-4a7c-8f87-381effaa2643:1152939096792891486', '5:44890bb9-4945-4a7c-8f87-381effaa2643:1153036953327763554', '5:44890bb9-4945-4a7c-8f87-381effaa2643:1153102924025430176', '5:44890bb9-4945-4a7c-8f87-381effaa2643:1153102924025430180', '5:44890bb9-4945-4a7c-8f87-381effaa2643:1161939698977865883', '5:44890bb9-4945-4a7c-8f87-381effaa2643:1155184299536810139', '5:44890bb9-4945-4a7c-8f87-381effaa2643:1152932499723124891', '5:44890bb9-4945-4a7c-8f87-381effaa2643:1157436099350495387', '5:44890bb9-4945-4a7c-8f87-381effaa2643:1159687899164180635', '5:44890bb9-4945-4a7c-8f87-381effaa2643:1164191498791551131', '5:44890bb9-4945-4a7c-8f87-381effaa2643:1168695098418921627', '5:44890bb9-4945-4a7c-8f87-381effaa2643:1170946898232606875', '5:44890bb9-4945-4a7c-8f87-381effaa2643:1173198698046292123', '5:44890bb9-4945-4a7c-8f87-381effaa2643:1152946793374285979', '5:44890bb9-4945-4a7c-8f87-381effaa2643:1152947892885913755', '5:44890bb9-4945-4a7c-8f87-381effaa2643:1153010565048696988', '5:44890bb9-4945-4a7c-8f87-381effaa2643:1152932499723124899', '5:44890bb9-4945-4a7c-8f87-381effaa2643:1152983077258002589', '5:44890bb9-4945-4a7c-8f87-381effaa2643:1152994072374280349', '5:44890bb9-4945-4a7c-8f87-381effaa2643:1155184299536810151', '5:44890bb9-4945-4a7c-8f87-381effaa2643:1155189797094949022', '5:44890bb9-4945-4a7c-8f87-381effaa2643:1157441596908634270', '5:44890bb9-4945-4a7c-8f87-381effaa2643:1153044649909158046', '5:44890bb9-4945-4a7c-8f87-381effaa2643:1153100725002174622', '5:44890bb9-4945-4a7c-8f87-381effaa2643:1155352524815859870', '5:44890bb9-4945-4a7c-8f87-381effaa2643:1153105123048685736', '5:44890bb9-4945-4a7c-8f87-381effaa2643:1161939698977865891', '5:44890bb9-4945-4a7c-8f87-381effaa2643:1153104023537057956', '5:44890bb9-4945-4a7c-8f87-381effaa2643:1157436099350495395', '5:44890bb9-4945-4a7c-8f87-381effaa2643:1164191498791551139', '5:44890bb9-4945-4a7c-8f87-381effaa2643:1152946793374285987', '5:44890bb9-4945-4a7c-8f87-381effaa2643:1152947892885913763', '5:44890bb9-4945-4a7c-8f87-381effaa2643:1152946793374285990', '5:44890bb9-4945-4a7c-8f87-381effaa2643:1152947892885913766', '5:44890bb9-4945-4a7c-8f87-381effaa2643:1152932499723124903', '5:44890bb9-4945-4a7c-8f87-381effaa2643:1159687899164180647', '5:44890bb9-4945-4a7c-8f87-381effaa2643:1161939698977865895', '5:44890bb9-4945-4a7c-8f87-381effaa2643:1152946793374285991', '5:44890bb9-4945-4a7c-8f87-381effaa2643:1152947892885913767', '5:44890bb9-4945-4a7c-8f87-381effaa2643:1152947892885913771'], relationship_types=['MENTIONS', 'REPRESENTS', 'SUPPORTS', 'TRAVELSTO', 'TRADESWITH', 'PROVIDESTRAVELPASSES', 'AFFECTS', 'BENEFITS', 'USED_BY', 'PROVIDESGOODSANDSERVICESTO', 'NEXT', 'PART_OF', 'LEADS', 'IMPACTS', 'IMPOSES_TARIFFS_ON', 'ENGAGED_WITH', 'PROVIDESOPPORTUNITIESTO'], attributes=None, chunks=[Chunk(chunk_id='4:44890bb9-4945-4a7c-8f87-381effaa2643:155', text=\"European Commission Statement Statement by President von der Leyen on the announcement of universal tariffs by the US Samarkand, 2 April 2025 President Trump's announcement of universal tariffs on the whole world, including the EU, is a major blow to the world economy. I deeply regret this choice. Let's be clear-eyed about the immense consequences. The global economy will massively suffer. Uncertainty will spiral and trigger the rise of further protectionism. The consequences will be dire for millions of people around the globe. Also for the most vulnerable countries, which are now subject to some of the highest US tariffs. The opposite of what we want to achieve. The tariffs will also hurt consumers around the world. It will be felt immediately. Millions of citizens will face higher grocery bills. Medication will cost more as well as transportation. Inflation will go up. And this is hurting in particular the most vulnerable citizens. All businesses - big and small - will suffer from\", filename=None, embedding=None, chunk_size=1000, chunk_overlap=100, embeddings_model=None, nodes=None, relationships=None), Chunk(chunk_id='4:44890bb9-4945-4a7c-8f87-381effaa2643:163', text='in particular the most vulnerable citizens. All businesses - big and small - will suffer from day one. From greater uncertainty to the disruption of supply chains to burdensome bureaucracy. The cost of doing business with the United States will drastically increase. And what is more, there seems to be no order in the disorder. No clear path through the complexity and chaos that is being created as all US trading partners are hit. In the past eighty years, trade between Europe and the United States has created millions of jobs. Consumers across the Atlantic have benefited from reduced prices. Businesses have benefited from huge opportunities leading to unprecedented growth and prosperity. At the same time, we know that the global trading system has serious deficiencies. I agree with President Trump, that others are taking unfair advantage of the current rules. And I am ready to support any efforts to make the global trading system fit for the realities of the global economy. But I also', filename=None, embedding=None, chunk_size=1000, chunk_overlap=100, embeddings_model=None, nodes=None, relationships=None), Chunk(chunk_id='4:44890bb9-4945-4a7c-8f87-381effaa2643:166', text='efforts to make the global trading system fit for the realities of the global economy. But I also want to be clear: Reaching for tariffs as your first and last tool will not fix it. That is why, from the outset, we have always been ready to negotiate with the US, to remove any remaining barriers to Transatlantic trade. At the same time, we are prepared to respond. We are already finalising a first package of countermeasures in response to tariffs on steel. And we are now preparing for further countermeasures, to protect our interests and our businesses if egotiations fail. We will also be watching closely what indirect effects these tariffs could have, because we cannot absorb global overcapacity nor will we accept dumping on our market As Europeans we will always promote and defend our interests and values. And we will always stand up for Europe. But there is an alternative path. It is not too late to address concerns through negotiations. This is why our Trade Commissioner, Maros', filename=None, embedding=None, chunk_size=1000, chunk_overlap=100, embeddings_model=None, nodes=None, relationships=None), Chunk(chunk_id='4:44890bb9-4945-4a7c-8f87-381effaa2643:167', text=\"is not too late to address concerns through negotiations. This is why our Trade Commissioner, Maros Šefčovič,is permanently engaged with his US counterparts. We will work towards reducing barriers, not raising them. Let's move from confrontation to negotiation. Finally I would also like to speak directly to my fellow Europeans. I know that many of you feel let down by our oldest ally. Yes, we must brace for the impact that this will inevitably have. Europe has everything it needs to make it through this storm. We are in this together. If you take on one of us, you take on all of us. So we will stand together and stand up for each other. Our unity is our strength. Europe has the largest Single Market in the world 450 million consumers that is our safe harbour in tumultuous times. And Europe will stand at the side of those directly impacted. We have already announced new measures to support the steel and cars sectors. Last week, we limited the amount of steel that can be imported to\", filename=None, embedding=None, chunk_size=1000, chunk_overlap=100, embeddings_model=None, nodes=None, relationships=None), Chunk(chunk_id='4:44890bb9-4945-4a7c-8f87-381effaa2643:171', text='the steel and cars sectors. Last week, we limited the amount of steel that can be imported to Europe tariff-free. This will give more breathing space to these strategic industries. Now we will also convene Strategic Dialogues with the steel, the automotive and the pharmaceutical sector. And others will follow. Europe stands together for our businesses, for our workers,and for all Europeans. And we will continue to build bridges with all those that like us care about fair and rules-based trade as the basis for shared prosperity. Thank you. STATEMENT/25/964 Press contacts: Paula PINHO (+32 2 29 20815) Arianna PODESTA (+32 2 298 70 24) Stefan DE KEERSMAECKER (+32 2 29 84680) General public inquiries: Europe Direct by phone 00 800 67 89 10 11 or by email', filename=None, embedding=None, chunk_size=1000, chunk_overlap=100, embeddings_model=None, nodes=None, relationships=None)], table_repr=None),\n",
       " Community(community_type='leiden', community_id=5, community_size=17, entity_ids=['4:44890bb9-4945-4a7c-8f87-381effaa2643:97', '4:44890bb9-4945-4a7c-8f87-381effaa2643:101', '4:44890bb9-4945-4a7c-8f87-381effaa2643:102', '4:44890bb9-4945-4a7c-8f87-381effaa2643:103', '4:44890bb9-4945-4a7c-8f87-381effaa2643:104', '4:44890bb9-4945-4a7c-8f87-381effaa2643:105', '4:44890bb9-4945-4a7c-8f87-381effaa2643:106', '4:44890bb9-4945-4a7c-8f87-381effaa2643:107', '4:44890bb9-4945-4a7c-8f87-381effaa2643:108', '4:44890bb9-4945-4a7c-8f87-381effaa2643:109', '4:44890bb9-4945-4a7c-8f87-381effaa2643:110', '4:44890bb9-4945-4a7c-8f87-381effaa2643:111', '4:44890bb9-4945-4a7c-8f87-381effaa2643:112', '4:44890bb9-4945-4a7c-8f87-381effaa2643:113', '4:44890bb9-4945-4a7c-8f87-381effaa2643:114', '4:44890bb9-4945-4a7c-8f87-381effaa2643:115', '4:44890bb9-4945-4a7c-8f87-381effaa2643:116'], entity_names=['I Os', 'Third-Party Connected Devices', 'Smartwatches', 'Headphones', 'Tvs', 'Device Manufacturers', 'App Developers', 'I Phone', 'I Pad', 'Notifications', 'Peer-To-Peer Wi-Fi Connections', 'Near-Field Communication', 'Device Set-Up', 'User Experience', 'Privacy', 'Security'], relationship_ids=['5:44890bb9-4945-4a7c-8f87-381effaa2643:1159687899164180573', '5:44890bb9-4945-4a7c-8f87-381effaa2643:1152932499723124837', '5:44890bb9-4945-4a7c-8f87-381effaa2643:1153034754304508000', '5:44890bb9-4945-4a7c-8f87-381effaa2643:1153038052839391329', '5:44890bb9-4945-4a7c-8f87-381effaa2643:1153041351374274657', '5:44890bb9-4945-4a7c-8f87-381effaa2643:1155293151187959905', '5:44890bb9-4945-4a7c-8f87-381effaa2643:1153045749420785761', '5:44890bb9-4945-4a7c-8f87-381effaa2643:1155297549234471009', '5:44890bb9-4945-4a7c-8f87-381effaa2643:1155184299536810085', '5:44890bb9-4945-4a7c-8f87-381effaa2643:1157436099350495333', '5:44890bb9-4945-4a7c-8f87-381effaa2643:1159687899164180581', '5:44890bb9-4945-4a7c-8f87-381effaa2643:1161939698977865829', '5:44890bb9-4945-4a7c-8f87-381effaa2643:1164191498791551077', '5:44890bb9-4945-4a7c-8f87-381effaa2643:1166443298605236325', '5:44890bb9-4945-4a7c-8f87-381effaa2643:1168695098418921573', '5:44890bb9-4945-4a7c-8f87-381effaa2643:1170946898232606821', '5:44890bb9-4945-4a7c-8f87-381effaa2643:1173198698046292069', '5:44890bb9-4945-4a7c-8f87-381effaa2643:1175450497859977317', '5:44890bb9-4945-4a7c-8f87-381effaa2643:1177702297673662565', '5:44890bb9-4945-4a7c-8f87-381effaa2643:1179954097487347813', '5:44890bb9-4945-4a7c-8f87-381effaa2643:1182205897301033061', '5:44890bb9-4945-4a7c-8f87-381effaa2643:1184457697114718309', '5:44890bb9-4945-4a7c-8f87-381effaa2643:1186709496928403557', '5:44890bb9-4945-4a7c-8f87-381effaa2643:1152946793374285925', '5:44890bb9-4945-4a7c-8f87-381effaa2643:1152946793374285917', '5:44890bb9-4945-4a7c-8f87-381effaa2643:6917555415920148488', '5:44890bb9-4945-4a7c-8f87-381effaa2643:1153034754304508010', '5:44890bb9-4945-4a7c-8f87-381effaa2643:1153039152351019110', '5:44890bb9-4945-4a7c-8f87-381effaa2643:1155290952164704358', '5:44890bb9-4945-4a7c-8f87-381effaa2643:1157542751978389606', '5:44890bb9-4945-4a7c-8f87-381effaa2643:1153040251862646891', '5:44890bb9-4945-4a7c-8f87-381effaa2643:1153044649909157990', '5:44890bb9-4945-4a7c-8f87-381effaa2643:1152983077258002540', '5:44890bb9-4945-4a7c-8f87-381effaa2643:1155234877071687788', '5:44890bb9-4945-4a7c-8f87-381effaa2643:1153042450885902444', '5:44890bb9-4945-4a7c-8f87-381effaa2643:1153043550397530220', '5:44890bb9-4945-4a7c-8f87-381effaa2643:1170946898232606837', '5:44890bb9-4945-4a7c-8f87-381effaa2643:1153045749420785760', '5:44890bb9-4945-4a7c-8f87-381effaa2643:1173198698046292085', '5:44890bb9-4945-4a7c-8f87-381effaa2643:1155297549234471008'], relationship_types=['MENTIONS', 'DEVELOPS', 'CONNECTS_TO', 'RUNS_ON', 'RESPECTS', 'NEXT', 'PART_OF', 'IS_A_TYPE_OF', 'DEVELOPS_APPS_FOR', 'IMPACTS', 'SUPPORTS', 'DISPLAYS', 'FACILITATES'], attributes=None, chunks=[Chunk(chunk_id='4:44890bb9-4945-4a7c-8f87-381effaa2643:101', text=\"with i OS for third-party connected devices and by streamlining the process put in place by Apple to handle future requests for interoperability with i Phone and i Pad devices. Connected devices The first set of measures concerns nine i OS connectivity features, predominantly used for connected devices such as smartwatches, headphones or TVs. The measures will grant device manufacturers and app developers improved access to i Phone features that interact with such devices (e.g. displaying notifications on smartwatches), faster data transfers (e.g. peer-to-peer Wi-Fi connections, and near-field communication) and easier device set-up (e.g. pairing). As a result, connected devices of all brands will work better on i Phones. Device manufacturers will have new opportunities to bring innovative products to the market, improving the user experience for consumers based in Europe. The measures ensure that this innovation takes place in full respect of users' privacy and security as well as\", filename=None, embedding=None, chunk_size=1000, chunk_overlap=100, embeddings_model=None, nodes=None, relationships=None)], table_repr=None),\n",
       " Community(community_type='leiden', community_id=6, community_size=6, entity_ids=['4:44890bb9-4945-4a7c-8f87-381effaa2643:27', '4:44890bb9-4945-4a7c-8f87-381effaa2643:28', '4:44890bb9-4945-4a7c-8f87-381effaa2643:29', '4:44890bb9-4945-4a7c-8f87-381effaa2643:30', '4:44890bb9-4945-4a7c-8f87-381effaa2643:31', '4:44890bb9-4945-4a7c-8f87-381effaa2643:32'], entity_names=['Horizon Europe Work Programme 2025', 'Virtual Worlds', 'Digital Decade 2030', 'European Partnerships In Horizon Europe', 'Horizon Europe Strategic Plan 2021-2024'], relationship_ids=['5:44890bb9-4945-4a7c-8f87-381effaa2643:1152932499723124763', '5:44890bb9-4945-4a7c-8f87-381effaa2643:1155184299536810011', '5:44890bb9-4945-4a7c-8f87-381effaa2643:1157436099350495259', '5:44890bb9-4945-4a7c-8f87-381effaa2643:1159687899164180507', '5:44890bb9-4945-4a7c-8f87-381effaa2643:1161939698977865755', '5:44890bb9-4945-4a7c-8f87-381effaa2643:1152946793374285851', '5:44890bb9-4945-4a7c-8f87-381effaa2643:1152946793374285849', '5:44890bb9-4945-4a7c-8f87-381effaa2643:1152947892885913627', '5:44890bb9-4945-4a7c-8f87-381effaa2643:1152947892885913628', '5:44890bb9-4945-4a7c-8f87-381effaa2643:1153063341606830111', '5:44890bb9-4945-4a7c-8f87-381effaa2643:1152968783606841373', '5:44890bb9-4945-4a7c-8f87-381effaa2643:1153064441118457887'], relationship_types=['MENTIONS', 'NEXT', 'PART_OF', 'COMPLEMENT', 'ALIGNED_WITH', 'LAUNCHED_FOLLOWING'], attributes=None, chunks=[Chunk(chunk_id='4:44890bb9-4945-4a7c-8f87-381effaa2643:27', text=\"additional investments and activities by partners. The first funding opportunities under these new partnerships will be part of the Horizon Europe Work Programme 2025. Later this year, a fourth co-programmed partnership on Virtual Worlds will be launched. It aims to shape open, interoperable, and secure virtual worlds aligned with Europe's Digital Decade 2030 vision, promoting inclusivity, privacy, and business opportunities. Background The three new partnerships will complement and strengthen the existing portfolio of 12 co- programmed partnerships that were launched following the Horizon Europe Strategic Plan 2021-2024. European Partnerships in Horizon Europe are collaborative initiatives that bring together private and/or public entities to address the EU's most pressing challenges through joint research and innovation activities. Co-programmed European Partnerships involve the Commission and mostly private partners, often represented by industry associations. These partnerships\", filename=None, embedding=None, chunk_size=1000, chunk_overlap=100, embeddings_model=None, nodes=None, relationships=None)], table_repr=None)]"
      ]
     },
     "execution_count": 3,
     "metadata": {},
     "output_type": "execute_result"
    }
   ],
   "source": [
    "communities = kg.get_communities()\n",
    "communities"
   ]
  },
  {
   "cell_type": "code",
   "execution_count": 4,
   "metadata": {},
   "outputs": [
    {
     "data": {
      "text/plain": [
       "[Chunk(chunk_id='4:44890bb9-4945-4a7c-8f87-381effaa2643:78', text='short quiz about the EU. Passes will be awarded to the top-ranked applicants until all tickets are distributed. Travellers can design their own European journey or choose from suggested routes. They may follow the New European Bauhaus Route, showcasing vibrant, sustainable cities, or choose the Green Route, taking them takes to some of the most sustainable cities and nature-friendly destinations across the continent. This route features award-winning Green Capitals and Green Leaf cities, stunning parks, and nature reserves. Along the way, they can use a discount card packed with thousands of offers on transport, museums, food, accommodation, sports and more across 36 countries. Discover EU will make this experience accessible to all. Special support is available for participants with disabilities, health conditions or fewer opportunities. Additional arrangements are also offered to those living in remote areas, islands or outermost regions. Launched in 2018 and integrated into the', filename=None, embedding=None, chunk_size=1000, chunk_overlap=100, embeddings_model=None, nodes=None, relationships=None),\n",
       " Chunk(chunk_id='4:44890bb9-4945-4a7c-8f87-381effaa2643:147', text='living in remote areas, islands or outermost regions. Launched in 2018 and integrated into the 2021-2027 Erasmus+ programme, Discover EU has already awarded over 355,000 travel passes. All participants are invited to join the #Discover EU official group, with over 106,000 members sharing experiences and tips. For More Information Discover EU European Youth Portal Erasmus+ IP/25/957 Quote(s): \"Discover EU opens the door to adventure, learning, and unforgettable experiences. I\\'m thrilled to launch the spring 2025 application round, giving thousands of young people the chance to explore Europe and its rich cultural heritage, expand your knowledge, and make lifelong memories. If you\\'re 18 and ready for an incredible journey, do not miss this opportunity. Apply ow!\" Glenn Micallef, Commissioner for Intergenerational Fairness, Youth, Culture and Sport 02/04/2025 Press contacts: Eva HRNCIROVA (+32 2 29 88433) Quentin CORTES (+32 2 29 13283) General public inquiries: Europe Direct by phone 00', filename=None, embedding=None, chunk_size=1000, chunk_overlap=100, embeddings_model=None, nodes=None, relationships=None),\n",
       " Chunk(chunk_id='4:44890bb9-4945-4a7c-8f87-381effaa2643:153', text='2 29 88433) Quentin CORTES (+32 2 29 13283) General public inquiries: Europe Direct by phone 00 800 67 89 10 11 or by email', filename=None, embedding=None, chunk_size=1000, chunk_overlap=100, embeddings_model=None, nodes=None, relationships=None)]"
      ]
     },
     "execution_count": 4,
     "metadata": {},
     "output_type": "execute_result"
    }
   ],
   "source": [
    "communities[0].chunks"
   ]
  },
  {
   "cell_type": "code",
   "execution_count": 5,
   "metadata": {},
   "outputs": [
    {
     "name": "stderr",
     "output_type": "stream",
     "text": [
      "2025-04-06 20:55:34,005 - src.factory.llm - INFO - Fetching LLM model 'gemma2-9b-it'..\n",
      "2025-04-06 20:55:34,153 - src.factory.llm - INFO - Initialized LLM of type: 'ModelType.GROQ'\n",
      "2025-04-06 20:55:34,154 - src.factory.llm - INFO - Fetching LLM model 'gemma2-9b-it'..\n",
      "2025-04-06 20:55:34,187 - src.factory.llm - INFO - Initialized LLM of type: 'ModelType.GROQ'\n"
     ]
    }
   ],
   "source": [
    "responder = GraphAgentResponder(\n",
    "    qa_llm_conf=conf.qa_model,\n",
    "    cypher_llm_conf=conf.qa_model,\n",
    "    graph=kg\n",
    "    # rephrase_llm_conf=conf.qa_model\n",
    ")"
   ]
  },
  {
   "cell_type": "code",
   "execution_count": 6,
   "metadata": {},
   "outputs": [
    {
     "data": {
      "text/plain": [
       "[(Document(metadata={'community_leiden': 13, 'closeness': 0.0, 'pagerank': 0.0035649165962808836, 'betweenness': 0.0, 'community_louvain': 14, 'community_type': 'leiden', 'community_id': 4, 'community_size': 11}, page_content=\"The European Commission issued two decisions requiring Apple to comply with the Digital Markets Act's interoperability obligation. These decisions specify measures for Apple to enable interoperability with iOS for third-party connected devices, aiming to increase consumer choice and foster innovation in the European market.  \\n\"),\n",
       "  0.8276760578155518),\n",
       " (Document(metadata={'community_leiden': 10, 'closeness': 0.0, 'pagerank': 0.0035649165962808836, 'betweenness': 0.0, 'community_louvain': 11, 'community_type': 'leiden', 'community_id': 1, 'community_size': 21}, page_content='The European Commission has issued legally binding decisions requiring Apple to improve interoperability between its iOS and iPadOS operating systems and third-party apps and hardware.  These decisions, based on extensive engagement with Apple and third parties, aim to enhance transparency, fairness, and efficiency in the process for developers seeking interoperability.  Apple must implement these measures within specified timelines and provide developers with better access to technical documentation, timely communication, and a more predictable review process for interoperability requests. \\n'),\n",
       "  0.7358686923980713),\n",
       " (Document(metadata={'community_leiden': 11, 'closeness': 0.0, 'pagerank': 0.0035649165962808836, 'betweenness': 0.0, 'community_louvain': 12, 'community_type': 'leiden', 'community_id': 2, 'community_size': 17}, page_content='New measures will improve the interoperability of third-party connected devices with iPhones and iPads, granting device manufacturers and app developers better access to iPhone features, faster data transfers, and easier device setup.  \\n'),\n",
       "  0.7085599899291992)]"
      ]
     },
     "execution_count": 6,
     "metadata": {},
     "output_type": "execute_result"
    }
   ],
   "source": [
    "responder.answer_with_community_reports(query=\"what is the Digital Markets Act?\")"
   ]
  },
  {
   "cell_type": "code",
   "execution_count": 7,
   "metadata": {},
   "outputs": [
    {
     "data": {
      "text/plain": [
       "[(Document(metadata={'community_leiden': 13, 'closeness': 0.0, 'pagerank': 0.0035649165962808836, 'betweenness': 0.0, 'community_louvain': 14, 'community_type': 'leiden', 'community_id': 4, 'community_size': 11}, page_content=\"The European Commission issued two decisions requiring Apple to comply with the Digital Markets Act's interoperability obligation. These decisions specify measures for Apple to enable interoperability with iOS for third-party connected devices, aiming to increase consumer choice and foster innovation in the European market.  \\n\"),\n",
       "  0.8790302872657776),\n",
       " (Document(metadata={'community_leiden': 10, 'closeness': 0.0, 'pagerank': 0.0035649165962808836, 'betweenness': 0.0, 'community_louvain': 11, 'community_type': 'leiden', 'community_id': 1, 'community_size': 21}, page_content='The European Commission has issued legally binding decisions requiring Apple to improve interoperability between its iOS and iPadOS operating systems and third-party apps and hardware.  These decisions, based on extensive engagement with Apple and third parties, aim to enhance transparency, fairness, and efficiency in the process for developers seeking interoperability.  Apple must implement these measures within specified timelines and provide developers with better access to technical documentation, timely communication, and a more predictable review process for interoperability requests. \\n'),\n",
       "  0.8654360771179199),\n",
       " (Document(metadata={'community_leiden': 9, 'closeness': 0.0, 'pagerank': 0.0035649165962808836, 'betweenness': 0.0, 'community_louvain': 10, 'community_type': 'leiden', 'community_id': 0, 'community_size': 25}, page_content='The EU is launching three new partnerships focused on renewable energy, textiles, and advanced materials. These partnerships aim to strengthen European industry, promote sustainability, and reduce reliance on imported technologies. The Commission and private partners will invest a combined €510 million in these initiatives from 2025 to 2030.  \\n'),\n",
       "  0.7975907921791077)]"
      ]
     },
     "execution_count": 7,
     "metadata": {},
     "output_type": "execute_result"
    }
   ],
   "source": [
    "responder.answer_with_community_reports(query=\"What is the European Commission telling Apple to do?\")"
   ]
  },
  {
   "cell_type": "markdown",
   "metadata": {},
   "source": [
    "## Full Answer"
   ]
  },
  {
   "cell_type": "code",
   "execution_count": null,
   "metadata": {},
   "outputs": [],
   "source": [
    "responder.answer(query=\"What is Europe doing for remote areas?\", filter={\"community_leiden\": 0})"
   ]
  }
 ],
 "metadata": {
  "kernelspec": {
   "display_name": ".venv",
   "language": "python",
   "name": "python3"
  },
  "language_info": {
   "codemirror_mode": {
    "name": "ipython",
    "version": 3
   },
   "file_extension": ".py",
   "mimetype": "text/x-python",
   "name": "python",
   "nbconvert_exporter": "python",
   "pygments_lexer": "ipython3",
   "version": "3.11.5"
  }
 },
 "nbformat": 4,
 "nbformat_minor": 2
}
