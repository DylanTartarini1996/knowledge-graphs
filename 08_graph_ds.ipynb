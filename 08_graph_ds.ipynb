{
 "cells": [
  {
   "cell_type": "code",
   "execution_count": 1,
   "metadata": {},
   "outputs": [],
   "source": [
    "import os\n",
    "from dotenv import load_dotenv\n",
    "\n",
    "from src.config import Source, ChunkerConf, LLMConf, EmbedderConf, KnowledgeGraphConfig\n",
    "from src.graph.knowledge_graph import KnowledgeGraph\n",
    "from src.ingestion.embedder import ChunkEmbedder\n",
    "\n",
    "import networkx as nx\n",
    "\n",
    "env = load_dotenv('config.env')"
   ]
  },
  {
   "cell_type": "markdown",
   "metadata": {},
   "source": [
    "## Graph Data Science\n",
    "Goal of this notebook is to write some functions to enrich the graph with clustering algos and centrality measures"
   ]
  },
  {
   "cell_type": "code",
   "execution_count": 2,
   "metadata": {},
   "outputs": [],
   "source": [
    "kg_config = KnowledgeGraphConfig(\n",
    "    uri=os.getenv(\"NEO4J_URI\"),\n",
    "    user=os.getenv(\"NEO4J_USERNAME\"),\n",
    "    password=os.getenv(\"NEO4J_PASSWORD\"),\n",
    "    index_name='vector'\n",
    ")\n",
    "\n",
    "embedder_conf = EmbedderConf(\n",
    "    type=os.getenv(\"EMBEDDINGS_TYPE\"),\n",
    "    model=os.getenv(\"EMBEDDINGS_MODEL_NAME\"),\n",
    ")\n",
    "\n",
    "embedder = ChunkEmbedder(conf=embedder_conf)\n",
    "\n",
    "kg = KnowledgeGraph(conf=kg_config,embeddings_model=embedder.embeddings)"
   ]
  },
  {
   "cell_type": "code",
   "execution_count": null,
   "metadata": {},
   "outputs": [],
   "source": [
    "kg.number_of_nodes"
   ]
  },
  {
   "cell_type": "code",
   "execution_count": 4,
   "metadata": {},
   "outputs": [],
   "source": [
    "G = kg.get_digraph()"
   ]
  },
  {
   "cell_type": "code",
   "execution_count": null,
   "metadata": {},
   "outputs": [],
   "source": [
    "G.nodes"
   ]
  },
  {
   "cell_type": "code",
   "execution_count": null,
   "metadata": {},
   "outputs": [],
   "source": [
    "G.nodes.data()"
   ]
  },
  {
   "cell_type": "code",
   "execution_count": null,
   "metadata": {},
   "outputs": [],
   "source": [
    "list(G.nodes())[0]"
   ]
  },
  {
   "cell_type": "code",
   "execution_count": null,
   "metadata": {},
   "outputs": [],
   "source": [
    "G.edges"
   ]
  },
  {
   "cell_type": "markdown",
   "metadata": {},
   "source": [
    "Use the nodes and edges and cluster them using Graph algos from networkx."
   ]
  },
  {
   "cell_type": "markdown",
   "metadata": {},
   "source": [
    "## Community Detection: Leiden VS Louvain\n",
    "Both Leiden and Louvain are community detection algorithms for graph clustering, but Leiden improves upon Louvain in several key ways.\n",
    "\n",
    "1️⃣ Louvain Algorithm\n",
    "The Louvain method (Blondel et al., 2008) is a fast, greedy algorithm for modularity optimization.\n",
    "\n",
    "🔹 How It Works  \n",
    "1. Node Merging: Each node starts as its own community.\n",
    "2. Modularity Gain: Nodes join neighboring communities to maximize modularity.\n",
    "3. Aggregation: Communities are collapsed into \"super-nodes,\" and steps 1–2 repeat.\n",
    "4. Stops when modularity no longer improves.  \n",
    "\n",
    "✅ Pros  \n",
    "✔ Fast & scalable (works on large graphs)  \n",
    "✔ Good modularity scores  \n",
    "✔ Widely used in network science  \n",
    "\n",
    "❌ Cons  \n",
    "❌ Produces non-optimal partitions (sometimes \"bad\" communities)  \n",
    "❌ Nodes can get stuck in local optima (suboptimal clustering)  \n",
    "❌ Does not guarantee connected communities  \n",
    "\n",
    "\n",
    "2️⃣ Leiden Algorithm\n",
    "The Leiden method (Traag et al., 2019) is an improved version of Louvain, fixing many of its issues.\n",
    "\n",
    "🔹 How It Works (Improved Louvain)   \n",
    "1. Refines Louvain's modularity optimization\n",
    "2. Ensures well-connected communities\n",
    "3. Refines partitions to avoid \"bad\" community structures  \n",
    "\n",
    "✅ Pros  \n",
    "✔ More stable partitions (less randomness)  \n",
    "✔ Guarantees well-connected communities  \n",
    "✔ Avoids Louvain's local optima issue  \n",
    "✔ Works better on directed & weighted graphs  \n",
    "\n",
    "❌ Cons  \n",
    "❌ Slightly slower than Louvain  \n",
    "❌ Still dependent on resolution parameters  \n",
    "\n",
    "\n",
    "| **Feature**                    | **Louvain**            | **Leiden**               |\n",
    "|---------------------------------|------------------------|--------------------------|\n",
    "| **Speed**                       | Faster                | Slightly slower          |\n",
    "| **Partition Quality**           | Can be unstable       | More refined & stable    |\n",
    "| **Community Connectivity**      | May have disconnected clusters | Always well-connected |\n",
    "| **Avoids Local Optima?**        | No                    | Yes                      |\n",
    "| **Better for Weighted Graphs?** | No                    | Yes  "
   ]
  },
  {
   "cell_type": "markdown",
   "metadata": {},
   "source": [
    "## Modularity \n",
    "Modularity is a metric that measures the strength of division of a network into communities (clusters). It compares:  \n",
    "✔ The actual number of edges inside communities  \n",
    "✔ The expected number of edges if randomly placed  \n",
    "\n",
    "Higher modularity (closer to 1) → Strong, well-separated communities\n",
    "Lower modularity (closer to 0 or negative) → Weak or no community structure\n",
    "\n",
    "$`Q=\\frac{1}{2m} \\sum_{ij} \\left( A_{ij} - \\frac{k_i k_j}{2m} \\right) \\delta(c_i, c_j)`$\n",
    "\n",
    "where:  \n",
    "- $`A_{ij}`$ = adjacency matrix (1 if edge exists, 0 otherwise)  \n",
    "- $`( k_i)`$ , $`(k_j)`$ = degrees of nodes \\( i \\) and \\( j \\)  \n",
    "- $`(m)`$ = total number of edges in the graph  \n",
    "- $`(\\delta(c_i, c_j))`$ = 1 if nodes \\( i \\) and \\( j \\) belong to the same community, 0 otherwise  \n",
    "\n",
    "**🔹 Interpretation:**  \n",
    "- \\( Q \\) **close to 1** → Strong, well-defined communities  \n",
    "- \\( Q \\) **close to 0 or negative** → Weak or no community structure  "
   ]
  },
  {
   "cell_type": "code",
   "execution_count": 26,
   "metadata": {},
   "outputs": [],
   "source": [
    "import community\n",
    "from typing import Tuple\n",
    "from logging import getLogger\n",
    "\n",
    "logger = getLogger(__name__)\n",
    "\n",
    "def detect_louvain_communities(G: nx.DiGraph, return_modularity:bool=True) -> nx.DiGraph | Tuple[nx.DiGraph, float]:\n",
    "    \n",
    "    G_undirected = G.to_undirected()\n",
    "\n",
    "    partition = community.best_partition(G_undirected)  # Louvain method\n",
    "\n",
    "    nx.set_node_attributes(G, partition, \"community_louvain\")  # Store communities in node attributes\n",
    "\n",
    "    if not return_modularity:\n",
    "\n",
    "        return G\n",
    "    \n",
    "    else: \n",
    "        modularity = community.modularity(partition, G_undirected)\n",
    "\n",
    "        logger.info(f\"Modularity based on Louvain communities: {modularity}\")\n",
    "\n",
    "        return G, modularity"
   ]
  },
  {
   "cell_type": "code",
   "execution_count": null,
   "metadata": {},
   "outputs": [],
   "source": [
    "G, modularity = detect_louvain_communities(G)\n",
    "\n",
    "print(f\"Modularity based on Louvain communities: {modularity}\")\n",
    "\n",
    "for node, data in list(G.nodes(data=True))[:5]:\n",
    "    print(f\"Node {node} → Community {data['community_louvain']}\")"
   ]
  },
  {
   "cell_type": "code",
   "execution_count": 30,
   "metadata": {},
   "outputs": [],
   "source": [
    "import igraph as ig\n",
    "import leidenalg\n",
    "\n",
    "def detect_leiden_communities(G: nx.DiGraph, return_modularity:bool=True) -> nx.DiGraph | Tuple[nx.DiGraph, float]:\n",
    "    \"\"\"Convert nx.DiGraph to igraph and run Leiden algorithm\"\"\"\n",
    "    \n",
    "    # Convert networkx to igraph\n",
    "    mapping = {node: i for i, node in enumerate(G.nodes())}  # Node mapping\n",
    "    reverse_mapping = {i: node for node, i in mapping.items()}\n",
    "    \n",
    "    # Create igraph graph\n",
    "    ig_G = ig.Graph(directed=True)\n",
    "    ig_G.add_vertices(len(G.nodes()))\n",
    "    ig_G.add_edges([(mapping[u], mapping[v]) for u, v in G.edges()])\n",
    "    \n",
    "    partition = leidenalg.find_partition(ig_G, leidenalg.ModularityVertexPartition)\n",
    "\n",
    "    # Assign community labels back to NetworkX\n",
    "    for i, comm in enumerate(partition):\n",
    "        for node in comm:\n",
    "            G.nodes[reverse_mapping[node]][\"community_leiden\"] = i \n",
    "    \n",
    "    if not return_modularity:\n",
    "        return G\n",
    "    \n",
    "    else:\n",
    "        modularity = partition.modularity\n",
    "\n",
    "        logger.info(f\"Modularity based on Leiden communities: {modularity}\")\n",
    "\n",
    "        return G, modularity\n",
    "\n"
   ]
  },
  {
   "cell_type": "code",
   "execution_count": null,
   "metadata": {},
   "outputs": [],
   "source": [
    "G, modularity = detect_leiden_communities(G)\n",
    "\n",
    "print(f\"Modularity based on Leiden communities: {modularity}\")\n",
    "\n",
    "for node, data in list(G.nodes(data=True))[:5]:\n",
    "    print(f\"Node {node} → Community {data['community_leiden']}\")"
   ]
  },
  {
   "cell_type": "code",
   "execution_count": null,
   "metadata": {},
   "outputs": [],
   "source": [
    "# TODO add this as a graph-wide property -> do it for both Leiden and Louvain\n",
    "def store_modularity_in_neo4j(modularity, driver):\n",
    "    \"\"\"Save modularity score as a graph-wide property\"\"\"\n",
    "    with driver.session() as session:\n",
    "        session.run(\"MERGE (m:GraphMetric {name: 'modularity'}) SET m.value = $modularity\", \n",
    "                    modularity=modularity)\n",
    "\n",
    "store_modularity_in_neo4j(modularity, self._driver)"
   ]
  },
  {
   "cell_type": "markdown",
   "metadata": {},
   "source": [
    "## Centrality measures\n",
    "1️⃣ PageRank (Best for Directed Graphs!)\n",
    "* Measures importance based on incoming edges\n",
    "* Works great for web networks, citations, or social graphs\n",
    "* Can highlight authoritative nodes inside a community\n",
    "\n",
    "2️⃣ Betweenness Centrality (Good for Finding Bridges)\n",
    "* Measures how often a node acts as a bridge\n",
    "* High values indicate nodes connecting different communities\n",
    "* Useful for detecting influencers or bottlenecks\n",
    "\n",
    "3️⃣ Closeness Centrality (Who is the \"Core\" of a Community?)\n",
    "* Measures how close a node is to others\n",
    "* Useful for finding well-connected members inside a cluster"
   ]
  },
  {
   "cell_type": "code",
   "execution_count": 32,
   "metadata": {},
   "outputs": [],
   "source": [
    "def compute_centralities(G: nx.DiGraph | nx.Graph) -> nx.DiGraph | nx.Graph:\n",
    "    \"\"\"Compute PageRank, Betweenness and Closeness Centralities and store them as metadata in the graph\"\"\"\n",
    "    \n",
    "    pr = nx.pagerank(G, alpha=0.85)\n",
    "    bc = nx.betweenness_centrality(G)\n",
    "    cc = nx.closeness_centrality(G)\n",
    "\n",
    "    nx.set_node_attributes(G, pr, \"pagerank\")\n",
    "    nx.set_node_attributes(G, bc, \"betweenness\")\n",
    "    nx.set_node_attributes(G, cc, \"closeness\")\n",
    "    \n",
    "    return G"
   ]
  },
  {
   "cell_type": "code",
   "execution_count": null,
   "metadata": {},
   "outputs": [],
   "source": [
    "G = compute_centralities(G)\n",
    "\n",
    "for node, data in list(G.nodes(data=True))[:5]:\n",
    "    print(f\"Node {node} → PageRank {data['pagerank']}\")\n",
    "    print(f\"Node {node} → Betweenness {data['betweenness']}\")\n",
    "    print(f\"Node {node} → Closeness {data['closeness']}\")\n"
   ]
  },
  {
   "cell_type": "code",
   "execution_count": 36,
   "metadata": {},
   "outputs": [],
   "source": [
    "import matplotlib.pyplot as plt\n",
    "import networkx as nx\n",
    "import matplotlib.cm as cm"
   ]
  },
  {
   "cell_type": "code",
   "execution_count": 37,
   "metadata": {},
   "outputs": [],
   "source": [
    "pagerank_values = nx.get_node_attributes(G, \"pagerank\")\n",
    "\n",
    "min_pr = min(pagerank_values.values())\n",
    "max_pr = max(pagerank_values.values())\n",
    "\n",
    "node_size = [5000 * (pagerank_values[node] - min_pr) / (max_pr - min_pr) for node in G.nodes]\n",
    "\n",
    "cmap = cm.plasma  # You can choose other colormaps like 'viridis', 'inferno', etc.\n",
    "node_color = [pagerank_values[node] for node in G.nodes]  # Map PageRank to color\n",
    "\n"
   ]
  },
  {
   "cell_type": "code",
   "execution_count": null,
   "metadata": {},
   "outputs": [],
   "source": [
    "# Plotting the graph\n",
    "plt.figure(figsize=(12, 12))\n",
    "\n",
    "# Layout of the graph (e.g., spring layout)\n",
    "pos = nx.spring_layout(G, seed=42)  # You can use other layouts (e.g., circular, spectral)\n",
    "\n",
    "# Draw the graph with custom node size and color based on PageRank\n",
    "nx.draw(\n",
    "    G,\n",
    "    pos,\n",
    "    with_labels=False,\n",
    "    node_size=node_size,       # Node size based on PageRank\n",
    "    node_color=node_color,     # Node color based on PageRank\n",
    "    cmap=cmap,                 # Colormap\n",
    "    font_size=10,              # Font size for node labels\n",
    "    font_weight='bold',        # Font weight for node labels\n",
    "    edge_color='gray',         # Edge color\n",
    "    alpha=0.7                 # Transparency of the node\n",
    ")\n",
    "\n",
    "# Add color bar to show the PageRank scale\n",
    "sm = plt.cm.ScalarMappable(cmap=cmap, norm=plt.Normalize(vmin=min_pr, vmax=max_pr))\n",
    "sm.set_array([])  # Empty array for the color bar\n",
    "\n",
    "# Display the plot\n",
    "plt.title(\"DiGraph Visualized with PageRank\")\n",
    "plt.show()"
   ]
  },
  {
   "cell_type": "code",
   "execution_count": null,
   "metadata": {},
   "outputs": [],
   "source": [
    "bt_values = nx.get_node_attributes(G, \"betweenness\")\n",
    "\n",
    "min_bt = min(bt_values.values())\n",
    "max_bt = max(bt_values.values())\n",
    "\n",
    "node_size = [5000 * (bt_values[node] - min_bt) / (max_bt - min_bt) for node in G.nodes]\n",
    "\n",
    "cmap = cm.viridis\n",
    "node_color = [bt_values[node] for node in G.nodes]  \n",
    "\n",
    "plt.figure(figsize=(12, 12))\n",
    "pos = nx.spring_layout(G, seed=42) \n",
    "nx.draw(\n",
    "    G,\n",
    "    pos,\n",
    "    with_labels=False,\n",
    "    node_size=node_size,       \n",
    "    node_color=node_color,     \n",
    "    cmap=cmap,                 \n",
    "    font_size=10,              \n",
    "    font_weight='bold',        \n",
    "    edge_color='gray',         \n",
    "    alpha=0.7                 \n",
    ")\n",
    "\n",
    "sm = plt.cm.ScalarMappable(cmap=cmap, norm=plt.Normalize(vmin=min_bt, vmax=max_bt))\n",
    "sm.set_array([]) \n",
    "\n",
    "# Display the plot\n",
    "plt.title(\"DiGraph Visualized with Betweenness Centrality\")\n",
    "plt.show()"
   ]
  },
  {
   "cell_type": "code",
   "execution_count": null,
   "metadata": {},
   "outputs": [],
   "source": [
    "ct_values = nx.get_node_attributes(G, \"closeness\")\n",
    "\n",
    "min_ct = min(ct_values.values())\n",
    "max_ct = max(ct_values.values())\n",
    "\n",
    "node_size = [5000 * (ct_values[node] - min_ct) / (max_ct - min_ct) for node in G.nodes]\n",
    "\n",
    "cmap = cm.inferno\n",
    "node_color = [ct_values[node] for node in G.nodes]  \n",
    "\n",
    "plt.figure(figsize=(12, 12))\n",
    "pos = nx.spring_layout(G, seed=42) \n",
    "nx.draw(\n",
    "    G,\n",
    "    pos,\n",
    "    with_labels=False,\n",
    "    node_size=node_size,       \n",
    "    node_color=node_color,     \n",
    "    cmap=cmap,                 \n",
    "    font_size=10,              \n",
    "    font_weight='bold',        \n",
    "    edge_color='gray',         \n",
    "    alpha=0.7                 \n",
    ")\n",
    "\n",
    "sm = plt.cm.ScalarMappable(cmap=cmap, norm=plt.Normalize(vmin=min_ct, vmax=max_ct))\n",
    "sm.set_array([]) \n",
    "\n",
    "# Display the plot\n",
    "plt.title(\"DiGraph Visualized with Closeness Centrality\")\n",
    "plt.show()"
   ]
  },
  {
   "cell_type": "markdown",
   "metadata": {},
   "source": [
    "## Code to Update Neo4j"
   ]
  },
  {
   "cell_type": "code",
   "execution_count": null,
   "metadata": {},
   "outputs": [],
   "source": [
    "def update_neo4j(G, driver):\n",
    "    \"\"\"Update Neo4j nodes with Leiden/Louvain community and centrality scores\"\"\"\n",
    "    with driver.session() as session:\n",
    "        for node, data in G.nodes(data=True):\n",
    "            query = \"\"\"\n",
    "            MATCH (n) WHERE elementId(n) = $node_id\n",
    "            SET n.community = $community,\n",
    "                n.pagerank = $pagerank,\n",
    "                n.betweenness = $betweenness\n",
    "            \"\"\"\n",
    "            session.run(query, \n",
    "                        node_id=node, \n",
    "                        community=int(data.get(\"community\", -1)), \n",
    "                        pagerank=float(data.get(\"pagerank\", 0.0)), \n",
    "                        betweenness=float(data.get(\"betweenness\", 0.0)))\n",
    "\n",
    "# Connect to Neo4j and update the database\n",
    "driver = GraphDatabase.driver(\"bolt://localhost:7687\", auth=(\"neo4j\", \"password\"))\n",
    "update_neo4j(G, driver)\n",
    "driver.close()"
   ]
  }
 ],
 "metadata": {
  "kernelspec": {
   "display_name": ".venv",
   "language": "python",
   "name": "python3"
  },
  "language_info": {
   "codemirror_mode": {
    "name": "ipython",
    "version": 3
   },
   "file_extension": ".py",
   "mimetype": "text/x-python",
   "name": "python",
   "nbconvert_exporter": "python",
   "pygments_lexer": "ipython3",
   "version": "3.12.8"
  }
 },
 "nbformat": 4,
 "nbformat_minor": 2
}
